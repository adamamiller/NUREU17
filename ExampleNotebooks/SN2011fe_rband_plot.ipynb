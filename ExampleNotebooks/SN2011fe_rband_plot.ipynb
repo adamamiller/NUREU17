{
 "cells": [
  {
   "cell_type": "code",
   "execution_count": 4,
   "metadata": {
    "collapsed": false
   },
   "outputs": [
    {
     "data": {
      "image/png": "[encoded data removed]",
      "text/plain": [
       "<matplotlib.figure.Figure at 0x109c74850>"
      ]
     },
     "metadata": {},
     "output_type": "display_data"
    }
   ],
   "source": [
    "# import necessary libraries\n",
    "import json\n",
    "import matplotlib.pyplot as plt\n",
    "import numpy as np\n",
    "from scipy.optimize import curve_fit\n",
    "\n",
    "# open and load the data \n",
    "source = open(\"SN2011fe.json\")\n",
    "json_data = json.load(source)\n",
    "\n",
    "#limit JSON data to just photometry elements\n",
    "photo_data = json_data['SN2011fe']['photometry'] \n",
    "\n",
    "#populate an array of just the R band elements\n",
    "r_bands = []\n",
    "for r in range(len(photo_data) - 1):\n",
    "\tif('band' in photo_data[r] and photo_data[r]['band'] == 'R'):\n",
    "\t\tr_bands.append(photo_data[r])\n",
    "\n",
    "#create arrays to hold the time and corresponding magnitude and error\n",
    "magnitudes = []\n",
    "mag_errors = []\n",
    "times = []\n",
    "\n",
    "#populate the arrays\n",
    "for r in r_bands:\n",
    "\tmagnitudes.append(float(r['magnitude']))\n",
    "\ttimes.append(float(r['time']))\n",
    "\tmag_errors.append(float(r['e_magnitude']))\n",
    "\n",
    "#convert magnitudes to flux\n",
    "magnitudes = np.array(magnitudes)\n",
    "flux = 10**(-2*magnitudes / 5) \n",
    "\n",
    "#convert magnitude errors to flux errors\n",
    "mag_errors = np.array(mag_errors)\n",
    "mag_max = magnitudes + mag_errors\n",
    "flux_max = 10**(-2*mag_max / 5)\n",
    "flux_errors = flux_max - flux\n",
    "\n",
    "\n",
    "#define Kapernka function to model data\n",
    "def FitFunc_(t, t_0, A, B, t_1, Tfall, Trise):\n",
    "\tfirst = A * (1 + (B * (t - t_1)*(t - t_1)))\n",
    "\tvar = -(t - t_0)\n",
    "\tsecond = np.exp(var / Tfall)\n",
    "\tthird = 1 + np.exp(var / Trise)\n",
    "\treturn first * (second / third)\n",
    "\t\n",
    "#shift times to start at 0; for curve_fit\n",
    "times2 = np.array(times)\n",
    "times2 = times2 - times2[0]\n",
    "\n",
    "\n",
    "#store priors for the coefficients\n",
    "priors = [50, 20, 20, 50, 50, 50]\n",
    "\n",
    "#find the bestfit coefficients for the Kapenka function\n",
    "fitCoeffs, Covars = curve_fit(FitFunc_, times2, flux, priors)\n",
    "\n",
    "\n",
    "#Store the coefficients\n",
    "bestfit_t = np.linspace(times2[0], times2[-1], 50)\n",
    "bestfit_t_0 = fitCoeffs[0]\n",
    "bestfit_A = fitCoeffs[1]\n",
    "bestfit_B = fitCoeffs[2]\n",
    "bestfit_t_1 = fitCoeffs[3]\n",
    "bestfit_Tfall = fitCoeffs[4]\n",
    "bestfit_Trise = fitCoeffs[5]\n",
    "\n",
    "\n",
    "#Grab bestfit fluxes\n",
    "bestfit_flux = FitFunc_(bestfit_t, bestfit_t_0, bestfit_A, bestfit_B, bestfit_t_1, bestfit_Tfall, bestfit_Trise)\n",
    "\n",
    "\n",
    "#Plot data and bestfit line\n",
    "plt.errorbar(times2, flux, yerr=flux_errors, color='red', label='real data', fmt = 'o', markersize = 2.5)\n",
    "plt.plot(bestfit_t, bestfit_flux, label='Karpenka best fit model')\n",
    "ax = plt.gca()\n",
    "ax.set_ylim([-0.000001, np.amax(flux) + .00001])\n",
    "plt.legend()\n",
    "plt.title('r-band light curve of SN2011fe')\n",
    "plt.xlabel('time')\n",
    "plt.ylabel('relative flux')\n",
    "plt.show()"
   ]
  },
  {
   "cell_type": "code",
   "execution_count": null,
   "metadata": {
    "collapsed": true
   },
   "outputs": [],
   "source": []
  }
 ],
 "metadata": {
  "kernelspec": {
   "display_name": "Python 2",
   "language": "python",
   "name": "python2"
  },
  "language_info": {
   "codemirror_mode": {
    "name": "ipython",
    "version": 2
   },
   "file_extension": ".py",
   "mimetype": "text/x-python",
   "name": "python",
   "nbconvert_exporter": "python",
   "pygments_lexer": "ipython2",
   "version": "2.7.13"
  }
 },
 "nbformat": 4,
 "nbformat_minor": 2
}
