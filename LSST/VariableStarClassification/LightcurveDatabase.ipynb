{
 "cells": [
  {
   "cell_type": "code",
   "execution_count": 1,
   "metadata": {
    "collapsed": true
   },
   "outputs": [],
   "source": [
    "import sqlite3\n",
    "from astropy.table import Table, vstack\n",
    "from cesium import featurize\n",
    "import numpy as np"
   ]
  },
  {
   "cell_type": "code",
   "execution_count": null,
   "metadata": {
    "collapsed": true
   },
   "outputs": [],
   "source": [
    "curve = Table.read('scripts/ptf_query/byOid/curves_oid___51892000005737.tbl', format = 'ipac')\n",
    "curve2 = Table.read('scripts/ptf_query/byOid/curves_oid___51892060003794.tbl', format = 'ipac')\n",
    "curve3 = Table.read('scripts/ptf_query/byOid/curves_oid___51892060016842.tbl', format = 'ipac')"
   ]
  },
  {
   "cell_type": "code",
   "execution_count": null,
   "metadata": {},
   "outputs": [],
   "source": [
    "feats_to_use = ['amplitude',\n",
    "                'flux_percentile_ratio_mid20', \n",
    "                'flux_percentile_ratio_mid35', \n",
    "                'flux_percentile_ratio_mid50', \n",
    "                'flux_percentile_ratio_mid65', \n",
    "                'flux_percentile_ratio_mid80', \n",
    "                'max_slope', \n",
    "                'maximum', \n",
    "                'median',\n",
    "                'median_absolute_deviation', \n",
    "                'minimum',\n",
    "                'percent_amplitude',\n",
    "                'percent_beyond_1_std', \n",
    "                'percent_close_to_median', \n",
    "                'percent_difference_flux_percentile',\n",
    "                'period_fast', \n",
    "                'qso_log_chi2_qsonu',\n",
    "                'qso_log_chi2nuNULL_chi2nu',\n",
    "                'skew',\n",
    "                'std',\n",
    "                'stetson_j',\n",
    "                'stetson_k',\n",
    "                'weighted_average',\n",
    "                'fold2P_slope_10percentile',\n",
    "                'fold2P_slope_90percentile',\n",
    "                'freq1_amplitude1',\n",
    "                'freq1_amplitude2',\n",
    "                'freq1_amplitude3',\n",
    "                'freq1_amplitude4',\n",
    "                'freq1_freq',\n",
    "                'freq1_lambda',\n",
    "                'freq1_rel_phase2',\n",
    "                'freq1_rel_phase3',\n",
    "                'freq1_rel_phase4',\n",
    "                'freq1_signif',\n",
    "                'freq2_amplitude1',\n",
    "                'freq2_amplitude2',\n",
    "                'freq2_amplitude3',\n",
    "                'freq2_amplitude4',\n",
    "                'freq2_freq',\n",
    "                'freq2_rel_phase2',\n",
    "                'freq2_rel_phase3',\n",
    "                'freq2_rel_phase4',\n",
    "                'freq3_amplitude1',\n",
    "                'freq3_amplitude2',\n",
    "                'freq3_amplitude3',\n",
    "                'freq3_amplitude4',\n",
    "                'freq3_freq',\n",
    "                'freq3_rel_phase2',\n",
    "                'freq3_rel_phase3',\n",
    "                'freq3_rel_phase4',\n",
    "                'freq_amplitude_ratio_21',\n",
    "                'freq_amplitude_ratio_31',\n",
    "                'freq_frequency_ratio_21',\n",
    "                'freq_frequency_ratio_31',\n",
    "                'freq_model_max_delta_mags',\n",
    "                'freq_model_min_delta_mags',\n",
    "                'freq_model_phi1_phi2',\n",
    "                'freq_n_alias',\n",
    "                'freq_signif_ratio_21',\n",
    "                'freq_signif_ratio_31',\n",
    "                'freq_varrat',\n",
    "                'freq_y_offset',\n",
    "                'linear_trend',\n",
    "                'medperc90_2p_p',\n",
    "                'p2p_scatter_2praw',\n",
    "                'p2p_scatter_over_mad',\n",
    "                'p2p_scatter_pfold_over_mad',\n",
    "                'p2p_ssqr_diff_over_var',\n",
    "                'scatter_res_raw'\n",
    "               ]"
   ]
  },
  {
   "cell_type": "code",
   "execution_count": null,
   "metadata": {},
   "outputs": [],
   "source": [
    "fset = featurize.featurize_time_series(curve['obsmjd'], curve['mag_autocorr'], curve['magerr_auto'],\n",
    "                                        meta_features = {'oid': str(curve['oid'][0])}, features_to_use = feats_to_use)\n",
    "fset2 = featurize.featurize_time_series(curve2['obsmjd'], curve2['mag_autocorr'], curve2['magerr_auto'],\n",
    "                                        meta_features = {'oid': str(curve2['oid'][0])}, features_to_use = feats_to_use)\n",
    "fset3 = featurize.featurize_time_series(curve3['obsmjd'], curve3['mag_autocorr'], curve3['magerr_auto'],\n",
    "                                        meta_features = {'oid': str(curve3['oid'][0])}, features_to_use = feats_to_use)"
   ]
  },
  {
   "cell_type": "code",
   "execution_count": null,
   "metadata": {},
   "outputs": [],
   "source": [
    "fset"
   ]
  },
  {
   "cell_type": "code",
   "execution_count": null,
   "metadata": {},
   "outputs": [],
   "source": [
    "fset2"
   ]
  },
  {
   "cell_type": "code",
   "execution_count": null,
   "metadata": {},
   "outputs": [],
   "source": [
    "fset3"
   ]
  },
  {
   "cell_type": "code",
   "execution_count": null,
   "metadata": {},
   "outputs": [],
   "source": [
    "conn = sqlite3.connect('test.db')\n",
    "cur = conn.cursor()"
   ]
  },
  {
   "cell_type": "code",
   "execution_count": null,
   "metadata": {},
   "outputs": [],
   "source": [
    "cur.execute(\"\"\"create table feats2(\n",
    "    amplitude Float,\n",
    "    flux_percentile_ratio_mid20 Float, \n",
    "    flux_percentile_ratio_mid35 Float, \n",
    "    flux_percentile_ratio_mid50 Float, \n",
    "    flux_percentile_ratio_mid65 Float, \n",
    "    flux_percentile_ratio_mid80 Float, \n",
    "    max_slope Float, \n",
    "    maximum Float, \n",
    "    median Float,\n",
    "    median_absolute_deviation Float, \n",
    "    minimum Float,\n",
    "    percent_amplitude Float,\n",
    "    percent_beyond_1_std Float, \n",
    "    percent_close_to_median Float,\n",
    "    percent_difference_flux_percentile Float,\n",
    "    period_fast Float, \n",
    "    qso_log_chi2_qsonu Float,\n",
    "    qso_log_chi2nuNULL_chi2nu Float,\n",
    "    skew Float,\n",
    "    std Float,\n",
    "    stetson_j Float,\n",
    "    stetson_k Float,\n",
    "    weighted_average Float,\n",
    "    fold2P_slope_10percentile Float,\n",
    "    fold2P_slope_90percentile Float,\n",
    "    freq1_amplitude1 Float,\n",
    "    freq1_amplitude2 Float,\n",
    "    freq1_amplitude3 Float,\n",
    "    freq1_amplitude4 Float,\n",
    "    freq1_freq Float,\n",
    "    freq1_lambda Float,\n",
    "    freq1_rel_phase2 Float,\n",
    "    freq1_rel_phase3 Float,\n",
    "    freq1_rel_phase4 Float,\n",
    "    freq1_signif Float,\n",
    "    freq2_amplitude1 Float,\n",
    "    freq2_amplitude2 Float,\n",
    "    freq2_amplitude3 Float,\n",
    "    freq2_amplitude4 Float,\n",
    "    freq2_freq Float,\n",
    "    freq2_rel_phase2 Float,\n",
    "    freq2_rel_phase3 Float,\n",
    "    freq2_rel_phase4 Float,\n",
    "    freq3_amplitude1 Float,\n",
    "    freq3_amplitude2 Float,\n",
    "    freq3_amplitude3 Float,\n",
    "    freq3_amplitude4 Float,\n",
    "    freq3_freq Float,\n",
    "    freq3_rel_phase2 Float,\n",
    "    freq3_rel_phase3 Float,\n",
    "    freq3_rel_phase4 Float,\n",
    "    freq_amplitude_ratio_21 Float,\n",
    "    freq_amplitude_ratio_31 Float,\n",
    "    freq_frequency_ratio_21 Float,\n",
    "    freq_frequency_ratio_31 Float,\n",
    "    freq_model_max_delta_mags Float,\n",
    "    freq_model_min_delta_mags Float,\n",
    "    freq_model_phi1_phi2 Float,\n",
    "    freq_n_alias Float,\n",
    "    freq_signif_ratio_21 Float,\n",
    "    freq_signif_ratio_31 Float,\n",
    "    freq_varrat Float,\n",
    "    freq_y_offset Ffloat,\n",
    "    linear_trend Float,\n",
    "    medperc90_2p_p Float,\n",
    "    p2p_scatter_2praw Float,\n",
    "    p2p_scatter_over_mad Float,\n",
    "    p2p_scatter_pfold_over_mad Float,\n",
    "    p2p_ssqr_diff_over_var Float,\n",
    "    scatter_res_raw Float,\n",
    "    oid string unique primary key\n",
    ")\"\"\")"
   ]
  },
  {
   "cell_type": "code",
   "execution_count": null,
   "metadata": {
    "collapsed": true
   },
   "outputs": [],
   "source": [
    "cur.execute(\"\"\"PRAGMA table_info(feats2)\"\"\")\n",
    "cur.fetchall()"
   ]
  },
  {
   "cell_type": "code",
   "execution_count": null,
   "metadata": {
    "collapsed": true
   },
   "outputs": [],
   "source": [
    "def saving (lc, tName, cur): #pass in lightcurve table and cursor\n",
    "    feats_to_use = [\n",
    "                'amplitude',\n",
    "                'flux_percentile_ratio_mid20', \n",
    "                'flux_percentile_ratio_mid35', \n",
    "                'flux_percentile_ratio_mid50', \n",
    "                'flux_percentile_ratio_mid65', \n",
    "                'flux_percentile_ratio_mid80', \n",
    "                'max_slope', \n",
    "                'maximum', \n",
    "                'median',\n",
    "                'median_absolute_deviation', \n",
    "                'minimum',\n",
    "                'percent_amplitude',\n",
    "                'percent_beyond_1_std', \n",
    "                'percent_close_to_median', \n",
    "                'percent_difference_flux_percentile',\n",
    "                'period_fast', \n",
    "                'qso_log_chi2_qsonu',\n",
    "                'qso_log_chi2nuNULL_chi2nu',\n",
    "                'skew',\n",
    "                'std',\n",
    "                'stetson_j',\n",
    "                'stetson_k',\n",
    "                'weighted_average',\n",
    "                'fold2P_slope_10percentile',\n",
    "                'fold2P_slope_90percentile',\n",
    "                'freq1_amplitude1',\n",
    "                'freq1_amplitude2',\n",
    "                'freq1_amplitude3',\n",
    "                'freq1_amplitude4',\n",
    "                'freq1_freq',\n",
    "                'freq1_lambda',\n",
    "                'freq1_rel_phase2',\n",
    "                'freq1_rel_phase3',\n",
    "                'freq1_rel_phase4',\n",
    "                'freq1_signif',\n",
    "                'freq2_amplitude1',\n",
    "                'freq2_amplitude2',\n",
    "                'freq2_amplitude3',\n",
    "                'freq2_amplitude4',\n",
    "                'freq2_freq',\n",
    "                'freq2_rel_phase2',\n",
    "                'freq2_rel_phase3',\n",
    "                'freq2_rel_phase4',\n",
    "                'freq3_amplitude1',\n",
    "                'freq3_amplitude2',\n",
    "                'freq3_amplitude3',\n",
    "                'freq3_amplitude4',\n",
    "                'freq3_freq',\n",
    "                'freq3_rel_phase2',\n",
    "                'freq3_rel_phase3',\n",
    "                'freq3_rel_phase4',\n",
    "                'freq_amplitude_ratio_21',\n",
    "                'freq_amplitude_ratio_31',\n",
    "                'freq_frequency_ratio_21',\n",
    "                'freq_frequency_ratio_31',\n",
    "                'freq_model_max_delta_mags',\n",
    "                'freq_model_min_delta_mags',\n",
    "                'freq_model_phi1_phi2',\n",
    "                'freq_n_alias',\n",
    "                'freq_signif_ratio_21',\n",
    "                'freq_signif_ratio_31',\n",
    "                'freq_varrat',\n",
    "                'freq_y_offset',\n",
    "                'linear_trend',\n",
    "                'medperc90_2p_p',\n",
    "                'p2p_scatter_2praw',\n",
    "                'p2p_scatter_over_mad',\n",
    "                'p2p_scatter_pfold_over_mad',\n",
    "                'p2p_ssqr_diff_over_var',\n",
    "                'scatter_res_raw'\n",
    "               ]\n",
    "    string = \"insert into \" + tName + \"\"\" values (\n",
    "            ?, ?, ?, ?, ?, ?, ?, ?, ?, ?, ?, ?, ?, ?, ?, ?, ?, ?, ?, ?, ?, ?, ?, ?, ?, ?, ?, ?, ?, ?, ?, ?, ?, ?, ?, ?, \n",
    "            ?, ?, ?, ?, ?, ?, ?, ?, ?, ?, ?, ?, ?, ?, ?, ?, ?, ?, ?, ?, ?, ?, ?, ?, ?, ?, ?, ?, ?, ?, ?, ?, ?, ?, ?)\"\"\"\n",
    "    \n",
    "    for oid in np.unique(lc['oid']):\n",
    "        mask = np.where(lc['oid'] == oid)\n",
    "        \n",
    "        fset = featurize.featurize_time_series(lc[mask]['obsmjd'], lc[mask]['mag_autocorr'], lc[mask]['magerr_auto'],\n",
    "                                        meta_features = {'oid': str(oid)}, features_to_use = feats_to_use)\n",
    "        \n",
    "        try: \n",
    "            cur.execute(string, fset.get_values()[0])\n",
    "        except Exception as e:\n",
    "            print(e)\n",
    "            print('Problem with ', oid)"
   ]
  },
  {
   "cell_type": "code",
   "execution_count": null,
   "metadata": {},
   "outputs": [],
   "source": [
    "saving(curve, 'feats2', cur)"
   ]
  },
  {
   "cell_type": "code",
   "execution_count": null,
   "metadata": {
    "collapsed": true
   },
   "outputs": [],
   "source": [
    "saving(curve2, 'feats2', cur)"
   ]
  },
  {
   "cell_type": "code",
   "execution_count": null,
   "metadata": {},
   "outputs": [],
   "source": [
    "saving(curve3, 'feats2', cur)"
   ]
  },
  {
   "cell_type": "code",
   "execution_count": null,
   "metadata": {},
   "outputs": [],
   "source": [
    "cur.execute(\"\"\"select oid from feats2\"\"\")\n",
    "cur.fetchall()"
   ]
  },
  {
   "cell_type": "code",
   "execution_count": null,
   "metadata": {
    "collapsed": true
   },
   "outputs": [],
   "source": [
    "cur.execute(\"\"\"select * from feats2\"\"\")\n",
    "cur.fetchall()"
   ]
  },
  {
   "cell_type": "code",
   "execution_count": null,
   "metadata": {},
   "outputs": [],
   "source": [
    "sqlite3.Connection.close(conn)"
   ]
  },
  {
   "cell_type": "code",
   "execution_count": null,
   "metadata": {
    "collapsed": true
   },
   "outputs": [],
   "source": [
    "cur.execute(\"\"\"delete from feats2\"\"\")\n",
    "cur.fetchall()"
   ]
  },
  {
   "cell_type": "code",
   "execution_count": null,
   "metadata": {
    "collapsed": true
   },
   "outputs": [],
   "source": [
    "cur.execute(\"drop table feats2\")"
   ]
  }
 ],
 "metadata": {
  "kernelspec": {
   "display_name": "Python 3",
   "language": "python",
   "name": "python3"
  },
  "language_info": {
   "codemirror_mode": {
    "name": "ipython",
    "version": 3
   },
   "file_extension": ".py",
   "mimetype": "text/x-python",
   "name": "python",
   "nbconvert_exporter": "python",
   "pygments_lexer": "ipython3",
   "version": "3.6.1"
  }
 },
 "nbformat": 4,
 "nbformat_minor": 2
}
