{
 "cells": [
  {
   "cell_type": "code",
   "execution_count": 1,
   "metadata": {
    "collapsed": true
   },
   "outputs": [],
   "source": [
    "import sqlite3\n",
    "from astropy.table import Table\n",
    "import matplotlib.pyplot as plt\n",
    "%matplotlib inline\n",
    "from cesium import featurize\n",
    "import numpy as np"
   ]
  },
  {
   "cell_type": "code",
   "execution_count": 2,
   "metadata": {},
   "outputs": [],
   "source": [
    "curve = Table.read('scripts/ptf_query/byOid/curves_oid___27882090015687.tbl', format = 'ipac')\n",
    "curve2 = Table.read('scripts/ptf_query/byOid/curves_oid_1000492020008501.tbl', format = 'ipac')"
   ]
  },
  {
   "cell_type": "code",
   "execution_count": 3,
   "metadata": {},
   "outputs": [
    {
     "name": "stderr",
     "output_type": "stream",
     "text": [
      "/home/nke2/miniconda3/envs/tmpJupyter/lib/python3.6/site-packages/dask/async.py:13: UserWarning: `dask.async.get_sync` has been moved to `dask.local.get_sync`, please update your imports\n",
      "  warnings.warn(_msg.format('get_sync'))\n"
     ]
    }
   ],
   "source": [
    "feats_to_use = ['amplitude',\n",
    "                'flux_percentile_ratio_mid20', \n",
    "                'flux_percentile_ratio_mid35', \n",
    "                'flux_percentile_ratio_mid50', \n",
    "                'flux_percentile_ratio_mid65', \n",
    "                'flux_percentile_ratio_mid80', \n",
    "                'max_slope', \n",
    "                'maximum', \n",
    "                'median',\n",
    "                'median_absolute_deviation', \n",
    "                'minimum',\n",
    "                'percent_amplitude',\n",
    "                'percent_beyond_1_std', \n",
    "                'percent_close_to_median', \n",
    "                'percent_difference_flux_percentile',\n",
    "                'period_fast', \n",
    "                'qso_log_chi2_qsonu',\n",
    "                'qso_log_chi2nuNULL_chi2nu',\n",
    "                'skew',\n",
    "                'std',\n",
    "                'stetson_j',\n",
    "                'stetson_k',\n",
    "                'weighted_average',\n",
    "                'fold2P_slope_10percentile',\n",
    "                'fold2P_slope_90percentile',\n",
    "                'freq1_amplitude1',\n",
    "                'freq1_amplitude2',\n",
    "                'freq1_amplitude3',\n",
    "                'freq1_amplitude4',\n",
    "                'freq1_freq',\n",
    "                'freq1_lambda',\n",
    "                'freq1_rel_phase2',\n",
    "                'freq1_rel_phase3',\n",
    "                'freq1_rel_phase4',\n",
    "                'freq1_signif',\n",
    "                'freq2_amplitude1',\n",
    "                'freq2_amplitude2',\n",
    "                'freq2_amplitude3',\n",
    "                'freq2_amplitude4',\n",
    "                'freq2_freq',\n",
    "                'freq2_rel_phase2',\n",
    "                'freq2_rel_phase3',\n",
    "                'freq2_rel_phase4',\n",
    "                'freq3_amplitude1',\n",
    "                'freq3_amplitude2',\n",
    "                'freq3_amplitude3',\n",
    "                'freq3_amplitude4',\n",
    "                'freq3_freq',\n",
    "                'freq3_rel_phase2',\n",
    "                'freq3_rel_phase3',\n",
    "                'freq3_rel_phase4',\n",
    "                'freq_amplitude_ratio_21',\n",
    "                'freq_amplitude_ratio_31',\n",
    "                'freq_frequency_ratio_21',\n",
    "                'freq_frequency_ratio_31',\n",
    "                'freq_model_max_delta_mags',\n",
    "                'freq_model_min_delta_mags',\n",
    "                'freq_model_phi1_phi2',\n",
    "                'freq_n_alias',\n",
    "                'freq_signif_ratio_21',\n",
    "                'freq_signif_ratio_31',\n",
    "                'freq_varrat',\n",
    "                'freq_y_offset',\n",
    "                'linear_trend',\n",
    "                'medperc90_2p_p',\n",
    "                'p2p_scatter_2praw',\n",
    "                'p2p_scatter_over_mad',\n",
    "                'p2p_scatter_pfold_over_mad',\n",
    "                'p2p_ssqr_diff_over_var',\n",
    "                'scatter_res_raw'\n",
    "               ]\n",
    "fset = featurize.featurize_time_series(curve['obsmjd'], curve['mag_autocorr'], curve['magerr_auto'],\n",
    "                                       meta_features = {'oid': str(curve['oid'][0])}, features_to_use = feats_to_use)"
   ]
  },
  {
   "cell_type": "code",
   "execution_count": 4,
   "metadata": {},
   "outputs": [
    {
     "name": "stderr",
     "output_type": "stream",
     "text": [
      "/home/nke2/miniconda3/envs/tmpJupyter/lib/python3.6/site-packages/dask/async.py:13: UserWarning: `dask.async.get_sync` has been moved to `dask.local.get_sync`, please update your imports\n",
      "  warnings.warn(_msg.format('get_sync'))\n"
     ]
    }
   ],
   "source": [
    "fset2 = featurize.featurize_time_series(curve2['obsmjd'], curve2['mag_autocorr'], curve2['magerr_auto'],\n",
    "                                        meta_features = {'oid': str(curve2['oid'][0])}, features_to_use = feats_to_use)"
   ]
  },
  {
   "cell_type": "code",
   "execution_count": 5,
   "metadata": {
    "collapsed": true
   },
   "outputs": [],
   "source": [
    "conn = sqlite3.connect('featurestest.db')\n",
    "cur = conn.cursor()"
   ]
  },
  {
   "cell_type": "code",
   "execution_count": null,
   "metadata": {},
   "outputs": [],
   "source": [
    "cur.execute(\"\"\"create table feats2(\n",
    "    amplitude,\n",
    "    flux_percentile_ratio_mid20, \n",
    "    flux_percentile_ratio_mid35, \n",
    "    flux_percentile_ratio_mid50, \n",
    "    flux_percentile_ratio_mid65, \n",
    "    flux_percentile_ratio_mid80, \n",
    "    max_slope, \n",
    "    maximum, \n",
    "    median,\n",
    "    median_absolute_deviation, \n",
    "    minimum, \n",
    "    percent_amplitude,\n",
    "    percent_beyond_1_std, \n",
    "    percent_close_to_median, \n",
    "    percent_difference_flux_percentile,\n",
    "    period_fast, \n",
    "    qso_log_chi2_qsonu,\n",
    "    qso_log_chi2nuNULL_chi2nu,\n",
    "    skew,\n",
    "    std,\n",
    "    stetson_j,\n",
    "    stetson_k,\n",
    "    weighted_average,\n",
    "    fold2P_slope_10percentile,\n",
    "    fold2P_slope_90percentile,\n",
    "    freq1_amplitude1,\n",
    "    freq1_amplitude2,\n",
    "    freq1_amplitude3,\n",
    "    freq1_amplitude4,\n",
    "    freq1_freq,\n",
    "    freq1_lambda,\n",
    "    freq1_rel_phase2,\n",
    "    freq1_rel_phase3,\n",
    "    freq1_rel_phase4,\n",
    "    freq1_signif,\n",
    "    freq2_amplitude1,\n",
    "    freq2_amplitude2,\n",
    "    freq2_amplitude3,\n",
    "    freq2_amplitude4,\n",
    "    freq2_freq,\n",
    "    freq2_rel_phase2,\n",
    "    freq2_rel_phase3,\n",
    "    freq2_rel_phase4,\n",
    "    freq3_amplitude1,\n",
    "    freq3_amplitude2,\n",
    "    freq3_amplitude3,\n",
    "    freq3_amplitude4,\n",
    "    freq3_freq,\n",
    "    freq3_rel_phase2,\n",
    "    freq3_rel_phase3,\n",
    "    freq3_rel_phase4,\n",
    "    freq_amplitude_ratio_21,\n",
    "    freq_amplitude_ratio_31,\n",
    "    freq_frequency_ratio_21,\n",
    "    freq_frequency_ratio_31,\n",
    "    freq_model_max_delta_mags,\n",
    "    freq_model_min_delta_mags,\n",
    "    freq_model_phi1_phi2,\n",
    "    freq_n_alias,\n",
    "    freq_signif_ratio_21,\n",
    "    freq_signif_ratio_31,\n",
    "    freq_varrat,\n",
    "    freq_y_offset,\n",
    "    linear_trend,\n",
    "    medperc90_2p_p,\n",
    "    p2p_scatter_2praw,\n",
    "    p2p_scatter_over_mad,\n",
    "    p2p_scatter_pfold_over_mad,\n",
    "    p2p_ssqr_diff_over_var,\n",
    "    scatter_res_raw,\n",
    "    oid string unique primary key\n",
    ")\"\"\")"
   ]
  },
  {
   "cell_type": "code",
   "execution_count": null,
   "metadata": {},
   "outputs": [],
   "source": [
    "cur.execute(\"drop table feats2\")"
   ]
  },
  {
   "cell_type": "code",
   "execution_count": null,
   "metadata": {
    "scrolled": false
   },
   "outputs": [],
   "source": [
    "cur.execute(\"\"\"insert into feats2 values (\n",
    "            ?, ?, ?, ?, ?, ?, ?, ?, ?, ?, ?, ?, ?, ?, ?, ?, ?, ?, ?, ?, ?, ?, ?, ?, ?, ?, ?, ?, ?, ?, ?, ?, ?, ?, ?, ?, \n",
    "            ?, ?, ?, ?, ?, ?, ?, ?, ?, ?, ?, ?, ?, ?, ?, ?, ?, ?, ?, ?, ?, ?, ?, ?, ?, ?, ?, ?, ?, ?, ?, ?, ?, ?, ?)\"\"\",\n",
    "            fset2.get_values()[0])"
   ]
  },
  {
   "cell_type": "code",
   "execution_count": 6,
   "metadata": {},
   "outputs": [
    {
     "data": {
      "text/plain": [
       "[(0, 'oid', 'string', 0, None, 1),\n",
       " (1, 'amplitude', '', 0, None, 0),\n",
       " (2, 'flux_percentile_ratio_mid20', '', 0, None, 0),\n",
       " (3, 'flux_percentile_ratio_mid35', '', 0, None, 0),\n",
       " (4, 'flux_percentile_ratio_mid50', '', 0, None, 0),\n",
       " (5, 'flux_percentile_ratio_mid65', '', 0, None, 0),\n",
       " (6, 'flux_percentile_ratio_mid80', '', 0, None, 0),\n",
       " (7, 'max_slope', '', 0, None, 0),\n",
       " (8, 'maximum', '', 0, None, 0),\n",
       " (9, 'median', '', 0, None, 0),\n",
       " (10, 'median_absolute_deviation', '', 0, None, 0),\n",
       " (11, 'minimum', '', 0, None, 0),\n",
       " (12, 'percent_amplitude', '', 0, None, 0),\n",
       " (13, 'percent_beyond_1_std', '', 0, None, 0),\n",
       " (14, 'percent_close_to_median', '', 0, None, 0),\n",
       " (15, 'percent_difference_flux_percentile', '', 0, None, 0),\n",
       " (16, 'period_fast', '', 0, None, 0),\n",
       " (17, 'qso_log_chi2_qsonu', '', 0, None, 0),\n",
       " (18, 'qso_log_chi2nuNULL_chi2nu', '', 0, None, 0),\n",
       " (19, 'skew', '', 0, None, 0),\n",
       " (20, 'std', '', 0, None, 0),\n",
       " (21, 'stetson_j', '', 0, None, 0),\n",
       " (22, 'stetson_k', '', 0, None, 0),\n",
       " (23, 'weighted_average', '', 0, None, 0),\n",
       " (24, 'fold2P_slope_10percentile', '', 0, None, 0),\n",
       " (25, 'fold2P_slope_90percentile', '', 0, None, 0),\n",
       " (26, 'freq1_amplitude1', '', 0, None, 0),\n",
       " (27, 'freq1_amplitude2', '', 0, None, 0),\n",
       " (28, 'freq1_amplitude3', '', 0, None, 0),\n",
       " (29, 'freq1_amplitude4', '', 0, None, 0),\n",
       " (30, 'freq1_freq', '', 0, None, 0),\n",
       " (31, 'freq1_lambda', '', 0, None, 0),\n",
       " (32, 'freq1_rel_phase2', '', 0, None, 0),\n",
       " (33, 'freq1_rel_phase3', '', 0, None, 0),\n",
       " (34, 'freq1_rel_phase4', '', 0, None, 0),\n",
       " (35, 'freq1_signif', '', 0, None, 0),\n",
       " (36, 'freq2_amplitude1', '', 0, None, 0),\n",
       " (37, 'freq2_amplitude2', '', 0, None, 0),\n",
       " (38, 'freq2_amplitude3', '', 0, None, 0),\n",
       " (39, 'freq2_amplitude4', '', 0, None, 0),\n",
       " (40, 'freq2_freq', '', 0, None, 0),\n",
       " (41, 'freq2_rel_phase2', '', 0, None, 0),\n",
       " (42, 'freq2_rel_phase3', '', 0, None, 0),\n",
       " (43, 'freq2_rel_phase4', '', 0, None, 0),\n",
       " (44, 'freq3_amplitude1', '', 0, None, 0),\n",
       " (45, 'freq3_amplitude2', '', 0, None, 0),\n",
       " (46, 'freq3_amplitude3', '', 0, None, 0),\n",
       " (47, 'freq3_amplitude4', '', 0, None, 0),\n",
       " (48, 'freq3_freq', '', 0, None, 0),\n",
       " (49, 'freq3_rel_phase2', '', 0, None, 0),\n",
       " (50, 'freq3_rel_phase3', '', 0, None, 0),\n",
       " (51, 'freq3_rel_phase4', '', 0, None, 0),\n",
       " (52, 'freq_amplitude_ratio_21', '', 0, None, 0),\n",
       " (53, 'freq_amplitude_ratio_31', '', 0, None, 0),\n",
       " (54, 'freq_frequency_ratio_21', '', 0, None, 0),\n",
       " (55, 'freq_frequency_ratio_31', '', 0, None, 0),\n",
       " (56, 'freq_model_max_delta_mags', '', 0, None, 0),\n",
       " (57, 'freq_model_min_delta_mags', '', 0, None, 0),\n",
       " (58, 'freq_model_phi1_phi2', '', 0, None, 0),\n",
       " (59, 'freq_n_alias', '', 0, None, 0),\n",
       " (60, 'freq_signif_ratio_21', '', 0, None, 0),\n",
       " (61, 'freq_signif_ratio_31', '', 0, None, 0),\n",
       " (62, 'freq_varrat', '', 0, None, 0),\n",
       " (63, 'freq_y_offset', '', 0, None, 0),\n",
       " (64, 'linear_trend', '', 0, None, 0),\n",
       " (65, 'medperc90_2p_p', '', 0, None, 0),\n",
       " (66, 'p2p_scatter_2praw', '', 0, None, 0),\n",
       " (67, 'p2p_scatter_over_mad', '', 0, None, 0),\n",
       " (68, 'p2p_scatter_pfold_over_mad', '', 0, None, 0),\n",
       " (69, 'p2p_ssqr_diff_over_var', '', 0, None, 0),\n",
       " (70, 'scatter_res_raw', '', 0, None, 0)]"
      ]
     },
     "execution_count": 6,
     "metadata": {},
     "output_type": "execute_result"
    }
   ],
   "source": [
    "cur.execute(\"\"\"PRAGMA table_info(feats2)\"\"\")\n",
    "cur.fetchall()"
   ]
  },
  {
   "cell_type": "code",
   "execution_count": null,
   "metadata": {},
   "outputs": [],
   "source": [
    "def saving (lc, db, tName): #pass in lightcurve table and locaiton of database\n",
    "    feats_to_use = [\n",
    "                'amplitude',\n",
    "                'flux_percentile_ratio_mid20', \n",
    "                'flux_percentile_ratio_mid35', \n",
    "                'flux_percentile_ratio_mid50', \n",
    "                'flux_percentile_ratio_mid65', \n",
    "                'flux_percentile_ratio_mid80', \n",
    "                'max_slope', \n",
    "                'maximum', \n",
    "                'median',\n",
    "                'median_absolute_deviation', \n",
    "                'minimum',\n",
    "                'percent_amplitude',\n",
    "                'percent_beyond_1_std', \n",
    "                'percent_close_to_median', \n",
    "                'percent_difference_flux_percentile',\n",
    "                'period_fast', \n",
    "                'qso_log_chi2_qsonu',\n",
    "                'qso_log_chi2nuNULL_chi2nu',\n",
    "                'skew',\n",
    "                'std',\n",
    "                'stetson_j',\n",
    "                'stetson_k',\n",
    "                'weighted_average',\n",
    "                'fold2P_slope_10percentile',\n",
    "                'fold2P_slope_90percentile',\n",
    "                'freq1_amplitude1',\n",
    "                'freq1_amplitude2',\n",
    "                'freq1_amplitude3',\n",
    "                'freq1_amplitude4',\n",
    "                'freq1_freq',\n",
    "                'freq1_lambda',\n",
    "                'freq1_rel_phase2',\n",
    "                'freq1_rel_phase3',\n",
    "                'freq1_rel_phase4',\n",
    "                'freq1_signif',\n",
    "                'freq2_amplitude1',\n",
    "                'freq2_amplitude2',\n",
    "                'freq2_amplitude3',\n",
    "                'freq2_amplitude4',\n",
    "                'freq2_freq',\n",
    "                'freq2_rel_phase2',\n",
    "                'freq2_rel_phase3',\n",
    "                'freq2_rel_phase4',\n",
    "                'freq3_amplitude1',\n",
    "                'freq3_amplitude2',\n",
    "                'freq3_amplitude3',\n",
    "                'freq3_amplitude4',\n",
    "                'freq3_freq',\n",
    "                'freq3_rel_phase2',\n",
    "                'freq3_rel_phase3',\n",
    "                'freq3_rel_phase4',\n",
    "                'freq_amplitude_ratio_21',\n",
    "                'freq_amplitude_ratio_31',\n",
    "                'freq_frequency_ratio_21',\n",
    "                'freq_frequency_ratio_31',\n",
    "                'freq_model_max_delta_mags',\n",
    "                'freq_model_min_delta_mags',\n",
    "                'freq_model_phi1_phi2',\n",
    "                'freq_n_alias',\n",
    "                'freq_signif_ratio_21',\n",
    "                'freq_signif_ratio_31',\n",
    "                'freq_varrat',\n",
    "                'freq_y_offset',\n",
    "                'linear_trend',\n",
    "                'medperc90_2p_p',\n",
    "                'p2p_scatter_2praw',\n",
    "                'p2p_scatter_over_mad',\n",
    "                'p2p_scatter_pfold_over_mad',\n",
    "                'p2p_ssqr_diff_over_var',\n",
    "                'scatter_res_raw'\n",
    "               ]\n",
    "    conn = sqlite3.connect(db)\n",
    "    cur = conn.cursor()\n",
    "    string = \"insert into \" + tName + \"\"\" values (\n",
    "            ?, ?, ?, ?, ?, ?, ?, ?, ?, ?, ?, ?, ?, ?, ?, ?, ?, ?, ?, ?, ?, ?, ?, ?, ?, ?, ?, ?, ?, ?, ?, ?, ?, ?, ?, ?, \n",
    "            ?, ?, ?, ?, ?, ?, ?, ?, ?, ?, ?, ?, ?, ?, ?, ?, ?, ?, ?, ?, ?, ?, ?, ?, ?, ?, ?, ?, ?, ?, ?, ?, ?, ?, ?)\"\"\"\n",
    "    \n",
    "    for oid in np.unique(lc['oid']):\n",
    "        mask = np.where(lc['oid'] == oid)\n",
    "        \n",
    "        fset = featurize.featurize_time_series(lc[mask]['obsmjd'], lc[mask]['mag_autocorr'], lc[mask]['magerr_auto'],\n",
    "                                        meta_features = {'oid': str(oid)}, features_to_use = feats_to_use)\n",
    "        \n",
    "        try: \n",
    "            cur.execute(string, fset.get_values()[0])\n",
    "        except Exception as e:\n",
    "            print(e)\n",
    "            "
   ]
  },
  {
   "cell_type": "code",
   "execution_count": 7,
   "metadata": {},
   "outputs": [
    {
     "data": {
      "text/plain": [
       "<sqlite3.Cursor at 0x7f179880f2d0>"
      ]
     },
     "execution_count": 7,
     "metadata": {},
     "output_type": "execute_result"
    }
   ],
   "source": [
    "tName = 'feats2'\n",
    "string = \"insert into \" + tName + \"\"\" values (?, ?, ?, ?, ?, ?, ?, ?, ?, ?, ?, ?, ?, ?, ?, ?, ?, ?, ?, ?, ?, ?, ?, ?, ?, ?, ?, ?, ?, ?, ?, ?, ?, ?, ?, ?, ?, ?, ?, ?, ?, ?, ?, ?, ?, ?, ?, ?, ?, ?, ?, ?, ?, ?, ?, ?, ?, ?, ?, ?, ?, ?, ?, ?, ?, ?, ?, ?, ?, ?, ?)\"\"\"\n",
    "\n",
    "cur.execute(string, fset.get_values()[0])"
   ]
  },
  {
   "cell_type": "code",
   "execution_count": null,
   "metadata": {},
   "outputs": [],
   "source": [
    "cur.execute(\"\"\"delete from feats2\"\"\")\n",
    "cur.fetchall()"
   ]
  },
  {
   "cell_type": "code",
   "execution_count": null,
   "metadata": {},
   "outputs": [],
   "source": [
    "saving(curve, 'featurestest.db', 'feats2')"
   ]
  },
  {
   "cell_type": "code",
   "execution_count": 8,
   "metadata": {},
   "outputs": [
    {
     "data": {
      "text/plain": [
       "[(0.5095000000000001,)]"
      ]
     },
     "execution_count": 8,
     "metadata": {},
     "output_type": "execute_result"
    }
   ],
   "source": [
    "cur.execute(\"\"\"select oid from feats2\"\"\")\n",
    "cur.fetchall()"
   ]
  },
  {
   "cell_type": "code",
   "execution_count": 10,
   "metadata": {},
   "outputs": [
    {
     "data": {
      "text/plain": [
       "[(0.5095000000000001,\n",
       "  0.3007377525228737,\n",
       "  0.43400204490596406,\n",
       "  0.5932806752901907,\n",
       "  0.6868684512638921,\n",
       "  0.8554775768409026,\n",
       "  162.62135931079118,\n",
       "  15.606,\n",
       "  15.325,\n",
       "  0.17400000000000126,\n",
       "  14.587,\n",
       "  0.9733312795365007,\n",
       "  0.1506849315068493,\n",
       "  0.1917808219178082,\n",
       "  0.773066126770398,\n",
       "  103.49729008134356,\n",
       "  3.9235854914604884,\n",
       "  0.09425302242639545,\n",
       "  -0.5006398841072615,\n",
       "  0.2562918904699493,\n",
       "  1.7244018225440325,\n",
       "  1.0204204978189872,\n",
       "  15.250295565036485,\n",
       "  -3.1087886844331463,\n",
       "  2.0278450170523588,\n",
       "  0.27506666234997945,\n",
       "  0.13818653432855071,\n",
       "  0.08108273489278138,\n",
       "  0.044763800692900306,\n",
       "  1.5075748677663232,\n",
       "  0.08428357891711286,\n",
       "  2.4738686730162778,\n",
       "  -0.9016153517269,\n",
       "  2.0184028253427164,\n",
       "  6.585500643191713,\n",
       "  0.016320055479104197,\n",
       "  0.0008227371290089935,\n",
       "  0.0004426308733244697,\n",
       "  7.375736232152197e-05,\n",
       "  28.568167249767125,\n",
       "  -1.9478950330781715,\n",
       "  -2.2472996197295507,\n",
       "  1.5825818539160765,\n",
       "  0.01228776978288731,\n",
       "  0.0007294435144718135,\n",
       "  0.00011845494087183056,\n",
       "  5.771077452049043e-05,\n",
       "  26.284709670428015,\n",
       "  -1.672591511866565,\n",
       "  1.4279878836171698,\n",
       "  1.6006795260069138,\n",
       "  0.05933127387985488,\n",
       "  0.044671970343149174,\n",
       "  18.949750264870588,\n",
       "  17.435094092124512,\n",
       "  1.4786378288444979e-08,\n",
       "  4.432903000228805e-08,\n",
       "  0.7130058097148784,\n",
       "  0.0,\n",
       "  0.4649679338008846,\n",
       "  0.44800345186805507,\n",
       "  4.155720426799974e-06,\n",
       "  0.03639081784174891,\n",
       "  2.3667775827873955e-05,\n",
       "  1.8132941095899526,\n",
       "  0.07431732852960377,\n",
       "  0.7241379310344743,\n",
       "  0.13218390804597424,\n",
       "  1.5739261850192312,\n",
       "  0.05859435576751685,\n",
       "  '27882090015687')]"
      ]
     },
     "execution_count": 10,
     "metadata": {},
     "output_type": "execute_result"
    }
   ],
   "source": [
    "cur.execute(\"\"\"select * from feats2\"\"\")\n",
    "cur.fetchall()"
   ]
  },
  {
   "cell_type": "code",
   "execution_count": null,
   "metadata": {
    "collapsed": true
   },
   "outputs": [],
   "source": []
  }
 ],
 "metadata": {
  "kernelspec": {
   "display_name": "Python 3",
   "language": "python",
   "name": "python3"
  },
  "language_info": {
   "codemirror_mode": {
    "name": "ipython",
    "version": 3
   },
   "file_extension": ".py",
   "mimetype": "text/x-python",
   "name": "python",
   "nbconvert_exporter": "python",
   "pygments_lexer": "ipython3",
   "version": "3.6.1"
  }
 },
 "nbformat": 4,
 "nbformat_minor": 2
}
