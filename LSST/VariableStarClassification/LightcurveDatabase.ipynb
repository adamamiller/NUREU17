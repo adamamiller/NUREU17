{
 "cells": [
  {
   "cell_type": "code",
   "execution_count": 2,
   "metadata": {
    "collapsed": true
   },
   "outputs": [],
   "source": [
    "import sqlite3\n",
    "from astropy.table import Table, vstack\n",
    "from cesium import featurize\n",
    "import numpy as np"
   ]
  },
  {
   "cell_type": "code",
   "execution_count": 4,
   "metadata": {
    "collapsed": true
   },
   "outputs": [],
   "source": [
    "curve = Table.read('scripts/ptf_query/byOid/curves_oid___51892000005737.tbl', format = 'ipac')\n",
    "curve2 = Table.read('scripts/ptf_query/byOid/curves_oid___51892060003794.tbl', format = 'ipac')\n",
    "curve3 = Table.read('scripts/ptf_query/byOid/curves_oid___51892060016842.tbl', format = 'ipac')"
   ]
  },
  {
   "cell_type": "code",
   "execution_count": 4,
   "metadata": {
    "collapsed": true
   },
   "outputs": [],
   "source": [
    "feats_to_use = ['amplitude',\n",
    "                'flux_percentile_ratio_mid20', \n",
    "                'flux_percentile_ratio_mid35', \n",
    "                'flux_percentile_ratio_mid50', \n",
    "                'flux_percentile_ratio_mid65', \n",
    "                'flux_percentile_ratio_mid80', \n",
    "                'max_slope', \n",
    "                'maximum', \n",
    "                'median',\n",
    "                'median_absolute_deviation', \n",
    "                'minimum',\n",
    "                'percent_amplitude',\n",
    "                'percent_beyond_1_std', \n",
    "                'percent_close_to_median', \n",
    "                'percent_difference_flux_percentile',\n",
    "                'period_fast', \n",
    "                'qso_log_chi2_qsonu',\n",
    "                'qso_log_chi2nuNULL_chi2nu',\n",
    "                'skew',\n",
    "                'std',\n",
    "                'stetson_j',\n",
    "                'stetson_k',\n",
    "                'weighted_average',\n",
    "                'fold2P_slope_10percentile',\n",
    "                'fold2P_slope_90percentile',\n",
    "                'freq1_amplitude1',\n",
    "                'freq1_amplitude2',\n",
    "                'freq1_amplitude3',\n",
    "                'freq1_amplitude4',\n",
    "                'freq1_freq',\n",
    "                'freq1_lambda',\n",
    "                'freq1_rel_phase2',\n",
    "                'freq1_rel_phase3',\n",
    "                'freq1_rel_phase4',\n",
    "                'freq1_signif',\n",
    "                'freq2_amplitude1',\n",
    "                'freq2_amplitude2',\n",
    "                'freq2_amplitude3',\n",
    "                'freq2_amplitude4',\n",
    "                'freq2_freq',\n",
    "                'freq2_rel_phase2',\n",
    "                'freq2_rel_phase3',\n",
    "                'freq2_rel_phase4',\n",
    "                'freq3_amplitude1',\n",
    "                'freq3_amplitude2',\n",
    "                'freq3_amplitude3',\n",
    "                'freq3_amplitude4',\n",
    "                'freq3_freq',\n",
    "                'freq3_rel_phase2',\n",
    "                'freq3_rel_phase3',\n",
    "                'freq3_rel_phase4',\n",
    "                'freq_amplitude_ratio_21',\n",
    "                'freq_amplitude_ratio_31',\n",
    "                'freq_frequency_ratio_21',\n",
    "                'freq_frequency_ratio_31',\n",
    "                'freq_model_max_delta_mags',\n",
    "                'freq_model_min_delta_mags',\n",
    "                'freq_model_phi1_phi2',\n",
    "                'freq_n_alias',\n",
    "                'freq_signif_ratio_21',\n",
    "                'freq_signif_ratio_31',\n",
    "                'freq_varrat',\n",
    "                'freq_y_offset',\n",
    "                'linear_trend',\n",
    "                'medperc90_2p_p',\n",
    "                'p2p_scatter_2praw',\n",
    "                'p2p_scatter_over_mad',\n",
    "                'p2p_scatter_pfold_over_mad',\n",
    "                'p2p_ssqr_diff_over_var',\n",
    "                'scatter_res_raw'\n",
    "               ]"
   ]
  },
  {
   "cell_type": "code",
   "execution_count": 5,
   "metadata": {
    "collapsed": true
   },
   "outputs": [
    {
     "name": "stderr",
     "output_type": "stream",
     "text": [
      "/home/nke2/miniconda3/envs/tmpJupyter/lib/python3.6/site-packages/dask/async.py:13: UserWarning: `dask.async.get_sync` has been moved to `dask.local.get_sync`, please update your imports\n",
      "  warnings.warn(_msg.format('get_sync'))\n",
      "/home/nke2/miniconda3/envs/tmpJupyter/lib/python3.6/site-packages/dask/async.py:13: UserWarning: `dask.async.get_sync` has been moved to `dask.local.get_sync`, please update your imports\n",
      "  warnings.warn(_msg.format('get_sync'))\n",
      "/home/nke2/miniconda3/envs/tmpJupyter/lib/python3.6/site-packages/dask/async.py:13: UserWarning: `dask.async.get_sync` has been moved to `dask.local.get_sync`, please update your imports\n",
      "  warnings.warn(_msg.format('get_sync'))\n"
     ]
    }
   ],
   "source": [
    "fset = featurize.featurize_time_series(curve['obsmjd'], curve['mag_autocorr'], curve['magerr_auto'],\n",
    "                                        meta_features = {'oid': str(curve['oid'][0])}, features_to_use = feats_to_use)\n",
    "fset2 = featurize.featurize_time_series(curve2['obsmjd'], curve2['mag_autocorr'], curve2['magerr_auto'],\n",
    "                                        meta_features = {'oid': str(curve2['oid'][0])}, features_to_use = feats_to_use)\n",
    "fset3 = featurize.featurize_time_series(curve3['obsmjd'], curve3['mag_autocorr'], curve3['magerr_auto'],\n",
    "                                        meta_features = {'oid': str(curve3['oid'][0])}, features_to_use = feats_to_use)"
   ]
  },
  {
   "cell_type": "code",
   "execution_count": 10,
   "metadata": {
    "collapsed": true
   },
   "outputs": [],
   "source": [
    "conn = sqlite3.connect('features.db')\n",
    "cur = conn.cursor()"
   ]
  },
  {
   "cell_type": "code",
   "execution_count": 9,
   "metadata": {},
   "outputs": [
    {
     "name": "stdout",
     "output_type": "stream",
     "text": [
      "['oid', 'obsmjd', 'mag_autocorr', 'magerr_auto', 'fid', 'ra', 'dec', 'clon', 'clat']\n"
     ]
    }
   ],
   "source": [
    "print(curve.colnames)"
   ]
  },
  {
   "cell_type": "code",
   "execution_count": 55,
   "metadata": {},
   "outputs": [
    {
     "data": {
      "text/plain": [
       "<sqlite3.Cursor at 0x7fe40784bce0>"
      ]
     },
     "execution_count": 55,
     "metadata": {},
     "output_type": "execute_result"
    }
   ],
   "source": [
    "cur.execute(\"\"\"create table lightcurves(\n",
    "    oid string primary key,\n",
    "    obsmjd Float,\n",
    "    mag_autocorr Float,\n",
    "    magerr_auto Float,\n",
    "    fid Float,\n",
    "    ra Float,\n",
    "    dec Float,\n",
    "    clon Float,\n",
    "    clat Float\n",
    "    )\"\"\")"
   ]
  },
  {
   "cell_type": "code",
   "execution_count": 3,
   "metadata": {
    "scrolled": true
   },
   "outputs": [
    {
     "data": {
      "text/plain": [
       "[(0, 'oid', 'string', 0, None, 1),\n",
       " (1, 'obsmjd', 'Float', 0, None, 0),\n",
       " (2, 'mag_autocorr', 'Float', 0, None, 0),\n",
       " (3, 'magerr_auto', 'Float', 0, None, 0),\n",
       " (4, 'fid', 'Float', 0, None, 0),\n",
       " (5, 'ra', 'Float', 0, None, 0),\n",
       " (6, 'dec', 'Float', 0, None, 0),\n",
       " (7, 'clon', 'Float', 0, None, 0),\n",
       " (8, 'clat', 'Float', 0, None, 0)]"
      ]
     },
     "execution_count": 3,
     "metadata": {},
     "output_type": "execute_result"
    }
   ],
   "source": [
    "cur.execute(\"\"\"PRAGMA table_info(lightcurves)\"\"\")\n",
    "cur.fetchall()"
   ]
  },
  {
   "cell_type": "code",
   "execution_count": 3,
   "metadata": {},
   "outputs": [
    {
     "data": {
      "text/plain": [
       "[]"
      ]
     },
     "execution_count": 3,
     "metadata": {},
     "output_type": "execute_result"
    }
   ],
   "source": [
    "cur.execute(\"\"\"select oid from lightcurves\"\"\")\n",
    "cur.fetchall()"
   ]
  },
  {
   "cell_type": "code",
   "execution_count": 12,
   "metadata": {},
   "outputs": [
    {
     "data": {
      "text/plain": [
       "<sqlite3.Cursor at 0x7fc2b884e810>"
      ]
     },
     "execution_count": 12,
     "metadata": {},
     "output_type": "execute_result"
    }
   ],
   "source": [
    "cur.execute(\"\"\"drop table sigfeats\"\"\")"
   ]
  },
  {
   "cell_type": "code",
   "execution_count": 14,
   "metadata": {},
   "outputs": [
    {
     "data": {
      "text/plain": [
       "<sqlite3.Cursor at 0x7fc2b884e810>"
      ]
     },
     "execution_count": 14,
     "metadata": {},
     "output_type": "execute_result"
    }
   ],
   "source": [
    "cur.execute(\"\"\"create table sigfeats(\n",
    "    amplitude Float,\n",
    "    flux_percentile_ratio_mid20 Float, \n",
    "    flux_percentile_ratio_mid35 Float, \n",
    "    flux_percentile_ratio_mid50 Float, \n",
    "    flux_percentile_ratio_mid65 Float, \n",
    "    flux_percentile_ratio_mid80 Float, \n",
    "    max_slope Float, \n",
    "    maximum Float, \n",
    "    median Float,\n",
    "    median_absolute_deviation Float, \n",
    "    minimum Float,\n",
    "    percent_amplitude Float,\n",
    "    percent_beyond_1_std Float, \n",
    "    percent_close_to_median Float,\n",
    "    percent_difference_flux_percentile Float,\n",
    "    period_fast Float, \n",
    "    qso_log_chi2_qsonu Float,\n",
    "    qso_log_chi2nuNULL_chi2nu Float,\n",
    "    skew Float,\n",
    "    std Float,\n",
    "    stetson_j Float,\n",
    "    stetson_k Float,\n",
    "    weighted_average Float,\n",
    "    fold2P_slope_10percentile Float,\n",
    "    fold2P_slope_90percentile Float,\n",
    "    freq1_amplitude1 Float,\n",
    "    freq1_amplitude2 Float,\n",
    "    freq1_amplitude3 Float,\n",
    "    freq1_amplitude4 Float,\n",
    "    freq1_freq Float,\n",
    "    freq1_lambda Float,\n",
    "    freq1_rel_phase2 Float,\n",
    "    freq1_rel_phase3 Float,\n",
    "    freq1_rel_phase4 Float,\n",
    "    freq1_signif Float,\n",
    "    freq2_amplitude1 Float,\n",
    "    freq2_amplitude2 Float,\n",
    "    freq2_amplitude3 Float,\n",
    "    freq2_amplitude4 Float,\n",
    "    freq2_freq Float,\n",
    "    freq2_rel_phase2 Float,\n",
    "    freq2_rel_phase3 Float,\n",
    "    freq2_rel_phase4 Float,\n",
    "    freq3_amplitude1 Float,\n",
    "    freq3_amplitude2 Float,\n",
    "    freq3_amplitude3 Float,\n",
    "    freq3_amplitude4 Float,\n",
    "    freq3_freq Float,\n",
    "    freq3_rel_phase2 Float,\n",
    "    freq3_rel_phase3 Float,\n",
    "    freq3_rel_phase4 Float,\n",
    "    freq_amplitude_ratio_21 Float,\n",
    "    freq_amplitude_ratio_31 Float,\n",
    "    freq_frequency_ratio_21 Float,\n",
    "    freq_frequency_ratio_31 Float,\n",
    "    freq_model_max_delta_mags Float,\n",
    "    freq_model_min_delta_mags Float,\n",
    "    freq_model_phi1_phi2 Float,\n",
    "    freq_n_alias Float,\n",
    "    freq_signif_ratio_21 Float,\n",
    "    freq_signif_ratio_31 Float,\n",
    "    freq_varrat Float,\n",
    "    freq_y_offset Ffloat,\n",
    "    linear_trend Float,\n",
    "    medperc90_2p_p Float,\n",
    "    p2p_scatter_2praw Float,\n",
    "    p2p_scatter_over_mad Float,\n",
    "    p2p_scatter_pfold_over_mad Float,\n",
    "    p2p_ssqr_diff_over_var Float,\n",
    "    scatter_res_raw Float,\n",
    "    oid string unique primary key,\n",
    "    sigclipped Boolean\n",
    ")\"\"\")"
   ]
  },
  {
   "cell_type": "code",
   "execution_count": 15,
   "metadata": {},
   "outputs": [
    {
     "data": {
      "text/plain": [
       "[(0, 'amplitude', 'Float', 0, None, 0),\n",
       " (1, 'flux_percentile_ratio_mid20', 'Float', 0, None, 0),\n",
       " (2, 'flux_percentile_ratio_mid35', 'Float', 0, None, 0),\n",
       " (3, 'flux_percentile_ratio_mid50', 'Float', 0, None, 0),\n",
       " (4, 'flux_percentile_ratio_mid65', 'Float', 0, None, 0),\n",
       " (5, 'flux_percentile_ratio_mid80', 'Float', 0, None, 0),\n",
       " (6, 'max_slope', 'Float', 0, None, 0),\n",
       " (7, 'maximum', 'Float', 0, None, 0),\n",
       " (8, 'median', 'Float', 0, None, 0),\n",
       " (9, 'median_absolute_deviation', 'Float', 0, None, 0),\n",
       " (10, 'minimum', 'Float', 0, None, 0),\n",
       " (11, 'percent_amplitude', 'Float', 0, None, 0),\n",
       " (12, 'percent_beyond_1_std', 'Float', 0, None, 0),\n",
       " (13, 'percent_close_to_median', 'Float', 0, None, 0),\n",
       " (14, 'percent_difference_flux_percentile', 'Float', 0, None, 0),\n",
       " (15, 'period_fast', 'Float', 0, None, 0),\n",
       " (16, 'qso_log_chi2_qsonu', 'Float', 0, None, 0),\n",
       " (17, 'qso_log_chi2nuNULL_chi2nu', 'Float', 0, None, 0),\n",
       " (18, 'skew', 'Float', 0, None, 0),\n",
       " (19, 'std', 'Float', 0, None, 0),\n",
       " (20, 'stetson_j', 'Float', 0, None, 0),\n",
       " (21, 'stetson_k', 'Float', 0, None, 0),\n",
       " (22, 'weighted_average', 'Float', 0, None, 0),\n",
       " (23, 'fold2P_slope_10percentile', 'Float', 0, None, 0),\n",
       " (24, 'fold2P_slope_90percentile', 'Float', 0, None, 0),\n",
       " (25, 'freq1_amplitude1', 'Float', 0, None, 0),\n",
       " (26, 'freq1_amplitude2', 'Float', 0, None, 0),\n",
       " (27, 'freq1_amplitude3', 'Float', 0, None, 0),\n",
       " (28, 'freq1_amplitude4', 'Float', 0, None, 0),\n",
       " (29, 'freq1_freq', 'Float', 0, None, 0),\n",
       " (30, 'freq1_lambda', 'Float', 0, None, 0),\n",
       " (31, 'freq1_rel_phase2', 'Float', 0, None, 0),\n",
       " (32, 'freq1_rel_phase3', 'Float', 0, None, 0),\n",
       " (33, 'freq1_rel_phase4', 'Float', 0, None, 0),\n",
       " (34, 'freq1_signif', 'Float', 0, None, 0),\n",
       " (35, 'freq2_amplitude1', 'Float', 0, None, 0),\n",
       " (36, 'freq2_amplitude2', 'Float', 0, None, 0),\n",
       " (37, 'freq2_amplitude3', 'Float', 0, None, 0),\n",
       " (38, 'freq2_amplitude4', 'Float', 0, None, 0),\n",
       " (39, 'freq2_freq', 'Float', 0, None, 0),\n",
       " (40, 'freq2_rel_phase2', 'Float', 0, None, 0),\n",
       " (41, 'freq2_rel_phase3', 'Float', 0, None, 0),\n",
       " (42, 'freq2_rel_phase4', 'Float', 0, None, 0),\n",
       " (43, 'freq3_amplitude1', 'Float', 0, None, 0),\n",
       " (44, 'freq3_amplitude2', 'Float', 0, None, 0),\n",
       " (45, 'freq3_amplitude3', 'Float', 0, None, 0),\n",
       " (46, 'freq3_amplitude4', 'Float', 0, None, 0),\n",
       " (47, 'freq3_freq', 'Float', 0, None, 0),\n",
       " (48, 'freq3_rel_phase2', 'Float', 0, None, 0),\n",
       " (49, 'freq3_rel_phase3', 'Float', 0, None, 0),\n",
       " (50, 'freq3_rel_phase4', 'Float', 0, None, 0),\n",
       " (51, 'freq_amplitude_ratio_21', 'Float', 0, None, 0),\n",
       " (52, 'freq_amplitude_ratio_31', 'Float', 0, None, 0),\n",
       " (53, 'freq_frequency_ratio_21', 'Float', 0, None, 0),\n",
       " (54, 'freq_frequency_ratio_31', 'Float', 0, None, 0),\n",
       " (55, 'freq_model_max_delta_mags', 'Float', 0, None, 0),\n",
       " (56, 'freq_model_min_delta_mags', 'Float', 0, None, 0),\n",
       " (57, 'freq_model_phi1_phi2', 'Float', 0, None, 0),\n",
       " (58, 'freq_n_alias', 'Float', 0, None, 0),\n",
       " (59, 'freq_signif_ratio_21', 'Float', 0, None, 0),\n",
       " (60, 'freq_signif_ratio_31', 'Float', 0, None, 0),\n",
       " (61, 'freq_varrat', 'Float', 0, None, 0),\n",
       " (62, 'freq_y_offset', 'Ffloat', 0, None, 0),\n",
       " (63, 'linear_trend', 'Float', 0, None, 0),\n",
       " (64, 'medperc90_2p_p', 'Float', 0, None, 0),\n",
       " (65, 'p2p_scatter_2praw', 'Float', 0, None, 0),\n",
       " (66, 'p2p_scatter_over_mad', 'Float', 0, None, 0),\n",
       " (67, 'p2p_scatter_pfold_over_mad', 'Float', 0, None, 0),\n",
       " (68, 'p2p_ssqr_diff_over_var', 'Float', 0, None, 0),\n",
       " (69, 'scatter_res_raw', 'Float', 0, None, 0),\n",
       " (70, 'oid', 'string', 0, None, 1),\n",
       " (71, 'sigclipped', 'Boolean', 0, None, 0)]"
      ]
     },
     "execution_count": 15,
     "metadata": {},
     "output_type": "execute_result"
    }
   ],
   "source": [
    "cur.execute(\"\"\"PRAGMA table_info(sigfeats)\"\"\")\n",
    "cur.fetchall()"
   ]
  },
  {
   "cell_type": "code",
   "execution_count": 2,
   "metadata": {
    "collapsed": true
   },
   "outputs": [],
   "source": [
    "def saveFeat (lc, tName, cur, conn): #pass in lightcurve table and cursor\n",
    "    feats_to_use = [\n",
    "                'amplitude',\n",
    "                'flux_percentile_ratio_mid20', \n",
    "                'flux_percentile_ratio_mid35', \n",
    "                'flux_percentile_ratio_mid50', \n",
    "                'flux_percentile_ratio_mid65', \n",
    "                'flux_percentile_ratio_mid80', \n",
    "                'max_slope', \n",
    "                'maximum', \n",
    "                'median',\n",
    "                'median_absolute_deviation', \n",
    "                'minimum',\n",
    "                'percent_amplitude',\n",
    "                'percent_beyond_1_std', \n",
    "                'percent_close_to_median', \n",
    "                'percent_difference_flux_percentile',\n",
    "                'period_fast', \n",
    "                'qso_log_chi2_qsonu',\n",
    "                'qso_log_chi2nuNULL_chi2nu',\n",
    "                'skew',\n",
    "                'std',\n",
    "                'stetson_j',\n",
    "                'stetson_k',\n",
    "                'weighted_average',\n",
    "                'fold2P_slope_10percentile',\n",
    "                'fold2P_slope_90percentile',\n",
    "                'freq1_amplitude1',\n",
    "                'freq1_amplitude2',\n",
    "                'freq1_amplitude3',\n",
    "                'freq1_amplitude4',\n",
    "                'freq1_freq',\n",
    "                'freq1_lambda',\n",
    "                'freq1_rel_phase2',\n",
    "                'freq1_rel_phase3',\n",
    "                'freq1_rel_phase4',\n",
    "                'freq1_signif',\n",
    "                'freq2_amplitude1',\n",
    "                'freq2_amplitude2',\n",
    "                'freq2_amplitude3',\n",
    "                'freq2_amplitude4',\n",
    "                'freq2_freq',\n",
    "                'freq2_rel_phase2',\n",
    "                'freq2_rel_phase3',\n",
    "                'freq2_rel_phase4',\n",
    "                'freq3_amplitude1',\n",
    "                'freq3_amplitude2',\n",
    "                'freq3_amplitude3',\n",
    "                'freq3_amplitude4',\n",
    "                'freq3_freq',\n",
    "                'freq3_rel_phase2',\n",
    "                'freq3_rel_phase3',\n",
    "                'freq3_rel_phase4',\n",
    "                'freq_amplitude_ratio_21',\n",
    "                'freq_amplitude_ratio_31',\n",
    "                'freq_frequency_ratio_21',\n",
    "                'freq_frequency_ratio_31',\n",
    "                'freq_model_max_delta_mags',\n",
    "                'freq_model_min_delta_mags',\n",
    "                'freq_model_phi1_phi2',\n",
    "                'freq_n_alias',\n",
    "                'freq_signif_ratio_21',\n",
    "                'freq_signif_ratio_31',\n",
    "                'freq_varrat',\n",
    "                'freq_y_offset',\n",
    "                'linear_trend',\n",
    "                'medperc90_2p_p',\n",
    "                'p2p_scatter_2praw',\n",
    "                'p2p_scatter_over_mad',\n",
    "                'p2p_scatter_pfold_over_mad',\n",
    "                'p2p_ssqr_diff_over_var',\n",
    "                'scatter_res_raw'\n",
    "               ]\n",
    "    string = \"insert into \" + tName + \"\"\" values (\n",
    "            ?, ?, ?, ?, ?, ?, ?, ?, ?, ?, ?, ?, ?, ?, ?, ?, ?, ?, ?, ?, ?, ?, ?, ?, ?, ?, ?, ?, ?, ?, ?, ?, ?, ?, ?, ?, \n",
    "            ?, ?, ?, ?, ?, ?, ?, ?, ?, ?, ?, ?, ?, ?, ?, ?, ?, ?, ?, ?, ?, ?, ?, ?, ?, ?, ?, ?, ?, ?, ?, ?, ?, ?, ?)\"\"\"\n",
    "    cur.execute(\"\"\"select oid from {:}\"\"\".format(tName))\n",
    "    check = cur.fetchall()\n",
    "\n",
    "    for oid in np.unique(lc['oid']):\n",
    "        if (oid not in check):\n",
    "            mask = np.logical_and(lc['oid'] == oid, lc['mag_autocorr'] > 0)\n",
    "\n",
    "            fset = featurize.featurize_time_series(lc[mask]['obsmjd'], lc[mask]['mag_autocorr'], lc[mask]['magerr_auto'],\n",
    "                                            meta_features = {'oid': str(oid)}, features_to_use = feats_to_use)\n",
    " \n",
    "            cur.execute(string, fset.get_values()[0])\n",
    "        else:\n",
    "            print('Database already contains a ', oid)\n",
    "    conn.commit()"
   ]
  },
  {
   "cell_type": "code",
   "execution_count": 46,
   "metadata": {},
   "outputs": [
    {
     "name": "stderr",
     "output_type": "stream",
     "text": [
      "/home/nke2/miniconda3/envs/tmpJupyter/lib/python3.6/site-packages/dask/async.py:13: UserWarning: `dask.async.get_sync` has been moved to `dask.local.get_sync`, please update your imports\n",
      "  warnings.warn(_msg.format('get_sync'))\n"
     ]
    }
   ],
   "source": [
    "saveFeat(curve, 'feats2', cur, conn)"
   ]
  },
  {
   "cell_type": "code",
   "execution_count": 47,
   "metadata": {
    "scrolled": true
   },
   "outputs": [
    {
     "name": "stderr",
     "output_type": "stream",
     "text": [
      "/home/nke2/miniconda3/envs/tmpJupyter/lib/python3.6/site-packages/dask/async.py:13: UserWarning: `dask.async.get_sync` has been moved to `dask.local.get_sync`, please update your imports\n",
      "  warnings.warn(_msg.format('get_sync'))\n"
     ]
    }
   ],
   "source": [
    "saveFeat(curve2, 'feats2', cur, conn)"
   ]
  },
  {
   "cell_type": "code",
   "execution_count": 48,
   "metadata": {},
   "outputs": [
    {
     "name": "stderr",
     "output_type": "stream",
     "text": [
      "/home/nke2/miniconda3/envs/tmpJupyter/lib/python3.6/site-packages/dask/async.py:13: UserWarning: `dask.async.get_sync` has been moved to `dask.local.get_sync`, please update your imports\n",
      "  warnings.warn(_msg.format('get_sync'))\n"
     ]
    }
   ],
   "source": [
    "saveFeat(curve3, 'feats2', cur, conn)"
   ]
  },
  {
   "cell_type": "code",
   "execution_count": 11,
   "metadata": {},
   "outputs": [
    {
     "data": {
      "text/plain": [
       "17804"
      ]
     },
     "execution_count": 11,
     "metadata": {},
     "output_type": "execute_result"
    }
   ],
   "source": [
    "cur.execute(\"\"\"select oid from feats2\"\"\")\n",
    "len(cur.fetchall())"
   ]
  },
  {
   "cell_type": "code",
   "execution_count": 50,
   "metadata": {
    "collapsed": true
   },
   "outputs": [],
   "source": [
    "sqlite3.Connection.close(conn)"
   ]
  }
 ],
 "metadata": {
  "kernelspec": {
   "display_name": "Python 3",
   "language": "python",
   "name": "python3"
  },
  "language_info": {
   "codemirror_mode": {
    "name": "ipython",
    "version": 3
   },
   "file_extension": ".py",
   "mimetype": "text/x-python",
   "name": "python",
   "nbconvert_exporter": "python",
   "pygments_lexer": "ipython3",
   "version": "3.6.2"
  }
 },
 "nbformat": 4,
 "nbformat_minor": 2
}
