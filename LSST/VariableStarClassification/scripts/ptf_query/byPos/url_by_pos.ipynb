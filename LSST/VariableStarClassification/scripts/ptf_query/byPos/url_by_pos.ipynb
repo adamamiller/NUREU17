{
 "cells": [
  {
   "cell_type": "code",
   "execution_count": 8,
   "metadata": {
    "collapsed": true
   },
   "outputs": [],
   "source": [
    "import numpy as np\n",
    "from astropy.table import Table as tbl\n",
    "import urllib.request\n",
    "import urllib.parse\n",
    "import subprocess"
   ]
  },
  {
   "cell_type": "code",
   "execution_count": 2,
   "metadata": {
    "collapsed": true
   },
   "outputs": [],
   "source": [
    "url = \"http://irsa.ipac.caltech.edu/cgi-bin/Gator/nph-query?\""
   ]
  },
  {
   "cell_type": "code",
   "execution_count": 3,
   "metadata": {
    "collapsed": true
   },
   "outputs": [],
   "source": [
    "values = {'catalog':'ptf_objects', 'spatial':'None', 'outfmt':'1', 'selcols':'ra,dec,oid', 'constraints':'\"(bestchisq>100)and(ngoodobs>500)\"'}"
   ]
  },
  {
   "cell_type": "code",
   "execution_count": 21,
   "metadata": {
    "collapsed": true
   },
   "outputs": [],
   "source": [
    "data = urllib.parse.urlencode(values)\n",
    "data = data.encode('utf-8')\n",
    "req = urllib.request.Request(url, data)\n",
    "resp = urllib.request.urlopen(req)\n",
    "respdata = resp.read()"
   ]
  },
  {
   "cell_type": "code",
   "execution_count": 7,
   "metadata": {
    "collapsed": true
   },
   "outputs": [],
   "source": [
    "saveFile = open('objects.tbl', 'wb')\n",
    "saveFile.write(respdata)\n",
    "saveFile.close()"
   ]
  },
  {
   "cell_type": "code",
   "execution_count": 3,
   "metadata": {
    "collapsed": true
   },
   "outputs": [],
   "source": [
    "objects = tbl.read('/home/nke2/NUREU17/LSST/VariableStarClassification/scripts/ptf_query/objects.tbl', format = 'ipac')"
   ]
  },
  {
   "cell_type": "code",
   "execution_count": 10,
   "metadata": {
    "collapsed": true,
    "scrolled": true
   },
   "outputs": [],
   "source": [
    "curves = {}\n",
    "for i in range(0,3):#range(len(objects)):\n",
    "    saved = \"curves_radec_{0}_{1}.tbl\".format(objects['ra'][i], objects['dec'][i])\n",
    "    cmd = 'curl -F catalog=ptf_lightcurves -F spatial=none -F constraints=' + '\"(ra={0})\"and\"(dec={1})\"'.format(objects['ra'][i], objects['dec'][i]) + ' -F outfmt=1 -F selcols=oid,obsmjd,mag_autocorr,magerr_auto,fid,ra,dec \"http://irsa.ipac.caltech.edu/cgi-bin/Gator/nph-query?\" -o ' + saved\n",
    "    subprocess.call(cmd, shell = True)\n",
    "    curves[i] = tbl.read(saved, format = 'ipac')"
   ]
  },
  {
   "cell_type": "code",
   "execution_count": 12,
   "metadata": {},
   "outputs": [
    {
     "data": {
      "text/html": [
       "&lt;Table length=354&gt;\n",
       "<table id=\"table140074188726960\" class=\"table-striped table-bordered table-condensed\">\n",
       "<thead><tr><th>oid</th><th>obsmjd</th><th>mag_autocorr</th><th>magerr_auto</th><th>fid</th><th>ra</th><th>dec</th><th>clon</th><th>clat</th></tr></thead>\n",
       "<thead><tr><th></th><th>days</th><th>mag</th><th>mag</th><th></th><th>degrees</th><th>degrees</th><th></th><th></th></tr></thead>\n",
       "<thead><tr><th>int64</th><th>float64</th><th>float64</th><th>float64</th><th>int64</th><th>float64</th><th>float64</th><th>str12</th><th>str12</th></tr></thead>\n",
       "<tr><td>51892000005737</td><td>56269.3689572</td><td>14.416</td><td>0.022</td><td>2</td><td>55.182312</td><td>68.830135</td><td>03h40m43.75s</td><td>68d49m48.49s</td></tr>\n",
       "<tr><td>51892000005737</td><td>56271.3787372</td><td>14.408</td><td>0.04</td><td>2</td><td>55.182312</td><td>68.830135</td><td>03h40m43.75s</td><td>68d49m48.49s</td></tr>\n",
       "<tr><td>51892000005737</td><td>56273.2805172</td><td>14.396</td><td>0.049</td><td>2</td><td>55.182312</td><td>68.830135</td><td>03h40m43.75s</td><td>68d49m48.49s</td></tr>\n",
       "<tr><td>51892000005737</td><td>56273.3112872</td><td>14.393</td><td>0.049</td><td>2</td><td>55.182312</td><td>68.830135</td><td>03h40m43.75s</td><td>68d49m48.49s</td></tr>\n",
       "<tr><td>51892000005737</td><td>56281.1130872</td><td>14.352</td><td>0.045</td><td>2</td><td>55.182312</td><td>68.830135</td><td>03h40m43.75s</td><td>68d49m48.49s</td></tr>\n",
       "<tr><td>51892000005737</td><td>56281.1436472</td><td>14.377</td><td>0.045</td><td>2</td><td>55.182312</td><td>68.830135</td><td>03h40m43.75s</td><td>68d49m48.49s</td></tr>\n",
       "<tr><td>51892000005737</td><td>56306.2870072</td><td>14.215</td><td>0.044</td><td>2</td><td>55.182312</td><td>68.830135</td><td>03h40m43.75s</td><td>68d49m48.49s</td></tr>\n",
       "<tr><td>51892000005737</td><td>56297.3176272</td><td>14.409</td><td>0.022</td><td>2</td><td>55.182312</td><td>68.830135</td><td>03h40m43.75s</td><td>68d49m48.49s</td></tr>\n",
       "<tr><td>51892000005737</td><td>56297.3473772</td><td>14.404</td><td>0.022</td><td>2</td><td>55.182312</td><td>68.830135</td><td>03h40m43.75s</td><td>68d49m48.49s</td></tr>\n",
       "<tr><td>...</td><td>...</td><td>...</td><td>...</td><td>...</td><td>...</td><td>...</td><td>...</td><td>...</td></tr>\n",
       "<tr><td>51892000005737</td><td>55939.1296372</td><td>14.167</td><td>0.033</td><td>2</td><td>55.182312</td><td>68.830135</td><td>03h40m43.75s</td><td>68d49m48.49s</td></tr>\n",
       "<tr><td>51892000005737</td><td>55385.4518472</td><td>14.363</td><td>0.025</td><td>2</td><td>55.182312</td><td>68.830135</td><td>03h40m43.75s</td><td>68d49m48.49s</td></tr>\n",
       "<tr><td>51892000005737</td><td>55384.4865472</td><td>14.347</td><td>0.024</td><td>2</td><td>55.182312</td><td>68.830135</td><td>03h40m43.75s</td><td>68d49m48.49s</td></tr>\n",
       "<tr><td>51892000005737</td><td>55384.4419372</td><td>14.342</td><td>0.024</td><td>2</td><td>55.182312</td><td>68.830135</td><td>03h40m43.75s</td><td>68d49m48.49s</td></tr>\n",
       "<tr><td>51892000005737</td><td>55382.4544372</td><td>14.335</td><td>0.025</td><td>2</td><td>55.182312</td><td>68.830135</td><td>03h40m43.75s</td><td>68d49m48.49s</td></tr>\n",
       "<tr><td>51892000005737</td><td>55380.4704372</td><td>14.333</td><td>0.029</td><td>2</td><td>55.182312</td><td>68.830135</td><td>03h40m43.75s</td><td>68d49m48.49s</td></tr>\n",
       "<tr><td>51892000005737</td><td>55378.4705572</td><td>14.311</td><td>0.029</td><td>2</td><td>55.182312</td><td>68.830135</td><td>03h40m43.75s</td><td>68d49m48.49s</td></tr>\n",
       "<tr><td>51892000005737</td><td>55940.1374972</td><td>14.18</td><td>0.418</td><td>2</td><td>55.182312</td><td>68.830135</td><td>03h40m43.75s</td><td>68d49m48.49s</td></tr>\n",
       "<tr><td>51892000005737</td><td>55940.0926872</td><td>14.18</td><td>0.418</td><td>2</td><td>55.182312</td><td>68.830135</td><td>03h40m43.75s</td><td>68d49m48.49s</td></tr>\n",
       "<tr><td>51892000005737</td><td>55941.0917472</td><td>13.899</td><td>0.078</td><td>2</td><td>55.182312</td><td>68.830135</td><td>03h40m43.75s</td><td>68d49m48.49s</td></tr>\n",
       "</table>"
      ],
      "text/plain": [
       "<Table length=354>\n",
       "     oid           obsmjd    mag_autocorr ...     clon         clat    \n",
       "                    days         mag      ...                          \n",
       "    int64         float64      float64    ...    str12        str12    \n",
       "-------------- ------------- ------------ ... ------------ ------------\n",
       "51892000005737 56269.3689572       14.416 ... 03h40m43.75s 68d49m48.49s\n",
       "51892000005737 56271.3787372       14.408 ... 03h40m43.75s 68d49m48.49s\n",
       "51892000005737 56273.2805172       14.396 ... 03h40m43.75s 68d49m48.49s\n",
       "51892000005737 56273.3112872       14.393 ... 03h40m43.75s 68d49m48.49s\n",
       "51892000005737 56281.1130872       14.352 ... 03h40m43.75s 68d49m48.49s\n",
       "51892000005737 56281.1436472       14.377 ... 03h40m43.75s 68d49m48.49s\n",
       "51892000005737 56306.2870072       14.215 ... 03h40m43.75s 68d49m48.49s\n",
       "51892000005737 56297.3176272       14.409 ... 03h40m43.75s 68d49m48.49s\n",
       "51892000005737 56297.3473772       14.404 ... 03h40m43.75s 68d49m48.49s\n",
       "           ...           ...          ... ...          ...          ...\n",
       "51892000005737 55939.1296372       14.167 ... 03h40m43.75s 68d49m48.49s\n",
       "51892000005737 55385.4518472       14.363 ... 03h40m43.75s 68d49m48.49s\n",
       "51892000005737 55384.4865472       14.347 ... 03h40m43.75s 68d49m48.49s\n",
       "51892000005737 55384.4419372       14.342 ... 03h40m43.75s 68d49m48.49s\n",
       "51892000005737 55382.4544372       14.335 ... 03h40m43.75s 68d49m48.49s\n",
       "51892000005737 55380.4704372       14.333 ... 03h40m43.75s 68d49m48.49s\n",
       "51892000005737 55378.4705572       14.311 ... 03h40m43.75s 68d49m48.49s\n",
       "51892000005737 55940.1374972        14.18 ... 03h40m43.75s 68d49m48.49s\n",
       "51892000005737 55940.0926872        14.18 ... 03h40m43.75s 68d49m48.49s\n",
       "51892000005737 55941.0917472       13.899 ... 03h40m43.75s 68d49m48.49s"
      ]
     },
     "execution_count": 12,
     "metadata": {},
     "output_type": "execute_result"
    }
   ],
   "source": [
    "curves[0]"
   ]
  },
  {
   "cell_type": "code",
   "execution_count": null,
   "metadata": {
    "collapsed": true
   },
   "outputs": [],
   "source": []
  }
 ],
 "metadata": {
  "kernelspec": {
   "display_name": "Python 3",
   "language": "python",
   "name": "python3"
  },
  "language_info": {
   "codemirror_mode": {
    "name": "ipython",
    "version": 3
   },
   "file_extension": ".py",
   "mimetype": "text/x-python",
   "name": "python",
   "nbconvert_exporter": "python",
   "pygments_lexer": "ipython3",
   "version": "3.6.2"
  }
 },
 "nbformat": 4,
 "nbformat_minor": 2
}
