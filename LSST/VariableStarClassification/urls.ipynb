{
 "cells": [
  {
   "cell_type": "code",
   "execution_count": 114,
   "metadata": {
    "collapsed": true
   },
   "outputs": [],
   "source": [
    "import numpy as np\n",
    "import matplotlib.pyplot as plt\n",
    "%matplotlib notebook\n",
    "from astropy.table import Table as tbl\n",
    "import pycurl\n",
    "\n",
    "source_file = tbl.read('C:/Users/nicke/Desktop/NUREU17/positions_oids.tbl', format = 'ascii.ipac')"
   ]
  },
  {
   "cell_type": "code",
   "execution_count": 111,
   "metadata": {},
   "outputs": [
    {
     "name": "stdout",
     "output_type": "stream",
     "text": [
      "       oid       \n",
      "-----------------\n",
      " 4.6802110005e+13\n",
      "4.68021100058e+13\n",
      "4.68021000064e+13\n",
      "4.68021000099e+13\n",
      "4.68021000139e+13\n",
      "4.68021100127e+13\n",
      "4.68021100119e+13\n",
      "4.68020400057e+13\n",
      "4.68020900144e+13\n",
      "4.68020900071e+13\n",
      "              ...\n",
      "   1.00020211e+15\n",
      "   1.00020211e+15\n",
      "   1.00020211e+15\n",
      "   1.00020211e+15\n",
      "1.00041202001e+15\n",
      "1.00041211001e+15\n",
      "1.00041204001e+15\n",
      "   1.00041201e+15\n",
      "1.00041207001e+15\n",
      "   1.00041207e+15\n",
      "   1.00041207e+15\n",
      "Length = 18849 rows\n"
     ]
    }
   ],
   "source": [
    "print(source_file['oid'])"
   ]
  },
  {
   "cell_type": "code",
   "execution_count": 115,
   "metadata": {
    "collapsed": true
   },
   "outputs": [],
   "source": [
    "curl -o lightcurves.tbl \"http://irsa.ipac.caltech.edu/cgi-bin/Gator/nph-query?catalog=ptf_lightcurves&spatial=None&outfmt=1&\""
   ]
  },
  {
   "cell_type": "code",
   "execution_count": 17,
   "metadata": {
    "collapsed": true
   },
   "outputs": [],
   "source": [
    "base_url = \"http://irsa.ipac.caltech.edu/cgi-bin/Gator/nph-query?\""
   ]
  },
  {
   "cell_type": "code",
   "execution_count": 4,
   "metadata": {
    "collapsed": true
   },
   "outputs": [],
   "source": [
    "catalog = \"catalog=ptf_objects&\""
   ]
  },
  {
   "cell_type": "code",
   "execution_count": 5,
   "metadata": {
    "collapsed": true
   },
   "outputs": [],
   "source": [
    "spatial = \"spatial=None&\""
   ]
  },
  {
   "cell_type": "code",
   "execution_count": 9,
   "metadata": {
    "collapsed": true
   },
   "outputs": [],
   "source": [
    "fmt = \"outfmt=1&\""
   ]
  },
  {
   "cell_type": "code",
   "execution_count": 13,
   "metadata": {
    "collapsed": true
   },
   "outputs": [],
   "source": [
    "allsky_constraints = \"constraints=(bestchisq>100)and(ngoodobs>500)\""
   ]
  },
  {
   "cell_type": "code",
   "execution_count": 18,
   "metadata": {},
   "outputs": [
    {
     "name": "stdout",
     "output_type": "stream",
     "text": [
      "http://irsa.ipac.caltech.edu/cgi-bin/Gator/nph-query?catalog=ptf_objects&spatial=None&outfmt=1&constraints=(bestchisq>100)and(ngoodobs>500)\n"
     ]
    }
   ],
   "source": [
    "url = base_url+catalog+spatial+fmt+allsky_constraints\n",
    "print(url)"
   ]
  },
  {
   "cell_type": "code",
   "execution_count": null,
   "metadata": {
    "collapsed": true
   },
   "outputs": [],
   "source": [
    "curl -o objects.tbl url"
   ]
  },
  {
   "cell_type": "code",
   "execution_count": null,
   "metadata": {
    "collapsed": true
   },
   "outputs": [],
   "source": []
  }
 ],
 "metadata": {
  "kernelspec": {
   "display_name": "Python 3",
   "language": "python",
   "name": "python3"
  },
  "language_info": {
   "codemirror_mode": {
    "name": "ipython",
    "version": 3
   },
   "file_extension": ".py",
   "mimetype": "text/x-python",
   "name": "python",
   "nbconvert_exporter": "python",
   "pygments_lexer": "ipython3",
   "version": "3.6.1"
  }
 },
 "nbformat": 4,
 "nbformat_minor": 2
}
