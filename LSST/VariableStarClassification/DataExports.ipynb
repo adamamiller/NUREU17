{
 "cells": [
  {
   "cell_type": "code",
   "execution_count": 56,
   "metadata": {},
   "outputs": [],
   "source": [
    "import numpy as np\n",
    "import pandas as pd\n",
    "import json\n",
    "import sqlite3"
   ]
  },
  {
   "cell_type": "code",
   "execution_count": 13,
   "metadata": {},
   "outputs": [],
   "source": [
    "classifications = pd.read_csv(\"periodicity-classifications.csv\")\n",
    "classifications['metadata_json'] = [json.loads(q) for q in classifications.metadata]\n",
    "classifications['annotations_json'] = [json.loads(q) for q in classifications.annotations]\n",
    "classifications['subject_data_json'] = [json.loads(q) for q in classifications.subject_data]"
   ]
  },
  {
   "cell_type": "code",
   "execution_count": 196,
   "metadata": {},
   "outputs": [],
   "source": [
    "iclass = classifications[classifications.workflow_version == classifications['workflow_version'].max()]\n",
    "\n",
    "clist=[]"
   ]
  },
  {
   "cell_type": "code",
   "execution_count": 150,
   "metadata": {},
   "outputs": [
    {
     "data": {
      "text/plain": [
       "{'19261945': {'Filename': 'figs_v01__1000102010005018.png', 'retired': None}}"
      ]
     },
     "execution_count": 150,
     "metadata": {},
     "output_type": "execute_result"
    }
   ],
   "source": [
    "classifications['subject_data_json'][1]"
   ]
  },
  {
   "cell_type": "code",
   "execution_count": 197,
   "metadata": {},
   "outputs": [],
   "source": [
    "for index, c in iclass.iterrows():\n",
    "    filename = str(c.subject_data_json[str(c.subject_ids)]['Filename'])\n",
    "    oid = filename.split(\"_\")[-1]\n",
    "    oid = int(oid.split(\".\")[0])\n",
    "    clist.append({'classification_id':c.classification_id, 'user_name':c.user_name, 'user_id':c.user_id,\n",
    "                  'created_at':c.created_at, 'subject_ids':c.subject_ids, 'val':c.annotations_json[0]['value'], 'oid':oid})"
   ]
  },
  {
   "cell_type": "code",
   "execution_count": 195,
   "metadata": {},
   "outputs": [
    {
     "data": {
      "text/plain": [
       "35782020007389"
      ]
     },
     "execution_count": 195,
     "metadata": {},
     "output_type": "execute_result"
    }
   ],
   "source": [
    "oid"
   ]
  },
  {
   "cell_type": "code",
   "execution_count": 198,
   "metadata": {},
   "outputs": [
    {
     "data": {
      "text/plain": [
       "[{'classification_id': 98118966,\n",
       "  'created_at': '2018-03-21 14:43:05 UTC',\n",
       "  'oid': 1000102010005018,\n",
       "  'subject_ids': 19261945,\n",
       "  'user_id': 562290,\n",
       "  'user_name': 'aarozoon',\n",
       "  'val': 'Periodic\\n'},\n",
       " {'classification_id': 98361756,\n",
       "  'created_at': '2018-03-22 18:14:46 UTC',\n",
       "  'oid': 35782020001711,\n",
       "  'subject_ids': 19264901,\n",
       "  'user_id': 562290,\n",
       "  'user_name': 'aarozoon',\n",
       "  'val': 'Non-periodic'},\n",
       " {'classification_id': 98361794,\n",
       "  'created_at': '2018-03-22 18:15:01 UTC',\n",
       "  'oid': 1010032025000695,\n",
       "  'subject_ids': 19263017,\n",
       "  'user_id': 562290,\n",
       "  'user_name': 'aarozoon',\n",
       "  'val': 'Non-periodic'},\n",
       " {'classification_id': 98361802,\n",
       "  'created_at': '2018-03-22 18:15:03 UTC',\n",
       "  'oid': 227202090000435,\n",
       "  'subject_ids': 19264032,\n",
       "  'user_id': 562290,\n",
       "  'user_name': 'aarozoon',\n",
       "  'val': 'Non-periodic'},\n",
       " {'classification_id': 98361810,\n",
       "  'created_at': '2018-03-22 18:15:07 UTC',\n",
       "  'oid': 35782020009323,\n",
       "  'subject_ids': 19264549,\n",
       "  'user_id': 562290,\n",
       "  'user_name': 'aarozoon',\n",
       "  'val': 'Periodic\\n'},\n",
       " {'classification_id': 98361824,\n",
       "  'created_at': '2018-03-22 18:15:14 UTC',\n",
       "  'oid': 1010032020000892,\n",
       "  'subject_ids': 19263088,\n",
       "  'user_id': 562290,\n",
       "  'user_name': 'aarozoon',\n",
       "  'val': 'Non-periodic'},\n",
       " {'classification_id': 98361836,\n",
       "  'created_at': '2018-03-22 18:15:16 UTC',\n",
       "  'oid': 1010032025000243,\n",
       "  'subject_ids': 19262634,\n",
       "  'user_id': 1665115,\n",
       "  'user_name': 'knowledgewithin',\n",
       "  'val': 'Non-periodic'},\n",
       " {'classification_id': 98361839,\n",
       "  'created_at': '2018-03-22 18:15:18 UTC',\n",
       "  'oid': 1000432060036093,\n",
       "  'subject_ids': 19262870,\n",
       "  'user_id': 562290,\n",
       "  'user_name': 'aarozoon',\n",
       "  'val': 'Periodic\\n'},\n",
       " {'classification_id': 98361849,\n",
       "  'created_at': '2018-03-22 18:15:20 UTC',\n",
       "  'oid': 45882070002994,\n",
       "  'subject_ids': 19262815,\n",
       "  'user_id': 1665115,\n",
       "  'user_name': 'knowledgewithin',\n",
       "  'val': 'Periodic\\n'},\n",
       " {'classification_id': 98361858,\n",
       "  'created_at': '2018-03-22 18:15:22 UTC',\n",
       "  'oid': 1010032020000348,\n",
       "  'subject_ids': 19263066,\n",
       "  'user_id': 1665115,\n",
       "  'user_name': 'knowledgewithin',\n",
       "  'val': 'Non-periodic'},\n",
       " {'classification_id': 98361864,\n",
       "  'created_at': '2018-03-22 18:15:24 UTC',\n",
       "  'oid': 1010032020000205,\n",
       "  'subject_ids': 19263192,\n",
       "  'user_id': 1665115,\n",
       "  'user_name': 'knowledgewithin',\n",
       "  'val': 'Non-periodic'},\n",
       " {'classification_id': 98361914,\n",
       "  'created_at': '2018-03-22 18:15:42 UTC',\n",
       "  'oid': 35782020007389,\n",
       "  'subject_ids': 19264533,\n",
       "  'user_id': 562290,\n",
       "  'user_name': 'aarozoon',\n",
       "  'val': 'Periodic\\n'}]"
      ]
     },
     "execution_count": 198,
     "metadata": {},
     "output_type": "execute_result"
    }
   ],
   "source": [
    "clist"
   ]
  },
  {
   "cell_type": "code",
   "execution_count": 181,
   "metadata": {},
   "outputs": [
    {
     "data": {
      "text/plain": [
       "{'Filename': 'figs_v01__1000102010005018.png', 'retired': None}"
      ]
     },
     "execution_count": 181,
     "metadata": {},
     "output_type": "execute_result"
    }
   ],
   "source": [
    "c.subject_data_json[str(c.subject_ids)]"
   ]
  },
  {
   "cell_type": "code",
   "execution_count": 167,
   "metadata": {},
   "outputs": [
    {
     "data": {
      "text/plain": [
       "{'19261945': {'Filename': 'figs_v01__1000102010005018.png', 'retired': None}}"
      ]
     },
     "execution_count": 167,
     "metadata": {},
     "output_type": "execute_result"
    }
   ],
   "source": [
    "c.subject_data_json"
   ]
  },
  {
   "cell_type": "code",
   "execution_count": 67,
   "metadata": {},
   "outputs": [],
   "source": [
    "conn = sqlite3.connect('features.db')\n",
    "cur = conn.cursor()"
   ]
  },
  {
   "cell_type": "code",
   "execution_count": 87,
   "metadata": {},
   "outputs": [
    {
     "data": {
      "text/plain": [
       "<sqlite3.Cursor at 0x7fd52f9e1180>"
      ]
     },
     "execution_count": 87,
     "metadata": {},
     "output_type": "execute_result"
    }
   ],
   "source": [
    "cur.execute(\"\"\"create table classifications(\n",
    "        oid Float Primary Key, subject_ids Float,\n",
    "        user_name__1 string,user_id__1 string, classification_id__1 Float, val__1 string,\n",
    "        user_name__2 string,user_id__2 string, classification_id__2 Float, val__2 string,\n",
    "        user_name__3 string,user_id__3 string, classification_id__3 Float, val__3 string,\n",
    "        user_name__4 string,user_id__4 string, classification_id__4 Float, val__4 string,\n",
    "        user_name__5 string,user_id__5 string, classification_id__5 Float, val__5 string,\n",
    "        user_name__6 string,user_id__6 string, classification_id__6 Float, val__6 string,\n",
    "        user_name__7 string,user_id__7 string, classification_id__7 Float, val__7 string,\n",
    "        user_name__8 string,user_id__8 string, classification_id__8 Float, val__8 string,\n",
    "        user_name__9 string,user_id__9 string, classification_id__9 Float, val__9 string,\n",
    "        user_name_10 string,user_id_10 string, classification_id_10 Float, val_10 string,\n",
    "        user_name_11 string,user_id_11 string, classification_id_11 Float, val_11 string,\n",
    "        user_name_12 string,user_id_12 string, classification_id_12 Float, val_12 string,\n",
    "        user_name_13 string,user_id_13 string, classification_id_13 Float, val_13 string,\n",
    "        user_name_14 string,user_id_14 string, classification_id_14 Float, val_14 string,\n",
    "        user_name_15 string,user_id_15 string, classification_id_15 Float, val_15 string\n",
    "        )\"\"\")"
   ]
  },
  {
   "cell_type": "code",
   "execution_count": 88,
   "metadata": {
    "collapsed": true
   },
   "outputs": [
    {
     "data": {
      "text/plain": [
       "[(0, 'oid', 'Float', 0, None, 1),\n",
       " (1, 'subject_ids', 'Float', 0, None, 0),\n",
       " (2, 'user_name__1', 'string', 0, None, 0),\n",
       " (3, 'user_id_1', 'string', 0, None, 0),\n",
       " (4, 'val_1', 'string', 0, None, 0),\n",
       " (5, 'user_name__2', 'string', 0, None, 0),\n",
       " (6, 'user_id_2', 'string', 0, None, 0),\n",
       " (7, 'val_2', 'string', 0, None, 0),\n",
       " (8, 'user_name__3', 'string', 0, None, 0),\n",
       " (9, 'user_id_3', 'string', 0, None, 0),\n",
       " (10, 'val_3', 'string', 0, None, 0),\n",
       " (11, 'user_name__4', 'string', 0, None, 0),\n",
       " (12, 'user_id_4', 'string', 0, None, 0),\n",
       " (13, 'val_4', 'string', 0, None, 0),\n",
       " (14, 'user_name__5', 'string', 0, None, 0),\n",
       " (15, 'user_id_5', 'string', 0, None, 0),\n",
       " (16, 'val_5', 'string', 0, None, 0),\n",
       " (17, 'user_name__6', 'string', 0, None, 0),\n",
       " (18, 'user_id_6', 'string', 0, None, 0),\n",
       " (19, 'val_6', 'string', 0, None, 0),\n",
       " (20, 'user_name__7', 'string', 0, None, 0),\n",
       " (21, 'user_id_7', 'string', 0, None, 0),\n",
       " (22, 'val_7', 'string', 0, None, 0),\n",
       " (23, 'user_name__8', 'string', 0, None, 0),\n",
       " (24, 'user_id_8', 'string', 0, None, 0),\n",
       " (25, 'val_8', 'string', 0, None, 0),\n",
       " (26, 'user_name__9', 'string', 0, None, 0),\n",
       " (27, 'user_id_9', 'string', 0, None, 0),\n",
       " (28, 'val_9', 'string', 0, None, 0),\n",
       " (29, 'user_name_10', 'string', 0, None, 0),\n",
       " (30, 'user_id10', 'string', 0, None, 0),\n",
       " (31, 'val10', 'string', 0, None, 0),\n",
       " (32, 'user_name_11', 'string', 0, None, 0),\n",
       " (33, 'user_id11', 'string', 0, None, 0),\n",
       " (34, 'val11', 'string', 0, None, 0),\n",
       " (35, 'user_name_12', 'string', 0, None, 0),\n",
       " (36, 'user_id12', 'string', 0, None, 0),\n",
       " (37, 'val12', 'string', 0, None, 0),\n",
       " (38, 'user_name_13', 'string', 0, None, 0),\n",
       " (39, 'user_id13', 'string', 0, None, 0),\n",
       " (40, 'val13', 'string', 0, None, 0),\n",
       " (41, 'user_name_14', 'string', 0, None, 0),\n",
       " (42, 'user_id14', 'string', 0, None, 0),\n",
       " (43, 'val14', 'string', 0, None, 0),\n",
       " (44, 'user_name_15', 'string', 0, None, 0),\n",
       " (45, 'user_id15', 'string', 0, None, 0),\n",
       " (46, 'val15', 'string', 0, None, 0)]"
      ]
     },
     "execution_count": 88,
     "metadata": {},
     "output_type": "execute_result"
    }
   ],
   "source": [
    "cur.execute(\"\"\"PRaGMA table_info(classifications)\"\"\")\n",
    "cur.fetchall()"
   ]
  },
  {
   "cell_type": "code",
   "execution_count": 112,
   "metadata": {},
   "outputs": [
    {
     "name": "stdout",
     "output_type": "stream",
     "text": [
      "classification_id__1 Float,user_name__1 string,user_id__1 string,val__1 string,\n",
      "classification_id__2 Float,user_name__2 string,user_id__2 string,val__2 string,\n",
      "classification_id__3 Float,user_name__3 string,user_id__3 string,val__3 string,\n",
      "classification_id__4 Float,user_name__4 string,user_id__4 string,val__4 string,\n",
      "classification_id__5 Float,user_name__5 string,user_id__5 string,val__5 string,\n",
      "classification_id__6 Float,user_name__6 string,user_id__6 string,val__6 string,\n",
      "classification_id__7 Float,user_name__7 string,user_id__7 string,val__7 string,\n",
      "classification_id__8 Float,user_name__8 string,user_id__8 string,val__8 string,\n",
      "classification_id__9 Float,user_name__9 string,user_id__9 string,val__9 string,\n",
      "classification_id_10 Float,user_name_10 string,user_id_10 string,val_10 string,\n",
      "classification_id_11 Float,user_name_11 string,user_id_11 string,val_11 string,\n",
      "classification_id_12 Float,user_name_12 string,user_id_12 string,val_12 string,\n",
      "classification_id_13 Float,user_name_13 string,user_id_13 string,val_13 string,\n",
      "classification_id_14 Float,user_name_14 string,user_id_14 string,val_14 string,\n",
      "classification_id_15 Float,user_name_15 string,user_id_15 string,val_15 string,\n"
     ]
    }
   ],
   "source": [
    "for i in range(15):\n",
    "    print('classification_id{:_>3} Float,user_name{:_>3} string,user_id{:_>3} string,val{:_>3} string,'.format(i+1,i+1,i+1,i+1))"
   ]
  },
  {
   "cell_type": "code",
   "execution_count": 95,
   "metadata": {},
   "outputs": [],
   "source": [
    "blist = pd.DataFrame(clist)"
   ]
  },
  {
   "cell_type": "code",
   "execution_count": 137,
   "metadata": {},
   "outputs": [
    {
     "data": {
      "text/html": [
       "<div>\n",
       "<style>\n",
       "    .dataframe thead tr:only-child th {\n",
       "        text-align: right;\n",
       "    }\n",
       "\n",
       "    .dataframe thead th {\n",
       "        text-align: left;\n",
       "    }\n",
       "\n",
       "    .dataframe tbody tr th {\n",
       "        vertical-align: top;\n",
       "    }\n",
       "</style>\n",
       "<table border=\"1\" class=\"dataframe\">\n",
       "  <thead>\n",
       "    <tr style=\"text-align: right;\">\n",
       "      <th></th>\n",
       "      <th>0</th>\n",
       "      <th>1</th>\n",
       "      <th>2</th>\n",
       "      <th>3</th>\n",
       "      <th>4</th>\n",
       "      <th>5</th>\n",
       "      <th>6</th>\n",
       "      <th>7</th>\n",
       "      <th>8</th>\n",
       "      <th>9</th>\n",
       "      <th>10</th>\n",
       "      <th>11</th>\n",
       "    </tr>\n",
       "  </thead>\n",
       "  <tbody>\n",
       "    <tr>\n",
       "      <th>classification_id</th>\n",
       "      <td>98118966</td>\n",
       "      <td>98361756</td>\n",
       "      <td>98361794</td>\n",
       "      <td>98361802</td>\n",
       "      <td>98361810</td>\n",
       "      <td>98361824</td>\n",
       "      <td>98361836</td>\n",
       "      <td>98361839</td>\n",
       "      <td>98361849</td>\n",
       "      <td>98361858</td>\n",
       "      <td>98361864</td>\n",
       "      <td>98361914</td>\n",
       "    </tr>\n",
       "    <tr>\n",
       "      <th>created_at</th>\n",
       "      <td>2018-03-21 14:43:05 UTC</td>\n",
       "      <td>2018-03-22 18:14:46 UTC</td>\n",
       "      <td>2018-03-22 18:15:01 UTC</td>\n",
       "      <td>2018-03-22 18:15:03 UTC</td>\n",
       "      <td>2018-03-22 18:15:07 UTC</td>\n",
       "      <td>2018-03-22 18:15:14 UTC</td>\n",
       "      <td>2018-03-22 18:15:16 UTC</td>\n",
       "      <td>2018-03-22 18:15:18 UTC</td>\n",
       "      <td>2018-03-22 18:15:20 UTC</td>\n",
       "      <td>2018-03-22 18:15:22 UTC</td>\n",
       "      <td>2018-03-22 18:15:24 UTC</td>\n",
       "      <td>2018-03-22 18:15:42 UTC</td>\n",
       "    </tr>\n",
       "    <tr>\n",
       "      <th>subject_ids</th>\n",
       "      <td>19261945</td>\n",
       "      <td>19264901</td>\n",
       "      <td>19263017</td>\n",
       "      <td>19264032</td>\n",
       "      <td>19264549</td>\n",
       "      <td>19263088</td>\n",
       "      <td>19262634</td>\n",
       "      <td>19262870</td>\n",
       "      <td>19262815</td>\n",
       "      <td>19263066</td>\n",
       "      <td>19263192</td>\n",
       "      <td>19264533</td>\n",
       "    </tr>\n",
       "    <tr>\n",
       "      <th>user_id</th>\n",
       "      <td>562290</td>\n",
       "      <td>562290</td>\n",
       "      <td>562290</td>\n",
       "      <td>562290</td>\n",
       "      <td>562290</td>\n",
       "      <td>562290</td>\n",
       "      <td>1665115</td>\n",
       "      <td>562290</td>\n",
       "      <td>1665115</td>\n",
       "      <td>1665115</td>\n",
       "      <td>1665115</td>\n",
       "      <td>562290</td>\n",
       "    </tr>\n",
       "    <tr>\n",
       "      <th>user_name</th>\n",
       "      <td>aarozoon</td>\n",
       "      <td>aarozoon</td>\n",
       "      <td>aarozoon</td>\n",
       "      <td>aarozoon</td>\n",
       "      <td>aarozoon</td>\n",
       "      <td>aarozoon</td>\n",
       "      <td>knowledgewithin</td>\n",
       "      <td>aarozoon</td>\n",
       "      <td>knowledgewithin</td>\n",
       "      <td>knowledgewithin</td>\n",
       "      <td>knowledgewithin</td>\n",
       "      <td>aarozoon</td>\n",
       "    </tr>\n",
       "    <tr>\n",
       "      <th>val</th>\n",
       "      <td>Periodic\\n</td>\n",
       "      <td>Non-periodic</td>\n",
       "      <td>Non-periodic</td>\n",
       "      <td>Non-periodic</td>\n",
       "      <td>Periodic\\n</td>\n",
       "      <td>Non-periodic</td>\n",
       "      <td>Non-periodic</td>\n",
       "      <td>Periodic\\n</td>\n",
       "      <td>Periodic\\n</td>\n",
       "      <td>Non-periodic</td>\n",
       "      <td>Non-periodic</td>\n",
       "      <td>Periodic\\n</td>\n",
       "    </tr>\n",
       "  </tbody>\n",
       "</table>\n",
       "</div>"
      ],
      "text/plain": [
       "                                        0                        1   \\\n",
       "classification_id                 98118966                 98361756   \n",
       "created_at         2018-03-21 14:43:05 UTC  2018-03-22 18:14:46 UTC   \n",
       "subject_ids                       19261945                 19264901   \n",
       "user_id                             562290                   562290   \n",
       "user_name                         aarozoon                 aarozoon   \n",
       "val                             Periodic\\n             Non-periodic   \n",
       "\n",
       "                                        2                        3   \\\n",
       "classification_id                 98361794                 98361802   \n",
       "created_at         2018-03-22 18:15:01 UTC  2018-03-22 18:15:03 UTC   \n",
       "subject_ids                       19263017                 19264032   \n",
       "user_id                             562290                   562290   \n",
       "user_name                         aarozoon                 aarozoon   \n",
       "val                           Non-periodic             Non-periodic   \n",
       "\n",
       "                                        4                        5   \\\n",
       "classification_id                 98361810                 98361824   \n",
       "created_at         2018-03-22 18:15:07 UTC  2018-03-22 18:15:14 UTC   \n",
       "subject_ids                       19264549                 19263088   \n",
       "user_id                             562290                   562290   \n",
       "user_name                         aarozoon                 aarozoon   \n",
       "val                             Periodic\\n             Non-periodic   \n",
       "\n",
       "                                        6                        7   \\\n",
       "classification_id                 98361836                 98361839   \n",
       "created_at         2018-03-22 18:15:16 UTC  2018-03-22 18:15:18 UTC   \n",
       "subject_ids                       19262634                 19262870   \n",
       "user_id                            1665115                   562290   \n",
       "user_name                  knowledgewithin                 aarozoon   \n",
       "val                           Non-periodic               Periodic\\n   \n",
       "\n",
       "                                        8                        9   \\\n",
       "classification_id                 98361849                 98361858   \n",
       "created_at         2018-03-22 18:15:20 UTC  2018-03-22 18:15:22 UTC   \n",
       "subject_ids                       19262815                 19263066   \n",
       "user_id                            1665115                  1665115   \n",
       "user_name                  knowledgewithin          knowledgewithin   \n",
       "val                             Periodic\\n             Non-periodic   \n",
       "\n",
       "                                        10                       11  \n",
       "classification_id                 98361864                 98361914  \n",
       "created_at         2018-03-22 18:15:24 UTC  2018-03-22 18:15:42 UTC  \n",
       "subject_ids                       19263192                 19264533  \n",
       "user_id                            1665115                   562290  \n",
       "user_name                  knowledgewithin                 aarozoon  \n",
       "val                           Non-periodic               Periodic\\n  "
      ]
     },
     "execution_count": 137,
     "metadata": {},
     "output_type": "execute_result"
    }
   ],
   "source": [
    "blist.T"
   ]
  },
  {
   "cell_type": "code",
   "execution_count": 145,
   "metadata": {},
   "outputs": [
    {
     "ename": "TypeError",
     "evalue": "'int' object is not iterable",
     "output_type": "error",
     "traceback": [
      "\u001b[0;31m---------------------------------------------------------------------------\u001b[0m",
      "\u001b[0;31mTypeError\u001b[0m                                 Traceback (most recent call last)",
      "\u001b[0;32m<ipython-input-145-812129cb8af6>\u001b[0m in \u001b[0;36m<module>\u001b[0;34m()\u001b[0m\n\u001b[1;32m      1\u001b[0m \u001b[0mrows\u001b[0m\u001b[0;34m,\u001b[0m \u001b[0mcols\u001b[0m \u001b[0;34m=\u001b[0m \u001b[0mnp\u001b[0m\u001b[0;34m.\u001b[0m\u001b[0mshape\u001b[0m\u001b[0;34m(\u001b[0m\u001b[0mblist\u001b[0m\u001b[0;34m)\u001b[0m\u001b[0;34m\u001b[0m\u001b[0m\n\u001b[1;32m      2\u001b[0m \u001b[0;34m\u001b[0m\u001b[0m\n\u001b[0;32m----> 3\u001b[0;31m \u001b[0;32mfor\u001b[0m \u001b[0mp\u001b[0m \u001b[0;32min\u001b[0m \u001b[0mrows\u001b[0m\u001b[0;34m:\u001b[0m\u001b[0;34m\u001b[0m\u001b[0m\n\u001b[0m\u001b[1;32m      4\u001b[0m     \u001b[0mprint\u001b[0m\u001b[0;34m(\u001b[0m\u001b[0mp\u001b[0m\u001b[0;34m)\u001b[0m\u001b[0;34m\u001b[0m\u001b[0m\n\u001b[1;32m      5\u001b[0m     \u001b[0;31m#data = blist.T[rowid]['classification_id'], blist.T[rowid]\u001b[0m\u001b[0;34m\u001b[0m\u001b[0;34m\u001b[0m\u001b[0m\n",
      "\u001b[0;31mTypeError\u001b[0m: 'int' object is not iterable"
     ]
    }
   ],
   "source": [
    "rows, cols = np.shape(blist)\n",
    "\n",
    "for p in range(rows):\n",
    "    \n",
    "    #data = blist.T[rowid]['classification_id'], blist.T[rowid]"
   ]
  },
  {
   "cell_type": "code",
   "execution_count": 138,
   "metadata": {},
   "outputs": [
    {
     "data": {
      "text/plain": [
       "<zip at 0x7fd52f7b8e88>"
      ]
     },
     "execution_count": 138,
     "metadata": {},
     "output_type": "execute_result"
    }
   ],
   "source": [
    "zip(blist.T)"
   ]
  },
  {
   "cell_type": "code",
   "execution_count": null,
   "metadata": {},
   "outputs": [],
   "source": []
  }
 ],
 "metadata": {
  "kernelspec": {
   "display_name": "Python 3",
   "language": "python",
   "name": "python3"
  },
  "language_info": {
   "codemirror_mode": {
    "name": "ipython",
    "version": 3
   },
   "file_extension": ".py",
   "mimetype": "text/x-python",
   "name": "python",
   "nbconvert_exporter": "python",
   "pygments_lexer": "ipython3",
   "version": "3.6.4"
  }
 },
 "nbformat": 4,
 "nbformat_minor": 2
}
