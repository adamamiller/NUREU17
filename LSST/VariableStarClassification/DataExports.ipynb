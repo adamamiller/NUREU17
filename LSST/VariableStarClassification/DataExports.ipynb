{
 "cells": [
  {
   "cell_type": "code",
   "execution_count": 1,
   "metadata": {
    "collapsed": true
   },
   "outputs": [],
   "source": [
    "import numpy as np\n",
    "import pandas as pd\n",
    "import json\n",
    "import sqlite3"
   ]
  },
  {
   "cell_type": "code",
   "execution_count": 2,
   "metadata": {
    "collapsed": true
   },
   "outputs": [],
   "source": [
    "classifications = pd.read_csv(\"periodicity-classifications.csv\")\n",
    "classifications['metadata_json'] = [json.loads(q) for q in classifications.metadata]\n",
    "classifications['annotations_json'] = [json.loads(q) for q in classifications.annotations]\n",
    "classifications['subject_data_json'] = [json.loads(q) for q in classifications.subject_data]\n",
    "\n",
    "conn = sqlite3.connect('features.db')\n",
    "cur = conn.cursor()"
   ]
  },
  {
   "cell_type": "code",
   "execution_count": 3,
   "metadata": {
    "collapsed": true
   },
   "outputs": [],
   "source": [
    "iclass = classifications[classifications.workflow_version == classifications['workflow_version'].max()]\n",
    "\n",
    "clist=[]"
   ]
  },
  {
   "cell_type": "code",
   "execution_count": 9,
   "metadata": {
    "collapsed": true
   },
   "outputs": [],
   "source": [
    "clist.clear()\n",
    "for index, c in iclass.iterrows():\n",
    "    filename = str(c.subject_data_json[str(c.subject_ids)]['Filename'])\n",
    "    oid = filename.split(\"_\")[-1]\n",
    "    oid = int(oid.split(\".\")[0])\n",
    "    clist.append({'classification_id':c.classification_id, 'user_name':c.user_name, 'user_id':c.user_id, \n",
    "                  'created_at':c.created_at, 'subject_ids':c.subject_ids, 'val':c.annotations_json[0]['value'], \n",
    "                  'oid':oid, 'workflow_id':c.workflow_id})\n",
    "       \n",
    "##save function"
   ]
  },
  {
   "cell_type": "code",
   "execution_count": 10,
   "metadata": {},
   "outputs": [],
   "source": [
    "cur.execute(\"\"\"select classification_id from classifications\"\"\")\n",
    "class_id = cur.fetchall()\n",
    "\n",
    "for clist_dict in clist:\n",
    "    if clist_dict['classification_id'] not in class_id:\n",
    "        string = \"\"\"insert into classifications values({}, {}, '{}', {}, {}, '{}', '{}', {})\"\"\".format(\n",
    "                clist_dict['classification_id'], clist_dict['oid'], clist_dict['created_at'], clist_dict['subject_ids'], \n",
    "                clist_dict['user_id'], clist_dict['user_name'], clist_dict['val'], clist_dict['workflow_id'])    \n",
    "        cur.execute(string)"
   ]
  },
  {
   "cell_type": "code",
   "execution_count": 11,
   "metadata": {
    "collapsed": true
   },
   "outputs": [],
   "source": [
    "cur.execute(\"\"\"select * from classifications\"\"\")\n",
    "a = cur.fetchall()"
   ]
  },
  {
   "cell_type": "code",
   "execution_count": 8,
   "metadata": {},
   "outputs": [
    {
     "data": {
      "text/plain": [
       "[(0, 'classification_id', 'int', 0, None, 1),\n",
       " (1, 'oid', 'Bigint', 0, None, 0),\n",
       " (2, 'created', 'String', 0, None, 0),\n",
       " (3, 'subject_ids', 'int', 0, None, 0),\n",
       " (4, 'user_id', 'int', 0, None, 0),\n",
       " (5, 'username', 'String', 0, None, 0),\n",
       " (6, 'val', 'String', 0, None, 0),\n",
       " (7, 'workflow_id', 'int', 0, None, 0)]"
      ]
     },
     "execution_count": 8,
     "metadata": {},
     "output_type": "execute_result"
    }
   ],
   "source": [
    "cur.execute(\"\"\"PRaGMA table_info(classifications)\"\"\")\n",
    "cur.fetchall()"
   ]
  },
  {
   "cell_type": "code",
   "execution_count": 7,
   "metadata": {
    "scrolled": true
   },
   "outputs": [
    {
     "data": {
      "text/plain": [
       "<sqlite3.Cursor at 0x7f40cb3b2650>"
      ]
     },
     "execution_count": 7,
     "metadata": {},
     "output_type": "execute_result"
    }
   ],
   "source": [
    "cur.execute(\"\"\"create table classifications(\n",
    "        classification_id int Primary key,\n",
    "        oid Bigint,\n",
    "        created String,\n",
    "        subject_ids int,\n",
    "        user_id int, \n",
    "        username String,\n",
    "        val String,\n",
    "        workflow_id int\n",
    "        )\"\"\")"
   ]
  },
  {
   "cell_type": "code",
   "execution_count": 25,
   "metadata": {},
   "outputs": [],
   "source": [
    "cur.execute(\"\"\"select oid, case val when 'Periodic' then '1' else '0' end overall from classifications;\"\"\")\n",
    "b = cur.fetchall()"
   ]
  },
  {
   "cell_type": "code",
   "execution_count": 36,
   "metadata": {},
   "outputs": [
    {
     "data": {
      "text/plain": [
       "205"
      ]
     },
     "execution_count": 36,
     "metadata": {},
     "output_type": "execute_result"
    }
   ],
   "source": [
    "len(b)"
   ]
  },
  {
   "cell_type": "code",
   "execution_count": 37,
   "metadata": {},
   "outputs": [
    {
     "data": {
      "text/plain": [
       "[(33772070008511,),\n",
       " (32752090003883,),\n",
       " (34782080007596,),\n",
       " (32752090004203,),\n",
       " (1000132040006341,),\n",
       " (1000262000005422,),\n",
       " (35782020003582,),\n",
       " (34782080011018,),\n",
       " (1000132080006449,),\n",
       " (33772070002579,),\n",
       " (1000262000004818,),\n",
       " (34782080010649,),\n",
       " (35782020006076,),\n",
       " (1000102000002821,),\n",
       " (1000132050001344,),\n",
       " (1010032020000788,),\n",
       " (1000202110007561,),\n",
       " (34782080002185,),\n",
       " (1000372000002541,),\n",
       " (1010032010002194,),\n",
       " (1000132050008085,),\n",
       " (1000202110008098,),\n",
       " (1000132050007533,),\n",
       " (51892020004020,),\n",
       " (1000372000007130,),\n",
       " (1000132050004480,),\n",
       " (44972080011009,),\n",
       " (1010032070004151,),\n",
       " (1000132100002568,),\n",
       " (1000202110008105,),\n",
       " (1000132100006322,),\n",
       " (35782020008131,),\n",
       " (33762090005135,),\n",
       " (1000372000003143,),\n",
       " (1000032015000199,),\n",
       " (33772070008461,),\n",
       " (33772070008461,),\n",
       " (1000372000003818,),\n",
       " (1000202110002035,),\n",
       " (1000262000008772,),\n",
       " (1000262000008772,),\n",
       " (1010032020000453,),\n",
       " (45882050007665,),\n",
       " (1000372000001675,),\n",
       " (35782020004849,),\n",
       " (1010032020002182,),\n",
       " (1000132050008290,),\n",
       " (1010032020001710,),\n",
       " (33772070002489,),\n",
       " (33772070003070,),\n",
       " (34782080001338,),\n",
       " (33762090005726,),\n",
       " (1000132090003356,),\n",
       " (1000132040002414,),\n",
       " (1000202110002974,),\n",
       " (1000492110016832,),\n",
       " (1000202110001323,),\n",
       " (1010032020000959,),\n",
       " (1000132040006358,),\n",
       " (1000132100006523,),\n",
       " (1000132100004394,),\n",
       " (33772070001037,),\n",
       " (32752090010549,),\n",
       " (1000132080005411,),\n",
       " (33772070001163,),\n",
       " (1000132090001605,),\n",
       " (1000132040008345,),\n",
       " (1000132050004645,),\n",
       " (33772070003566,),\n",
       " (1000462110001626,),\n",
       " (1000262000000905,),\n",
       " (1000132040004461,),\n",
       " (1000132040004461,),\n",
       " (35782020006663,),\n",
       " (1000372000002453,),\n",
       " (34782090010460,),\n",
       " (1001012050010437,),\n",
       " (1000372000005214,),\n",
       " (1000032070003789,),\n",
       " (1000132090004259,),\n",
       " (1000132080005785,),\n",
       " (35782020005983,),\n",
       " (35782020005983,),\n",
       " (34782080006044,),\n",
       " (1010032090000370,),\n",
       " (1010032020000841,),\n",
       " (1000132080006133,),\n",
       " (1000262000003083,),\n",
       " (34782080010473,),\n",
       " (1000132100005615,),\n",
       " (34782080010939,),\n",
       " (1000132100005870,),\n",
       " (1000202110004638,),\n",
       " (1000132050006596,),\n",
       " (1000202110001160,),\n",
       " (34782080010027,),\n",
       " (1000202110002262,),\n",
       " (33772070000868,),\n",
       " (33762090004305,),\n",
       " (35782020009343,),\n",
       " (34782080003365,),\n",
       " (34782080007372,),\n",
       " (1100052040007828,),\n",
       " (1100052040007828,),\n",
       " (1000202110003642,),\n",
       " (1100052040007828,),\n",
       " (1100052040007828,),\n",
       " (1010032010002194,),\n",
       " (1000132100004394,),\n",
       " (32752090004203,),\n",
       " (1000492110016832,),\n",
       " (1000132050001344,),\n",
       " (33762090004305,),\n",
       " (1000202110001323,),\n",
       " (1000372000007130,),\n",
       " (34782080003365,),\n",
       " (1000132100005870,),\n",
       " (1000262000000905,),\n",
       " (1000132100006322,),\n",
       " (33772070002579,),\n",
       " (1000132040002414,),\n",
       " (33772070008511,),\n",
       " (35782020009343,),\n",
       " (34782080007372,),\n",
       " (35782020003582,),\n",
       " (1000132050008290,),\n",
       " (1000372000003143,),\n",
       " (1000372000002541,),\n",
       " (1000132050007533,),\n",
       " (34782080001338,),\n",
       " (34782080010027,),\n",
       " (1000202110002974,),\n",
       " (34782080010939,),\n",
       " (34782080006044,),\n",
       " (44972080011009,),\n",
       " (1010032070004151,),\n",
       " (33772070002489,),\n",
       " (1000202110008098,),\n",
       " (1000202110001160,),\n",
       " (35782020006076,),\n",
       " (1000032070003789,),\n",
       " (1000132090004259,),\n",
       " (35782020004849,),\n",
       " (1000132090001605,),\n",
       " (1010032020002182,),\n",
       " (32752090003883,),\n",
       " (1010032020000841,),\n",
       " (1000262000004818,),\n",
       " (1000132040006341,),\n",
       " (1000132090003356,),\n",
       " (1000372000001675,),\n",
       " (1000132080005411,),\n",
       " (34782080007596,),\n",
       " (34782090010460,),\n",
       " (1000032015000199,),\n",
       " (1010032020000959,),\n",
       " (1000132080006449,),\n",
       " (1000132080006133,),\n",
       " (1000132100006523,),\n",
       " (34782080011018,),\n",
       " (33772070003070,),\n",
       " (34782080010649,),\n",
       " (1010032020000453,),\n",
       " (33762090005726,),\n",
       " (35782020006663,),\n",
       " (1000132080005785,),\n",
       " (1001012050010437,),\n",
       " (1000132100002568,),\n",
       " (1000462110001626,),\n",
       " (1000202110008105,),\n",
       " (34782080010473,),\n",
       " (32752090010549,),\n",
       " (1000132100005615,),\n",
       " (1000202110007561,),\n",
       " (1100052040007828,),\n",
       " (1100052040007828,),\n",
       " (1000372000003818,),\n",
       " (1000202110003642,),\n",
       " (1000262000003083,),\n",
       " (1000202110002262,),\n",
       " (35782020008131,),\n",
       " (1000262000005422,),\n",
       " (33772070001163,),\n",
       " (1000372000002453,),\n",
       " (1010032090000370,),\n",
       " (33772070008461,),\n",
       " (33772070008461,),\n",
       " (1000202110004638,),\n",
       " (33772070008461,),\n",
       " (33772070008461,),\n",
       " (1000132050004480,),\n",
       " (1000202110002035,),\n",
       " (1000132050008085,),\n",
       " (45882050007665,),\n",
       " (33772070001037,),\n",
       " (51892020004020,),\n",
       " (1000102000002821,),\n",
       " (35782020005983,),\n",
       " (35782020005983,),\n",
       " (1010032020000788,),\n",
       " (35782020005983,),\n",
       " (35782020005983,),\n",
       " (1010032020001710,),\n",
       " (1000132040008345,),\n",
       " (1000132040006358,),\n",
       " (33772070003566,),\n",
       " (1000262000008772,),\n",
       " (1000262000008772,),\n",
       " (1000262000008772,),\n",
       " (1000262000008772,),\n",
       " (1000132040004461,),\n",
       " (1000132040004461,),\n",
       " (1000132040004461,),\n",
       " (1000132040004461,),\n",
       " (1000372000005214,),\n",
       " (33772070000868,),\n",
       " (33762090005135,),\n",
       " (34782080002185,),\n",
       " (1000132050004645,),\n",
       " (1000132050006596,)]"
      ]
     },
     "execution_count": 37,
     "metadata": {},
     "output_type": "execute_result"
    }
   ],
   "source": [
    "cur.execute(\"\"\"SELECT c1.oid FROM classifications c1 INNER JOIN classifications c2 ON c2.oid = c1.oid AND c1.classification_id <> c2.classification_id\"\"\")\n",
    "cur.fetchall()"
   ]
  },
  {
   "cell_type": "code",
   "execution_count": 23,
   "metadata": {},
   "outputs": [
    {
     "data": {
      "text/plain": [
       "'Periodic'"
      ]
     },
     "execution_count": 23,
     "metadata": {},
     "output_type": "execute_result"
    }
   ],
   "source": [
    "a[0][6]"
   ]
  },
  {
   "cell_type": "code",
   "execution_count": 21,
   "metadata": {},
   "outputs": [
    {
     "data": {
      "text/plain": [
       "(99456444,\n",
       " 33772070008511,\n",
       " '2018-03-29 19:59:07 UTC',\n",
       " 20684033,\n",
       " 562290,\n",
       " 'aarozoon',\n",
       " 'Periodic',\n",
       " 4500)"
      ]
     },
     "execution_count": 21,
     "metadata": {},
     "output_type": "execute_result"
    }
   ],
   "source": [
    "a[0]"
   ]
  },
  {
   "cell_type": "code",
   "execution_count": null,
   "metadata": {
    "collapsed": true
   },
   "outputs": [],
   "source": []
  }
 ],
 "metadata": {
  "kernelspec": {
   "display_name": "Python 3",
   "language": "python",
   "name": "python3"
  },
  "language_info": {
   "codemirror_mode": {
    "name": "ipython",
    "version": 3
   },
   "file_extension": ".py",
   "mimetype": "text/x-python",
   "name": "python",
   "nbconvert_exporter": "python",
   "pygments_lexer": "ipython3",
   "version": "3.6.2"
  }
 },
 "nbformat": 4,
 "nbformat_minor": 2
}
