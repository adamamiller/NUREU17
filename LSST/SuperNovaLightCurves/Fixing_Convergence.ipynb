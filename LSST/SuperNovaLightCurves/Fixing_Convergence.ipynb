{
 "cells": [
  {
   "cell_type": "markdown",
   "metadata": {},
   "source": [
    "# Examples of fixing convergence: Real and Matern Kernels\n"
   ]
  },
  {
   "cell_type": "code",
   "execution_count": 17,
   "metadata": {
    "collapsed": true
   },
   "outputs": [],
   "source": [
    "#import necessary python libraries\n",
    "import json\n",
    "import matplotlib.pyplot as plt\n",
    "import numpy as np\n",
    "from scipy.optimize import curve_fit, minimize\n",
    "import pandas as pd\n",
    "import math\n",
    "from JSON_to_DF import JSON_to_DataFrame\n",
    "from Lightcurve_class import *\n",
    "import celerite\n",
    "import pickle\n",
    "import seaborn as sns\n",
    "%matplotlib notebook"
   ]
  },
  {
   "cell_type": "code",
   "execution_count": 18,
   "metadata": {
    "collapsed": true
   },
   "outputs": [],
   "source": [
    "#Create Kernels for Gaussian Process\n",
    "\n",
    "#Real term parameter initialization\n",
    "a = 1e-2\n",
    "c = 1\n",
    "#Matern term parameter initialization\n",
    "sig = 1e-4\n",
    "rho = 100\n",
    "\n",
    "#Bounds on parameters \n",
    "bounds = dict(log_a = (-15,15), log_c = (-15,15))\n",
    "bounds = dict(log_sigma = (-15, 15), log_rho = (-15, 15))\n",
    "\n",
    "#Create Kernels\n",
    "Real = celerite.terms.RealTerm(log_a = np.log(a), log_c = np.log(c), bounds=bounds)\n",
    "Matern = celerite.terms.Matern32Term(log_sigma = np.log(sig), log_rho = np.log(rho))"
   ]
  },
  {
   "cell_type": "markdown",
   "metadata": {},
   "source": [
    "## Example 1: Supernovae 'Gaia14ado'\n",
    "\n"
   ]
  },
  {
   "cell_type": "code",
   "execution_count": 19,
   "metadata": {},
   "outputs": [
    {
     "name": "stderr",
     "output_type": "stream",
     "text": [
      "/Users/ethanmarx/anaconda/envs/NUREU17/lib/python3.6/site-packages/pandas/core/generic.py:1299: PerformanceWarning: \n",
      "your performance may suffer as PyTables will pickle object types that it cannot\n",
      "map directly to c-types [inferred_type->mixed,key->block1_values] [items->['band', 'source', 'telescope']]\n",
      "\n",
      "  return pytables.to_hdf(path_or_buf, key, self, **kwargs)\n",
      "/Users/ethanmarx/anaconda/envs/NUREU17/lib/python3.6/site-packages/numpy/lib/function_base.py:3858: RuntimeWarning: Invalid value encountered in median\n",
      "  r = func(a, **kwargs)\n",
      "/Users/ethanmarx/Documents/LSST/NUREU17/LSST/SuperNovaLightCurves/Lightcurve_class.py:204: RankWarning: Polyfit may be poorly conditioned\n",
      "  Coeffs = np.polyfit(time_del, flux_del, degree, w=flux_err_del)\n",
      "/Users/ethanmarx/Documents/LSST/NUREU17/LSST/SuperNovaLightCurves/Lightcurve_class.py:204: RankWarning: Polyfit may be poorly conditioned\n",
      "  Coeffs = np.polyfit(time_del, flux_del, degree, w=flux_err_del)\n",
      "/Users/ethanmarx/Documents/LSST/NUREU17/LSST/SuperNovaLightCurves/Lightcurve_class.py:204: RankWarning: Polyfit may be poorly conditioned\n",
      "  Coeffs = np.polyfit(time_del, flux_del, degree, w=flux_err_del)\n",
      "/Users/ethanmarx/Documents/LSST/NUREU17/LSST/SuperNovaLightCurves/Lightcurve_class.py:293: RankWarning: Polyfit may be poorly conditioned\n",
      "  Coeffs = np.polyfit(self.time, self.flux, degree, w=self.flux_err)\n",
      "/Users/ethanmarx/Documents/LSST/NUREU17/LSST/SuperNovaLightCurves/Lightcurve_class.py:204: RankWarning: Polyfit may be poorly conditioned\n",
      "  Coeffs = np.polyfit(time_del, flux_del, degree, w=flux_err_del)\n",
      "/Users/ethanmarx/Documents/LSST/NUREU17/LSST/SuperNovaLightCurves/Lightcurve_class.py:204: RankWarning: Polyfit may be poorly conditioned\n",
      "  Coeffs = np.polyfit(time_del, flux_del, degree, w=flux_err_del)\n",
      "/Users/ethanmarx/Documents/LSST/NUREU17/LSST/SuperNovaLightCurves/Lightcurve_class.py:204: RankWarning: Polyfit may be poorly conditioned\n",
      "  Coeffs = np.polyfit(time_del, flux_del, degree, w=flux_err_del)\n",
      "/Users/ethanmarx/Documents/LSST/NUREU17/LSST/SuperNovaLightCurves/Lightcurve_class.py:204: RankWarning: Polyfit may be poorly conditioned\n",
      "  Coeffs = np.polyfit(time_del, flux_del, degree, w=flux_err_del)\n",
      "/Users/ethanmarx/Documents/LSST/NUREU17/LSST/SuperNovaLightCurves/Lightcurve_class.py:204: RankWarning: Polyfit may be poorly conditioned\n",
      "  Coeffs = np.polyfit(time_del, flux_del, degree, w=flux_err_del)\n",
      "/Users/ethanmarx/Documents/LSST/NUREU17/LSST/SuperNovaLightCurves/Lightcurve_class.py:204: RankWarning: Polyfit may be poorly conditioned\n",
      "  Coeffs = np.polyfit(time_del, flux_del, degree, w=flux_err_del)\n",
      "/Users/ethanmarx/Documents/LSST/NUREU17/LSST/SuperNovaLightCurves/Lightcurve_class.py:204: RankWarning: Polyfit may be poorly conditioned\n",
      "  Coeffs = np.polyfit(time_del, flux_del, degree, w=flux_err_del)\n",
      "/Users/ethanmarx/Documents/LSST/NUREU17/LSST/SuperNovaLightCurves/Lightcurve_class.py:204: RankWarning: Polyfit may be poorly conditioned\n",
      "  Coeffs = np.polyfit(time_del, flux_del, degree, w=flux_err_del)\n",
      "/Users/ethanmarx/Documents/LSST/NUREU17/LSST/SuperNovaLightCurves/Lightcurve_class.py:204: RankWarning: Polyfit may be poorly conditioned\n",
      "  Coeffs = np.polyfit(time_del, flux_del, degree, w=flux_err_del)\n",
      "/Users/ethanmarx/Documents/LSST/NUREU17/LSST/SuperNovaLightCurves/Lightcurve_class.py:293: RankWarning: Polyfit may be poorly conditioned\n",
      "  Coeffs = np.polyfit(self.time, self.flux, degree, w=self.flux_err)\n",
      "/Users/ethanmarx/Documents/LSST/NUREU17/LSST/SuperNovaLightCurves/Lightcurve_class.py:204: RankWarning: Polyfit may be poorly conditioned\n",
      "  Coeffs = np.polyfit(time_del, flux_del, degree, w=flux_err_del)\n",
      "/Users/ethanmarx/Documents/LSST/NUREU17/LSST/SuperNovaLightCurves/Lightcurve_class.py:204: RankWarning: Polyfit may be poorly conditioned\n",
      "  Coeffs = np.polyfit(time_del, flux_del, degree, w=flux_err_del)\n",
      "/Users/ethanmarx/Documents/LSST/NUREU17/LSST/SuperNovaLightCurves/Lightcurve_class.py:204: RankWarning: Polyfit may be poorly conditioned\n",
      "  Coeffs = np.polyfit(time_del, flux_del, degree, w=flux_err_del)\n",
      "/Users/ethanmarx/Documents/LSST/NUREU17/LSST/SuperNovaLightCurves/Lightcurve_class.py:204: RankWarning: Polyfit may be poorly conditioned\n",
      "  Coeffs = np.polyfit(time_del, flux_del, degree, w=flux_err_del)\n",
      "/Users/ethanmarx/Documents/LSST/NUREU17/LSST/SuperNovaLightCurves/Lightcurve_class.py:204: RankWarning: Polyfit may be poorly conditioned\n",
      "  Coeffs = np.polyfit(time_del, flux_del, degree, w=flux_err_del)\n",
      "/Users/ethanmarx/Documents/LSST/NUREU17/LSST/SuperNovaLightCurves/Lightcurve_class.py:204: RankWarning: Polyfit may be poorly conditioned\n",
      "  Coeffs = np.polyfit(time_del, flux_del, degree, w=flux_err_del)\n",
      "/Users/ethanmarx/Documents/LSST/NUREU17/LSST/SuperNovaLightCurves/Lightcurve_class.py:204: RankWarning: Polyfit may be poorly conditioned\n",
      "  Coeffs = np.polyfit(time_del, flux_del, degree, w=flux_err_del)\n",
      "/Users/ethanmarx/Documents/LSST/NUREU17/LSST/SuperNovaLightCurves/Lightcurve_class.py:204: RankWarning: Polyfit may be poorly conditioned\n",
      "  Coeffs = np.polyfit(time_del, flux_del, degree, w=flux_err_del)\n",
      "/Users/ethanmarx/Documents/LSST/NUREU17/LSST/SuperNovaLightCurves/Lightcurve_class.py:204: RankWarning: Polyfit may be poorly conditioned\n",
      "  Coeffs = np.polyfit(time_del, flux_del, degree, w=flux_err_del)\n",
      "/Users/ethanmarx/Documents/LSST/NUREU17/LSST/SuperNovaLightCurves/Lightcurve_class.py:204: RankWarning: Polyfit may be poorly conditioned\n",
      "  Coeffs = np.polyfit(time_del, flux_del, degree, w=flux_err_del)\n",
      "/Users/ethanmarx/Documents/LSST/NUREU17/LSST/SuperNovaLightCurves/Lightcurve_class.py:204: RankWarning: Polyfit may be poorly conditioned\n",
      "  Coeffs = np.polyfit(time_del, flux_del, degree, w=flux_err_del)\n",
      "/Users/ethanmarx/Documents/LSST/NUREU17/LSST/SuperNovaLightCurves/Lightcurve_class.py:204: RankWarning: Polyfit may be poorly conditioned\n",
      "  Coeffs = np.polyfit(time_del, flux_del, degree, w=flux_err_del)\n",
      "/Users/ethanmarx/Documents/LSST/NUREU17/LSST/SuperNovaLightCurves/Lightcurve_class.py:204: RankWarning: Polyfit may be poorly conditioned\n",
      "  Coeffs = np.polyfit(time_del, flux_del, degree, w=flux_err_del)\n",
      "/Users/ethanmarx/Documents/LSST/NUREU17/LSST/SuperNovaLightCurves/Lightcurve_class.py:293: RankWarning: Polyfit may be poorly conditioned\n",
      "  Coeffs = np.polyfit(self.time, self.flux, degree, w=self.flux_err)\n",
      "/Users/ethanmarx/Documents/LSST/NUREU17/LSST/SuperNovaLightCurves/Lightcurve_class.py:204: RankWarning: Polyfit may be poorly conditioned\n",
      "  Coeffs = np.polyfit(time_del, flux_del, degree, w=flux_err_del)\n",
      "/Users/ethanmarx/Documents/LSST/NUREU17/LSST/SuperNovaLightCurves/Lightcurve_class.py:204: RankWarning: Polyfit may be poorly conditioned\n",
      "  Coeffs = np.polyfit(time_del, flux_del, degree, w=flux_err_del)\n",
      "/Users/ethanmarx/Documents/LSST/NUREU17/LSST/SuperNovaLightCurves/Lightcurve_class.py:204: RankWarning: Polyfit may be poorly conditioned\n",
      "  Coeffs = np.polyfit(time_del, flux_del, degree, w=flux_err_del)\n",
      "/Users/ethanmarx/Documents/LSST/NUREU17/LSST/SuperNovaLightCurves/Lightcurve_class.py:204: RankWarning: Polyfit may be poorly conditioned\n",
      "  Coeffs = np.polyfit(time_del, flux_del, degree, w=flux_err_del)\n",
      "/Users/ethanmarx/Documents/LSST/NUREU17/LSST/SuperNovaLightCurves/Lightcurve_class.py:204: RankWarning: Polyfit may be poorly conditioned\n",
      "  Coeffs = np.polyfit(time_del, flux_del, degree, w=flux_err_del)\n",
      "/Users/ethanmarx/Documents/LSST/NUREU17/LSST/SuperNovaLightCurves/Lightcurve_class.py:204: RankWarning: Polyfit may be poorly conditioned\n",
      "  Coeffs = np.polyfit(time_del, flux_del, degree, w=flux_err_del)\n",
      "/Users/ethanmarx/Documents/LSST/NUREU17/LSST/SuperNovaLightCurves/Lightcurve_class.py:204: RankWarning: Polyfit may be poorly conditioned\n",
      "  Coeffs = np.polyfit(time_del, flux_del, degree, w=flux_err_del)\n",
      "/Users/ethanmarx/Documents/LSST/NUREU17/LSST/SuperNovaLightCurves/Lightcurve_class.py:204: RankWarning: Polyfit may be poorly conditioned\n",
      "  Coeffs = np.polyfit(time_del, flux_del, degree, w=flux_err_del)\n",
      "/Users/ethanmarx/Documents/LSST/NUREU17/LSST/SuperNovaLightCurves/Lightcurve_class.py:204: RankWarning: Polyfit may be poorly conditioned\n",
      "  Coeffs = np.polyfit(time_del, flux_del, degree, w=flux_err_del)\n",
      "/Users/ethanmarx/Documents/LSST/NUREU17/LSST/SuperNovaLightCurves/Lightcurve_class.py:204: RankWarning: Polyfit may be poorly conditioned\n",
      "  Coeffs = np.polyfit(time_del, flux_del, degree, w=flux_err_del)\n"
     ]
    },
    {
     "name": "stdout",
     "output_type": "stream",
     "text": [
      "Gaia14ado\n"
     ]
    }
   ],
   "source": [
    "SN1 = Supernovae(\"../../../OSC_data/JSON_data/sne-2010-2014-master/Gaia14ado.json\")\n",
    "SN1.load_LightCurves()\n",
    "SN1.load_fit_data()\n",
    "SN1.serialize()"
   ]
  },
  {
   "cell_type": "code",
   "execution_count": 20,
   "metadata": {},
   "outputs": [
    {
     "name": "stdout",
     "output_type": "stream",
     "text": [
      "filter: B_4,5\n",
      "\n",
      "Summary Statistic:  {} \n",
      "\n",
      "Number of good observations:  5 \n",
      "\n",
      "Flux predictions:  [] \n",
      "\n",
      "filter: R_4,5\n",
      "\n",
      "Summary Statistic:  {} \n",
      "\n",
      "Number of good observations:  3 \n",
      "\n",
      "Flux predictions:  [] \n",
      "\n",
      "filter: I_4,5\n",
      "\n",
      "Summary Statistic:  {} \n",
      "\n",
      "Number of good observations:  6 \n",
      "\n",
      "Flux predictions:  [] \n",
      "\n",
      "filter: V_4,5\n",
      "\n",
      "Summary Statistic:  {'polynomial_4': 7.9902603574249431, 'polynomial_6': 7.998179752753658, 'polynomial_8': 7.9978910646877166, 'Kapernka': 8.0384324391157005, 'Bazin': 7.944716044317552, 'GP_Real': nan, 'GP_Matern': nan} \n",
      "\n",
      "Number of good observations:  109 \n",
      "\n",
      "Flux predictions:  [ 0.18877668  0.18877668  0.18877668  0.18877668  0.18877668  0.18877668\n",
      "  0.18877668  0.18877668  0.18877668  0.18877668  0.18877668  0.18877668\n",
      "  0.18877668  0.18877668  0.18877668  0.18877668  0.18877668  0.18877668\n",
      "  0.18877668  0.18877668         nan         nan  0.18877668  0.18877668\n",
      "  0.18877668  0.18877668  0.18877668  0.18877668  0.18877668  0.18877668\n",
      "  0.18877668  0.18877668  0.18877669  0.18877668  0.18877668  0.18877668\n",
      "  0.18877668  0.18877668  0.18877668  0.18877668  0.18877668  0.18877668\n",
      "  0.18877668  0.18877668  0.18877668  0.18877668  0.18877668  0.18877668\n",
      "  0.18877668  0.18877668  0.18877668  0.18877668  0.18877668  0.18877668\n",
      "  0.18877668  0.18877668  0.18877668  0.18877668  0.18877668  0.18877668\n",
      "  0.18877668  0.18877668  0.18877668  0.18877668  0.18877668  0.18877668\n",
      "  0.18877668  0.18877668  0.18877668  0.18877668  0.18877668  0.18877668\n",
      "  0.18877668  0.18877668  0.18877668  0.18877668  0.18877668  0.18877668\n",
      "  0.18877668  0.18877668  0.18877668  0.18877668  0.18877668  0.18877668\n",
      "  0.18877668  0.18877668  0.18877668  0.18877668  0.18877668  0.18877668\n",
      "  0.18877668  0.18877668  0.18877668  0.18877668  0.18877668  0.18877668\n",
      "  0.18877668  0.18877668  0.18877668  0.18877668  0.18877668  0.18877668\n",
      "  0.18877668  0.18877668  0.18877668  0.18877668  0.18877668  0.18877668\n",
      "  0.18877668] \n",
      "\n",
      "filter: r_4,5\n",
      "\n",
      "Summary Statistic:  {'polynomial_4': 4884968.8619448543, 'polynomial_6': 4423345800.5890779, 'polynomial_8': 1492225190.6980026, 'Kapernka': 5.1979526007476009, 'Bazin': 5.4985235603792635, 'GP_Real': nan, 'GP_Matern': nan} \n",
      "\n",
      "Number of good observations:  9 \n",
      "\n",
      "Flux predictions:  [ 0.85102475         nan  0.85102475  0.85102475  0.85102475  0.85102475\n",
      "         nan         nan  0.85102475] \n",
      "\n",
      "filter: g_4,5\n",
      "\n",
      "Summary Statistic:  {'polynomial_4': 205061053.4118512, 'polynomial_6': 146441098430193.5, 'polynomial_8': 2.8055660984815362e+19, 'Kapernka': 45.605891505035352, 'Bazin': 34.578073269699622, 'GP_Real': nan, 'GP_Matern': nan} \n",
      "\n",
      "Number of good observations:  14 \n",
      "\n",
      "Flux predictions:  [ 0.97647362  0.97647362  0.97647362  0.97647362  0.97647362  0.97647362\n",
      "  0.97647362  0.97647362  0.97647362         nan         nan  0.97647362\n",
      "         nan  0.97647362] \n",
      "\n",
      "filter: i_4,5\n",
      "\n",
      "Summary Statistic:  {'polynomial_4': 23.363293660898321, 'polynomial_6': 1625283.526939455, 'polynomial_8': 71950728.4742091, 'Kapernka': 4.6077547368978431, 'Bazin': 4.5888860048182138, 'GP_Real': nan, 'GP_Matern': nan} \n",
      "\n",
      "Number of good observations:  10 \n",
      "\n",
      "Flux predictions:  [ 0.91072258  0.91072258  0.91072258  0.91072258  0.91072258  0.91072258\n",
      "         nan         nan         nan  0.91072258] \n",
      "\n"
     ]
    }
   ],
   "source": [
    "'''Print the filter, summary statistics, number of good observations (anything with six or less should have been skipped),\n",
    " and the flux predictions array'''\n",
    "\n",
    "for filt in SN1.Lightcurves:\n",
    "    print(\"filter: \" + filt + \"\\n\")\n",
    "    print(\"Summary Statistic: \", SN1.Lightcurves[filt].Rchi2 ,\"\\n\" )\n",
    "    print(\"Number of good observations: \", SN1.Lightcurves[filt].n_good_obs, \"\\n\")\n",
    "    print(\"Flux predictions: \", SN1.Lightcurves[filt].flux_predicts, \"\\n\")"
   ]
  },
  {
   "cell_type": "code",
   "execution_count": 21,
   "metadata": {},
   "outputs": [
    {
     "name": "stderr",
     "output_type": "stream",
     "text": [
      "/Users/ethanmarx/anaconda/envs/NUREU17/lib/python3.6/site-packages/numpy/lib/function_base.py:3858: RuntimeWarning: Invalid value encountered in median\n",
      "  r = func(a, **kwargs)\n"
     ]
    },
    {
     "data": {
      "text/plain": [
       "(nan,)"
      ]
     },
     "execution_count": 21,
     "metadata": {},
     "output_type": "execute_result"
    }
   ],
   "source": [
    "SN1.Lightcurves['V_4,5'].Gaussian_process(Real)"
   ]
  },
  {
   "cell_type": "markdown",
   "metadata": {
    "collapsed": true
   },
   "source": [
    "## Example 2: Supernovae 'Gaia15abk'\n",
    "\n"
   ]
  },
  {
   "cell_type": "code",
   "execution_count": 22,
   "metadata": {},
   "outputs": [
    {
     "name": "stderr",
     "output_type": "stream",
     "text": [
      "/Users/ethanmarx/anaconda/envs/NUREU17/lib/python3.6/site-packages/pandas/core/generic.py:1299: PerformanceWarning: \n",
      "your performance may suffer as PyTables will pickle object types that it cannot\n",
      "map directly to c-types [inferred_type->mixed,key->block1_values] [items->['band', 'source', 'telescope']]\n",
      "\n",
      "  return pytables.to_hdf(path_or_buf, key, self, **kwargs)\n",
      "/Users/ethanmarx/Documents/LSST/NUREU17/LSST/SuperNovaLightCurves/Lightcurve_class.py:293: RankWarning: Polyfit may be poorly conditioned\n",
      "  Coeffs = np.polyfit(self.time, self.flux, degree, w=self.flux_err)\n",
      "/Users/ethanmarx/Documents/LSST/NUREU17/LSST/SuperNovaLightCurves/Lightcurve_class.py:204: RankWarning: Polyfit may be poorly conditioned\n",
      "  Coeffs = np.polyfit(time_del, flux_del, degree, w=flux_err_del)\n",
      "/Users/ethanmarx/Documents/LSST/NUREU17/LSST/SuperNovaLightCurves/Lightcurve_class.py:204: RankWarning: Polyfit may be poorly conditioned\n",
      "  Coeffs = np.polyfit(time_del, flux_del, degree, w=flux_err_del)\n",
      "/Users/ethanmarx/Documents/LSST/NUREU17/LSST/SuperNovaLightCurves/Lightcurve_class.py:204: RankWarning: Polyfit may be poorly conditioned\n",
      "  Coeffs = np.polyfit(time_del, flux_del, degree, w=flux_err_del)\n",
      "/Users/ethanmarx/Documents/LSST/NUREU17/LSST/SuperNovaLightCurves/Lightcurve_class.py:204: RankWarning: Polyfit may be poorly conditioned\n",
      "  Coeffs = np.polyfit(time_del, flux_del, degree, w=flux_err_del)\n",
      "/Users/ethanmarx/Documents/LSST/NUREU17/LSST/SuperNovaLightCurves/Lightcurve_class.py:204: RankWarning: Polyfit may be poorly conditioned\n",
      "  Coeffs = np.polyfit(time_del, flux_del, degree, w=flux_err_del)\n",
      "/Users/ethanmarx/Documents/LSST/NUREU17/LSST/SuperNovaLightCurves/Lightcurve_class.py:204: RankWarning: Polyfit may be poorly conditioned\n",
      "  Coeffs = np.polyfit(time_del, flux_del, degree, w=flux_err_del)\n",
      "/Users/ethanmarx/Documents/LSST/NUREU17/LSST/SuperNovaLightCurves/Lightcurve_class.py:204: RankWarning: Polyfit may be poorly conditioned\n",
      "  Coeffs = np.polyfit(time_del, flux_del, degree, w=flux_err_del)\n",
      "/Users/ethanmarx/Documents/LSST/NUREU17/LSST/SuperNovaLightCurves/Lightcurve_class.py:204: RankWarning: Polyfit may be poorly conditioned\n",
      "  Coeffs = np.polyfit(time_del, flux_del, degree, w=flux_err_del)\n"
     ]
    },
    {
     "name": "stdout",
     "output_type": "stream",
     "text": [
      "Gaia15abk\n"
     ]
    },
    {
     "name": "stderr",
     "output_type": "stream",
     "text": [
      "/Users/ethanmarx/anaconda/envs/NUREU17/lib/python3.6/site-packages/numpy/lib/function_base.py:3858: RuntimeWarning: Invalid value encountered in median\n",
      "  r = func(a, **kwargs)\n"
     ]
    }
   ],
   "source": [
    "SN2 = Supernovae(\"../../../OSC_data/JSON_data/sne-2010-2014-master/Gaia15abk.json\")\n",
    "SN2.load_LightCurves()\n",
    "SN2.load_fit_data()"
   ]
  },
  {
   "cell_type": "code",
   "execution_count": null,
   "metadata": {},
   "outputs": [],
   "source": []
  },
  {
   "cell_type": "code",
   "execution_count": 23,
   "metadata": {},
   "outputs": [
    {
     "name": "stdout",
     "output_type": "stream",
     "text": [
      "filter: g_3,4\n",
      "\n",
      "Summary Statistic:  {'polynomial_4': 30.999470828314411, 'polynomial_6': 9586.1715584222075, 'polynomial_8': 11838.291183537127, 'Kapernka': 14.7915402331601, 'Bazin': 15.099140382748498, 'GP_Real': nan, 'GP_Matern': nan} \n",
      "\n",
      "Number of good observations:  8 \n",
      "\n",
      "Flux predictions:  [ 0.68770089  0.68770089         nan         nan         nan         nan\n",
      "  0.68770089  0.68770089] \n",
      "\n",
      "filter: B_3,4\n",
      "\n",
      "Summary Statistic:  {} \n",
      "\n",
      "Number of good observations:  1 \n",
      "\n",
      "Flux predictions:  [] \n",
      "\n",
      "filter: V_3,4\n",
      "\n",
      "Summary Statistic:  {} \n",
      "\n",
      "Number of good observations:  1 \n",
      "\n",
      "Flux predictions:  [] \n",
      "\n",
      "filter: r_3,4\n",
      "\n",
      "Summary Statistic:  {} \n",
      "\n",
      "Number of good observations:  1 \n",
      "\n",
      "Flux predictions:  [] \n",
      "\n"
     ]
    }
   ],
   "source": [
    "'''Print the filter, summary statistics, number of good observations (anything with six or less should have been skipped),\n",
    " and the flux predictions array'''\n",
    "\n",
    "for filt in SN2.Lightcurves:\n",
    "    print(\"filter: \" + filt + \"\\n\")\n",
    "    print(\"Summary Statistic: \", SN2.Lightcurves[filt].Rchi2 ,\"\\n\" )\n",
    "    print(\"Number of good observations: \", SN2.Lightcurves[filt].n_good_obs, \"\\n\")\n",
    "    print(\"Flux predictions: \", SN2.Lightcurves[filt].flux_predicts, \"\\n\")"
   ]
  },
  {
   "cell_type": "code",
   "execution_count": null,
   "metadata": {},
   "outputs": [],
   "source": []
  },
  {
   "cell_type": "markdown",
   "metadata": {
    "collapsed": true
   },
   "source": [
    "## Example 3: Supernovae 'OGLE-2014-SN-080'"
   ]
  },
  {
   "cell_type": "code",
   "execution_count": 24,
   "metadata": {},
   "outputs": [
    {
     "name": "stdout",
     "output_type": "stream",
     "text": [
      "OGLE-2014-SN-080\n"
     ]
    },
    {
     "name": "stderr",
     "output_type": "stream",
     "text": [
      "/Users/ethanmarx/anaconda/envs/NUREU17/lib/python3.6/site-packages/numpy/lib/function_base.py:3858: RuntimeWarning: Invalid value encountered in median\n",
      "  r = func(a, **kwargs)\n"
     ]
    }
   ],
   "source": [
    "SN3 = Supernovae(\"../../../OSC_data/JSON_data/sne-2010-2014-master/OGLE-2014-SN-080.json\")\n",
    "SN3.load_LightCurves()\n",
    "SN3.load_fit_data()"
   ]
  },
  {
   "cell_type": "code",
   "execution_count": 25,
   "metadata": {},
   "outputs": [
    {
     "name": "stdout",
     "output_type": "stream",
     "text": [
      "filter: I_1,3\n",
      "\n",
      "Summary Statistic:  {'polynomial_4': 14.342619366923952, 'polynomial_6': 44.801541260213746, 'polynomial_8': 529.86861765552203, 'Kapernka': 2.3505121262970823, 'Bazin': 3.2284651715057762, 'GP_Real': nan, 'GP_Matern': nan} \n",
      "\n",
      "Number of good observations:  21 \n",
      "\n",
      "Flux predictions:  [ 0.36045582         nan         nan         nan         nan         nan\n",
      "         nan         nan         nan         nan         nan         nan\n",
      "         nan         nan         nan         nan         nan         nan\n",
      "         nan         nan  0.36045582] \n",
      "\n"
     ]
    }
   ],
   "source": [
    "'''Print the filter, summary statistics, number of good observations (anything with six or less should have been skipped),\n",
    " and the flux predictions array'''\n",
    "\n",
    "for filt in SN3.Lightcurves:\n",
    "    print(\"filter: \" + filt + \"\\n\")\n",
    "    print(\"Summary Statistic: \", SN3.Lightcurves[filt].Rchi2 ,\"\\n\" )\n",
    "    print(\"Number of good observations: \", SN3.Lightcurves[filt].n_good_obs, \"\\n\")\n",
    "    print(\"Flux predictions: \", SN3.Lightcurves[filt].flux_predicts, \"\\n\")"
   ]
  },
  {
   "cell_type": "markdown",
   "metadata": {},
   "source": [
    "## Example 4:  Supernovae 'OGLE-2014-SN-132'"
   ]
  },
  {
   "cell_type": "code",
   "execution_count": 26,
   "metadata": {},
   "outputs": [
    {
     "name": "stdout",
     "output_type": "stream",
     "text": [
      "OGLE-2014-SN-132\n"
     ]
    },
    {
     "name": "stderr",
     "output_type": "stream",
     "text": [
      "/Users/ethanmarx/anaconda/envs/NUREU17/lib/python3.6/site-packages/numpy/lib/function_base.py:3858: RuntimeWarning: Invalid value encountered in median\n",
      "  r = func(a, **kwargs)\n",
      "/Users/ethanmarx/anaconda/envs/NUREU17/lib/python3.6/site-packages/autograd/core.py:69: RuntimeWarning: overflow encountered in exp\n",
      "  result_value = self.fun(*argvals, **kwargs)\n",
      "/Users/ethanmarx/anaconda/envs/NUREU17/lib/python3.6/site-packages/celerite/terms.py:564: RuntimeWarning: invalid value encountered in double_scalars\n",
      "  return (w0*S0, w0*w0*S0/self.eps, w0, self.eps)\n"
     ]
    }
   ],
   "source": [
    "SN4 = Supernovae(\"../../../OSC_data/JSON_data/sne-2010-2014-master/OGLE-2014-SN-132.json\")\n",
    "SN4.load_LightCurves()\n",
    "SN4.load_fit_data()"
   ]
  },
  {
   "cell_type": "code",
   "execution_count": 28,
   "metadata": {},
   "outputs": [
    {
     "name": "stdout",
     "output_type": "stream",
     "text": [
      "filter: I_1,3\n",
      "\n",
      "Summary Statistic:  {'polynomial_4': 10.858259047376087, 'polynomial_6': 957.30098112392159, 'polynomial_8': 214429.74192860202, 'Kapernka': 2.5847078312576293, 'Bazin': 2.7900630365285717, 'GP_Real': nan, 'GP_Matern': nan} \n",
      "\n",
      "Number of good observations:  13 \n",
      "\n",
      "Flux predictions:  [ 0.52557146         nan         nan         nan         nan         nan\n",
      "         nan         nan         nan         nan         nan         nan\n",
      "  0.52557146] \n",
      "\n"
     ]
    }
   ],
   "source": [
    "'''Print the filter, summary statistics, number of good observations (anything with six or less should have been skipped),\n",
    " and the flux predictions array'''\n",
    "\n",
    "for filt in SN4.Lightcurves:\n",
    "    print(\"filter: \" + filt + \"\\n\")\n",
    "    print(\"Summary Statistic: \", SN4.Lightcurves[filt].Rchi2 ,\"\\n\" )\n",
    "    print(\"Number of good observations: \", SN4.Lightcurves[filt].n_good_obs, \"\\n\")\n",
    "    print(\"Flux predictions: \", SN4.Lightcurves[filt].flux_predicts, \"\\n\")"
   ]
  },
  {
   "cell_type": "markdown",
   "metadata": {},
   "source": [
    "## Example 5: Supernovae ''"
   ]
  },
  {
   "cell_type": "code",
   "execution_count": 29,
   "metadata": {},
   "outputs": [
    {
     "name": "stderr",
     "output_type": "stream",
     "text": [
      "/Users/ethanmarx/Documents/LSST/NUREU17/LSST/SuperNovaLightCurves/Lightcurve_class.py:204: RankWarning: Polyfit may be poorly conditioned\n",
      "  Coeffs = np.polyfit(time_del, flux_del, degree, w=flux_err_del)\n",
      "/Users/ethanmarx/Documents/LSST/NUREU17/LSST/SuperNovaLightCurves/Lightcurve_class.py:204: RankWarning: Polyfit may be poorly conditioned\n",
      "  Coeffs = np.polyfit(time_del, flux_del, degree, w=flux_err_del)\n",
      "/Users/ethanmarx/Documents/LSST/NUREU17/LSST/SuperNovaLightCurves/Lightcurve_class.py:204: RankWarning: Polyfit may be poorly conditioned\n",
      "  Coeffs = np.polyfit(time_del, flux_del, degree, w=flux_err_del)\n",
      "/Users/ethanmarx/Documents/LSST/NUREU17/LSST/SuperNovaLightCurves/Lightcurve_class.py:204: RankWarning: Polyfit may be poorly conditioned\n",
      "  Coeffs = np.polyfit(time_del, flux_del, degree, w=flux_err_del)\n",
      "/Users/ethanmarx/Documents/LSST/NUREU17/LSST/SuperNovaLightCurves/Lightcurve_class.py:204: RankWarning: Polyfit may be poorly conditioned\n",
      "  Coeffs = np.polyfit(time_del, flux_del, degree, w=flux_err_del)\n",
      "/Users/ethanmarx/Documents/LSST/NUREU17/LSST/SuperNovaLightCurves/Lightcurve_class.py:204: RankWarning: Polyfit may be poorly conditioned\n",
      "  Coeffs = np.polyfit(time_del, flux_del, degree, w=flux_err_del)\n",
      "/Users/ethanmarx/Documents/LSST/NUREU17/LSST/SuperNovaLightCurves/Lightcurve_class.py:204: RankWarning: Polyfit may be poorly conditioned\n",
      "  Coeffs = np.polyfit(time_del, flux_del, degree, w=flux_err_del)\n",
      "/Users/ethanmarx/Documents/LSST/NUREU17/LSST/SuperNovaLightCurves/Lightcurve_class.py:293: RankWarning: Polyfit may be poorly conditioned\n",
      "  Coeffs = np.polyfit(self.time, self.flux, degree, w=self.flux_err)\n",
      "/Users/ethanmarx/Documents/LSST/NUREU17/LSST/SuperNovaLightCurves/Lightcurve_class.py:204: RankWarning: Polyfit may be poorly conditioned\n",
      "  Coeffs = np.polyfit(time_del, flux_del, degree, w=flux_err_del)\n",
      "/Users/ethanmarx/Documents/LSST/NUREU17/LSST/SuperNovaLightCurves/Lightcurve_class.py:204: RankWarning: Polyfit may be poorly conditioned\n",
      "  Coeffs = np.polyfit(time_del, flux_del, degree, w=flux_err_del)\n",
      "/Users/ethanmarx/Documents/LSST/NUREU17/LSST/SuperNovaLightCurves/Lightcurve_class.py:204: RankWarning: Polyfit may be poorly conditioned\n",
      "  Coeffs = np.polyfit(time_del, flux_del, degree, w=flux_err_del)\n",
      "/Users/ethanmarx/Documents/LSST/NUREU17/LSST/SuperNovaLightCurves/Lightcurve_class.py:204: RankWarning: Polyfit may be poorly conditioned\n",
      "  Coeffs = np.polyfit(time_del, flux_del, degree, w=flux_err_del)\n",
      "/Users/ethanmarx/Documents/LSST/NUREU17/LSST/SuperNovaLightCurves/Lightcurve_class.py:204: RankWarning: Polyfit may be poorly conditioned\n",
      "  Coeffs = np.polyfit(time_del, flux_del, degree, w=flux_err_del)\n",
      "/Users/ethanmarx/Documents/LSST/NUREU17/LSST/SuperNovaLightCurves/Lightcurve_class.py:204: RankWarning: Polyfit may be poorly conditioned\n",
      "  Coeffs = np.polyfit(time_del, flux_del, degree, w=flux_err_del)\n",
      "/Users/ethanmarx/Documents/LSST/NUREU17/LSST/SuperNovaLightCurves/Lightcurve_class.py:204: RankWarning: Polyfit may be poorly conditioned\n",
      "  Coeffs = np.polyfit(time_del, flux_del, degree, w=flux_err_del)\n",
      "/Users/ethanmarx/anaconda/envs/NUREU17/lib/python3.6/site-packages/scipy/optimize/minpack.py:779: OptimizeWarning: Covariance of the parameters could not be estimated\n",
      "  category=OptimizeWarning)\n"
     ]
    },
    {
     "name": "stdout",
     "output_type": "stream",
     "text": [
      "PTF11bij\n"
     ]
    },
    {
     "name": "stderr",
     "output_type": "stream",
     "text": [
      "/Users/ethanmarx/anaconda/envs/NUREU17/lib/python3.6/site-packages/numpy/lib/function_base.py:3858: RuntimeWarning: Invalid value encountered in median\n",
      "  r = func(a, **kwargs)\n"
     ]
    }
   ],
   "source": [
    "SN5 = Supernovae(\"../../../OSC_data/JSON_data/sne-2010-2014-master/PTF11bij.json\")\n",
    "SN5.load_LightCurves()\n",
    "SN5.load_fit_data()"
   ]
  },
  {
   "cell_type": "code",
   "execution_count": 30,
   "metadata": {},
   "outputs": [
    {
     "name": "stdout",
     "output_type": "stream",
     "text": [
      "filter: g_2\n",
      "\n",
      "Summary Statistic:  {} \n",
      "\n",
      "Number of good observations:  4 \n",
      "\n",
      "Flux predictions:  [] \n",
      "\n",
      "filter: r_2\n",
      "\n",
      "Summary Statistic:  {'polynomial_4': 101148.09449976876, 'polynomial_6': 380137.44192828028, 'polynomial_8': 1708686.68678349, 'Kapernka': 2.2343819346462039, 'Bazin': 21.210296918519649, 'GP_Real': nan, 'GP_Matern': nan} \n",
      "\n",
      "Number of good observations:  7 \n",
      "\n",
      "Flux predictions:  [ 0.71539517         nan         nan         nan         nan         nan\n",
      "  0.71539517] \n",
      "\n",
      "filter: i_2\n",
      "\n",
      "Summary Statistic:  {} \n",
      "\n",
      "Number of good observations:  3 \n",
      "\n",
      "Flux predictions:  [] \n",
      "\n"
     ]
    }
   ],
   "source": [
    "'''Print the filter, summary statistics, number of good observations (anything with six or less should have been skipped),\n",
    " and the flux predictions array'''\n",
    "\n",
    "for filt in SN5.Lightcurves:\n",
    "    print(\"filter: \" + filt + \"\\n\")\n",
    "    print(\"Summary Statistic: \", SN5.Lightcurves[filt].Rchi2 ,\"\\n\" )\n",
    "    print(\"Number of good observations: \", SN5.Lightcurves[filt].n_good_obs, \"\\n\")\n",
    "    print(\"Flux predictions: \", SN5.Lightcurves[filt].flux_predicts, \"\\n\")"
   ]
  },
  {
   "cell_type": "code",
   "execution_count": null,
   "metadata": {},
   "outputs": [],
   "source": []
  },
  {
   "cell_type": "code",
   "execution_count": null,
   "metadata": {
    "collapsed": true
   },
   "outputs": [],
   "source": []
  },
  {
   "cell_type": "code",
   "execution_count": null,
   "metadata": {
    "collapsed": true
   },
   "outputs": [],
   "source": []
  }
 ],
 "metadata": {
  "kernelspec": {
   "display_name": "Python 3",
   "language": "python",
   "name": "python3"
  },
  "language_info": {
   "codemirror_mode": {
    "name": "ipython",
    "version": 3
   },
   "file_extension": ".py",
   "mimetype": "text/x-python",
   "name": "python",
   "nbconvert_exporter": "python",
   "pygments_lexer": "ipython3",
   "version": "3.6.1"
  }
 },
 "nbformat": 4,
 "nbformat_minor": 2
}
