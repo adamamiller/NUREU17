{
 "cells": [
  {
   "cell_type": "markdown",
   "metadata": {},
   "source": [
    "### Objective:\n",
    "\n",
    "1. Using the data for redshift = 0.01 (z = 0.01), I would like for you to plot the light curve in the \"i\" band. \n",
    "\n",
    "2. Once you accomplish that, I would like for you to plot the light curve of the same source in apparent magnitude. Hint - you'll need to convert from redshift to distance and then convert from distance to distance modulus.\n",
    "\n",
    "To accomplish this goal, I will be using data from the NS-NS compact binary APR4-1215. That bands with which the light curves will be calculated are the u, g, r, i, and z bands."
   ]
  },
  {
   "cell_type": "code",
<<<<<<< HEAD
   "execution_count": 2,
=======
   "execution_count": 3,
>>>>>>> c8d74a3... Updated the code to include both photometric bands and redshift as varrables for the function app_mag.
   "metadata": {
    "collapsed": true
   },
   "outputs": [],
   "source": [
    "#in order to product the proper plots and calculations, I will need matplotlib, numpy, pandas, and astropy.\n",
    "%matplotlib inline\n",
    "import matplotlib.pyplot as plt\n",
    "import numpy as np\n",
    "import pandas as pd\n",
    "import astropy as astro"
   ]
  },
  {
   "cell_type": "code",
<<<<<<< HEAD
   "execution_count": 6,
=======
   "execution_count": 4,
>>>>>>> c8d74a3... Updated the code to include both photometric bands and redshift as varrables for the function app_mag.
   "metadata": {},
   "outputs": [
    {
     "data": {
      "text/html": [
       "<div>\n",
       "<style>\n",
       "    .dataframe thead tr:only-child th {\n",
       "        text-align: right;\n",
       "    }\n",
       "\n",
       "    .dataframe thead th {\n",
       "        text-align: left;\n",
       "    }\n",
       "\n",
       "    .dataframe tbody tr th {\n",
       "        vertical-align: top;\n",
       "    }\n",
       "</style>\n",
       "<table border=\"1\" class=\"dataframe\">\n",
       "  <thead>\n",
       "    <tr style=\"text-align: right;\">\n",
       "      <th></th>\n",
       "      <th>day</th>\n",
       "      <th>u</th>\n",
       "      <th>g</th>\n",
       "      <th>r</th>\n",
       "      <th>i</th>\n",
       "      <th>z</th>\n",
       "      <th>J</th>\n",
       "      <th>H</th>\n",
       "      <th>K</th>\n",
       "    </tr>\n",
       "  </thead>\n",
       "  <tbody>\n",
       "    <tr>\n",
       "      <th>0</th>\n",
       "      <td>1.06</td>\n",
       "      <td>-8.76</td>\n",
       "      <td>-10.54</td>\n",
       "      <td>-12.29</td>\n",
       "      <td>-13.91</td>\n",
       "      <td>-14.75</td>\n",
       "      <td>-14.08</td>\n",
       "      <td>-12.78</td>\n",
       "      <td>-11.85</td>\n",
       "    </tr>\n",
       "    <tr>\n",
       "      <th>1</th>\n",
       "      <td>1.19</td>\n",
       "      <td>-8.35</td>\n",
       "      <td>-10.36</td>\n",
       "      <td>-12.23</td>\n",
       "      <td>-13.86</td>\n",
       "      <td>-14.77</td>\n",
       "      <td>-14.08</td>\n",
       "      <td>-12.61</td>\n",
       "      <td>-11.67</td>\n",
       "    </tr>\n",
       "    <tr>\n",
       "      <th>2</th>\n",
       "      <td>1.33</td>\n",
       "      <td>-7.98</td>\n",
       "      <td>-10.15</td>\n",
       "      <td>-12.14</td>\n",
       "      <td>-13.81</td>\n",
       "      <td>-14.77</td>\n",
       "      <td>-14.09</td>\n",
       "      <td>-12.37</td>\n",
       "      <td>-11.14</td>\n",
       "    </tr>\n",
       "    <tr>\n",
       "      <th>3</th>\n",
       "      <td>1.50</td>\n",
       "      <td>-7.46</td>\n",
       "      <td>-9.95</td>\n",
       "      <td>-12.04</td>\n",
       "      <td>-13.74</td>\n",
       "      <td>-14.75</td>\n",
       "      <td>-14.12</td>\n",
       "      <td>-12.28</td>\n",
       "      <td>-10.68</td>\n",
       "    </tr>\n",
       "    <tr>\n",
       "      <th>4</th>\n",
       "      <td>1.68</td>\n",
       "      <td>-7.03</td>\n",
       "      <td>-9.66</td>\n",
       "      <td>-11.88</td>\n",
       "      <td>-13.65</td>\n",
       "      <td>-14.71</td>\n",
       "      <td>-14.17</td>\n",
       "      <td>-12.47</td>\n",
       "      <td>-10.55</td>\n",
       "    </tr>\n",
       "    <tr>\n",
       "      <th>5</th>\n",
       "      <td>1.88</td>\n",
       "      <td>-6.5</td>\n",
       "      <td>-9.34</td>\n",
       "      <td>-11.71</td>\n",
       "      <td>-13.53</td>\n",
       "      <td>-14.65</td>\n",
       "      <td>-14.20</td>\n",
       "      <td>-12.71</td>\n",
       "      <td>-10.87</td>\n",
       "    </tr>\n",
       "    <tr>\n",
       "      <th>6</th>\n",
       "      <td>2.11</td>\n",
       "      <td>-5.71</td>\n",
       "      <td>-9.05</td>\n",
       "      <td>-11.55</td>\n",
       "      <td>-13.41</td>\n",
       "      <td>-14.57</td>\n",
       "      <td>-14.24</td>\n",
       "      <td>-12.98</td>\n",
       "      <td>-11.27</td>\n",
       "    </tr>\n",
       "    <tr>\n",
       "      <th>7</th>\n",
       "      <td>2.37</td>\n",
       "      <td>-5.16</td>\n",
       "      <td>-8.60</td>\n",
       "      <td>-11.30</td>\n",
       "      <td>-13.26</td>\n",
       "      <td>-14.45</td>\n",
       "      <td>-14.26</td>\n",
       "      <td>-13.20</td>\n",
       "      <td>-11.66</td>\n",
       "    </tr>\n",
       "    <tr>\n",
       "      <th>8</th>\n",
       "      <td>2.66</td>\n",
       "      <td>-4.54</td>\n",
       "      <td>-8.06</td>\n",
       "      <td>-11.02</td>\n",
       "      <td>-13.08</td>\n",
       "      <td>-14.30</td>\n",
       "      <td>-14.30</td>\n",
       "      <td>-13.43</td>\n",
       "      <td>-12.16</td>\n",
       "    </tr>\n",
       "    <tr>\n",
       "      <th>9</th>\n",
       "      <td>2.99</td>\n",
       "      <td>-3.19</td>\n",
       "      <td>-7.66</td>\n",
       "      <td>-10.75</td>\n",
       "      <td>-12.89</td>\n",
       "      <td>-14.14</td>\n",
       "      <td>-14.35</td>\n",
       "      <td>-13.57</td>\n",
       "      <td>-12.57</td>\n",
       "    </tr>\n",
       "    <tr>\n",
       "      <th>10</th>\n",
       "      <td>3.35</td>\n",
       "      <td>-2.82</td>\n",
       "      <td>-7.02</td>\n",
       "      <td>-10.38</td>\n",
       "      <td>-12.58</td>\n",
       "      <td>-13.96</td>\n",
       "      <td>-14.37</td>\n",
       "      <td>-13.64</td>\n",
       "      <td>-12.94</td>\n",
       "    </tr>\n",
       "    <tr>\n",
       "      <th>11</th>\n",
       "      <td>3.76</td>\n",
       "      <td>-2.64</td>\n",
       "      <td>-6.36</td>\n",
       "      <td>-9.90</td>\n",
       "      <td>-12.26</td>\n",
       "      <td>-13.76</td>\n",
       "      <td>-14.30</td>\n",
       "      <td>-13.63</td>\n",
       "      <td>-13.21</td>\n",
       "    </tr>\n",
       "    <tr>\n",
       "      <th>12</th>\n",
       "      <td>4.22</td>\n",
       "      <td>-0.48</td>\n",
       "      <td>-5.53</td>\n",
       "      <td>-9.43</td>\n",
       "      <td>-11.87</td>\n",
       "      <td>-13.56</td>\n",
       "      <td>-14.18</td>\n",
       "      <td>-13.57</td>\n",
       "      <td>-13.45</td>\n",
       "    </tr>\n",
       "    <tr>\n",
       "      <th>13</th>\n",
       "      <td>4.73</td>\n",
       "      <td>3.68</td>\n",
       "      <td>-4.83</td>\n",
       "      <td>-8.76</td>\n",
       "      <td>-11.36</td>\n",
       "      <td>-13.31</td>\n",
       "      <td>-13.99</td>\n",
       "      <td>-13.48</td>\n",
       "      <td>-13.69</td>\n",
       "    </tr>\n",
       "    <tr>\n",
       "      <th>14</th>\n",
       "      <td>5.31</td>\n",
       "      <td>#NAME?</td>\n",
       "      <td>-3.81</td>\n",
       "      <td>-8.02</td>\n",
       "      <td>-10.79</td>\n",
       "      <td>-12.96</td>\n",
       "      <td>-13.77</td>\n",
       "      <td>-13.42</td>\n",
       "      <td>-13.93</td>\n",
       "    </tr>\n",
       "    <tr>\n",
       "      <th>15</th>\n",
       "      <td>5.96</td>\n",
       "      <td>12.43</td>\n",
       "      <td>-2.81</td>\n",
       "      <td>-7.08</td>\n",
       "      <td>-10.21</td>\n",
       "      <td>-12.50</td>\n",
       "      <td>-13.52</td>\n",
       "      <td>-13.34</td>\n",
       "      <td>-14.10</td>\n",
       "    </tr>\n",
       "    <tr>\n",
       "      <th>16</th>\n",
       "      <td>6.68</td>\n",
       "      <td>#NAME?</td>\n",
       "      <td>-1.52</td>\n",
       "      <td>-6.29</td>\n",
       "      <td>-9.59</td>\n",
       "      <td>-11.94</td>\n",
       "      <td>-13.19</td>\n",
       "      <td>-13.26</td>\n",
       "      <td>-14.14</td>\n",
       "    </tr>\n",
       "    <tr>\n",
       "      <th>17</th>\n",
       "      <td>7.50</td>\n",
       "      <td>#NAME?</td>\n",
       "      <td>0.09</td>\n",
       "      <td>-5.11</td>\n",
       "      <td>-8.99</td>\n",
       "      <td>-11.30</td>\n",
       "      <td>-12.77</td>\n",
       "      <td>-13.11</td>\n",
       "      <td>-14.13</td>\n",
       "    </tr>\n",
       "    <tr>\n",
       "      <th>18</th>\n",
       "      <td>8.41</td>\n",
       "      <td>#NAME?</td>\n",
       "      <td>-1.50</td>\n",
       "      <td>-4.97</td>\n",
       "      <td>-8.32</td>\n",
       "      <td>-10.65</td>\n",
       "      <td>-12.24</td>\n",
       "      <td>-12.89</td>\n",
       "      <td>-14.07</td>\n",
       "    </tr>\n",
       "    <tr>\n",
       "      <th>19</th>\n",
       "      <td>9.44</td>\n",
       "      <td>-0.61</td>\n",
       "      <td>-0.81</td>\n",
       "      <td>-4.01</td>\n",
       "      <td>-7.60</td>\n",
       "      <td>-9.96</td>\n",
       "      <td>-11.71</td>\n",
       "      <td>-12.64</td>\n",
       "      <td>-14.00</td>\n",
       "    </tr>\n",
       "    <tr>\n",
       "      <th>20</th>\n",
       "      <td>10.59</td>\n",
       "      <td>#NAME?</td>\n",
       "      <td>0.82</td>\n",
       "      <td>-4.55</td>\n",
       "      <td>-6.83</td>\n",
       "      <td>-9.22</td>\n",
       "      <td>-11.19</td>\n",
       "      <td>-12.36</td>\n",
       "      <td>-13.90</td>\n",
       "    </tr>\n",
       "    <tr>\n",
       "      <th>21</th>\n",
       "      <td>11.89</td>\n",
       "      <td>#NAME?</td>\n",
       "      <td>0.03</td>\n",
       "      <td>-4.25</td>\n",
       "      <td>-6.30</td>\n",
       "      <td>-8.46</td>\n",
       "      <td>-10.70</td>\n",
       "      <td>-12.07</td>\n",
       "      <td>-13.77</td>\n",
       "    </tr>\n",
       "    <tr>\n",
       "      <th>22</th>\n",
       "      <td>13.34</td>\n",
       "      <td>#NAME?</td>\n",
       "      <td>-1.08</td>\n",
       "      <td>-4.61</td>\n",
       "      <td>-6.06</td>\n",
       "      <td>-7.75</td>\n",
       "      <td>-10.40</td>\n",
       "      <td>-11.83</td>\n",
       "      <td>-13.66</td>\n",
       "    </tr>\n",
       "    <tr>\n",
       "      <th>23</th>\n",
       "      <td>14.96</td>\n",
       "      <td>#NAME?</td>\n",
       "      <td>-1.22</td>\n",
       "      <td>-4.35</td>\n",
       "      <td>-5.86</td>\n",
       "      <td>-7.32</td>\n",
       "      <td>-10.11</td>\n",
       "      <td>-11.55</td>\n",
       "      <td>-13.50</td>\n",
       "    </tr>\n",
       "    <tr>\n",
       "      <th>24</th>\n",
       "      <td>16.79</td>\n",
       "      <td>#NAME?</td>\n",
       "      <td>6.83</td>\n",
       "      <td>-4.42</td>\n",
       "      <td>-5.76</td>\n",
       "      <td>-7.06</td>\n",
       "      <td>-9.89</td>\n",
       "      <td>-11.35</td>\n",
       "      <td>-13.32</td>\n",
       "    </tr>\n",
       "    <tr>\n",
       "      <th>25</th>\n",
       "      <td>18.84</td>\n",
       "      <td>#NAME?</td>\n",
       "      <td>2.19</td>\n",
       "      <td>-4.28</td>\n",
       "      <td>-5.72</td>\n",
       "      <td>-6.93</td>\n",
       "      <td>-9.74</td>\n",
       "      <td>-11.14</td>\n",
       "      <td>-13.18</td>\n",
       "    </tr>\n",
       "    <tr>\n",
       "      <th>26</th>\n",
       "      <td>21.13</td>\n",
       "      <td>#NAME?</td>\n",
       "      <td>-1.11</td>\n",
       "      <td>-4.28</td>\n",
       "      <td>-5.75</td>\n",
       "      <td>-6.80</td>\n",
       "      <td>-9.67</td>\n",
       "      <td>-10.94</td>\n",
       "      <td>-13.09</td>\n",
       "    </tr>\n",
       "    <tr>\n",
       "      <th>27</th>\n",
       "      <td>23.71</td>\n",
       "      <td>#NAME?</td>\n",
       "      <td>4.10</td>\n",
       "      <td>-4.22</td>\n",
       "      <td>-5.62</td>\n",
       "      <td>-6.67</td>\n",
       "      <td>-9.48</td>\n",
       "      <td>-10.70</td>\n",
       "      <td>-12.95</td>\n",
       "    </tr>\n",
       "    <tr>\n",
       "      <th>28</th>\n",
       "      <td>26.61</td>\n",
       "      <td>#NAME?</td>\n",
       "      <td>0.24</td>\n",
       "      <td>-4.57</td>\n",
       "      <td>-5.78</td>\n",
       "      <td>-6.67</td>\n",
       "      <td>-9.29</td>\n",
       "      <td>-10.51</td>\n",
       "      <td>-12.79</td>\n",
       "    </tr>\n",
       "    <tr>\n",
       "      <th>29</th>\n",
       "      <td>29.85</td>\n",
       "      <td>#NAME?</td>\n",
       "      <td>0.26</td>\n",
       "      <td>-4.82</td>\n",
       "      <td>-5.71</td>\n",
       "      <td>-6.49</td>\n",
       "      <td>-9.17</td>\n",
       "      <td>-10.32</td>\n",
       "      <td>-12.67</td>\n",
       "    </tr>\n",
       "  </tbody>\n",
       "</table>\n",
       "</div>"
      ],
      "text/plain": [
       "      day       u      g      r      i      z      J      H      K\n",
       "0    1.06   -8.76 -10.54 -12.29 -13.91 -14.75 -14.08 -12.78 -11.85\n",
       "1    1.19   -8.35 -10.36 -12.23 -13.86 -14.77 -14.08 -12.61 -11.67\n",
       "2    1.33   -7.98 -10.15 -12.14 -13.81 -14.77 -14.09 -12.37 -11.14\n",
       "3    1.50   -7.46  -9.95 -12.04 -13.74 -14.75 -14.12 -12.28 -10.68\n",
       "4    1.68   -7.03  -9.66 -11.88 -13.65 -14.71 -14.17 -12.47 -10.55\n",
       "5    1.88    -6.5  -9.34 -11.71 -13.53 -14.65 -14.20 -12.71 -10.87\n",
       "6    2.11   -5.71  -9.05 -11.55 -13.41 -14.57 -14.24 -12.98 -11.27\n",
       "7    2.37   -5.16  -8.60 -11.30 -13.26 -14.45 -14.26 -13.20 -11.66\n",
       "8    2.66   -4.54  -8.06 -11.02 -13.08 -14.30 -14.30 -13.43 -12.16\n",
       "9    2.99   -3.19  -7.66 -10.75 -12.89 -14.14 -14.35 -13.57 -12.57\n",
       "10   3.35   -2.82  -7.02 -10.38 -12.58 -13.96 -14.37 -13.64 -12.94\n",
       "11   3.76   -2.64  -6.36  -9.90 -12.26 -13.76 -14.30 -13.63 -13.21\n",
       "12   4.22   -0.48  -5.53  -9.43 -11.87 -13.56 -14.18 -13.57 -13.45\n",
       "13   4.73    3.68  -4.83  -8.76 -11.36 -13.31 -13.99 -13.48 -13.69\n",
       "14   5.31  #NAME?  -3.81  -8.02 -10.79 -12.96 -13.77 -13.42 -13.93\n",
       "15   5.96   12.43  -2.81  -7.08 -10.21 -12.50 -13.52 -13.34 -14.10\n",
       "16   6.68  #NAME?  -1.52  -6.29  -9.59 -11.94 -13.19 -13.26 -14.14\n",
       "17   7.50  #NAME?   0.09  -5.11  -8.99 -11.30 -12.77 -13.11 -14.13\n",
       "18   8.41  #NAME?  -1.50  -4.97  -8.32 -10.65 -12.24 -12.89 -14.07\n",
       "19   9.44   -0.61  -0.81  -4.01  -7.60  -9.96 -11.71 -12.64 -14.00\n",
       "20  10.59  #NAME?   0.82  -4.55  -6.83  -9.22 -11.19 -12.36 -13.90\n",
       "21  11.89  #NAME?   0.03  -4.25  -6.30  -8.46 -10.70 -12.07 -13.77\n",
       "22  13.34  #NAME?  -1.08  -4.61  -6.06  -7.75 -10.40 -11.83 -13.66\n",
       "23  14.96  #NAME?  -1.22  -4.35  -5.86  -7.32 -10.11 -11.55 -13.50\n",
       "24  16.79  #NAME?   6.83  -4.42  -5.76  -7.06  -9.89 -11.35 -13.32\n",
       "25  18.84  #NAME?   2.19  -4.28  -5.72  -6.93  -9.74 -11.14 -13.18\n",
       "26  21.13  #NAME?  -1.11  -4.28  -5.75  -6.80  -9.67 -10.94 -13.09\n",
       "27  23.71  #NAME?   4.10  -4.22  -5.62  -6.67  -9.48 -10.70 -12.95\n",
       "28  26.61  #NAME?   0.24  -4.57  -5.78  -6.67  -9.29 -10.51 -12.79\n",
       "29  29.85  #NAME?   0.26  -4.82  -5.71  -6.49  -9.17 -10.32 -12.67"
      ]
     },
<<<<<<< HEAD
     "execution_count": 6,
=======
     "execution_count": 4,
>>>>>>> c8d74a3... Updated the code to include both photometric bands and redshift as varrables for the function app_mag.
     "metadata": {},
     "output_type": "execute_result"
    }
   ],
   "source": [
    "#retrieve the data of the absolute magnitudes of APR4-1215\n",
    "data = pd.read_csv(\"/Users/kristophermortensen/Desktop/CIERA REU 2017/APR4-1215.csv\")\n",
    "data"
   ]
  },
  {
   "cell_type": "code",
<<<<<<< HEAD
   "execution_count": 13,
   "metadata": {},
=======
   "execution_count": 8,
   "metadata": {
    "collapsed": true
   },
>>>>>>> c8d74a3... Updated the code to include both photometric bands and redshift as varrables for the function app_mag.
   "outputs": [],
   "source": [
    "#store the data for the day and magnitude measurements as 'day' and 'i_band' repectively.\n",
    "day = data.day\n",
    "day_u=day[0:14]\n",
    "u_band=pd.to_numeric(data.u[0:14])\n",
    "g_band=data.g\n",
    "r_band=data.r\n",
    "i_band=data.i\n",
    "z_band=data.z\n",
    "redshift=0.015"
   ]
  },
  {
   "cell_type": "code",
<<<<<<< HEAD
   "execution_count": 14,
=======
   "execution_count": 6,
>>>>>>> c8d74a3... Updated the code to include both photometric bands and redshift as varrables for the function app_mag.
   "metadata": {},
   "outputs": [
    {
     "data": {
      "text/plain": [
<<<<<<< HEAD
       "<matplotlib.legend.Legend at 0x11f5beb38>"
      ]
     },
     "execution_count": 14,
=======
       "<matplotlib.legend.Legend at 0x10d5027f0>"
      ]
     },
     "execution_count": 6,
>>>>>>> c8d74a3... Updated the code to include both photometric bands and redshift as varrables for the function app_mag.
     "metadata": {},
     "output_type": "execute_result"
    },
    {
     "data": {
      "image/png": "iVBORw0KGgoAAAANSUhEUgAAAcIAAAEWCAYAAAD1t5d8AAAABHNCSVQICAgIfAhkiAAAAAlwSFlz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\n",
      "text/plain": [
<<<<<<< HEAD
       "<matplotlib.figure.Figure at 0x11f587518>"
=======
       "<matplotlib.figure.Figure at 0x10d1db7f0>"
>>>>>>> c8d74a3... Updated the code to include both photometric bands and redshift as varrables for the function app_mag.
      ]
     },
     "metadata": {},
     "output_type": "display_data"
    }
   ],
   "source": [
    "#plot the absolute magnitudes of APR4-1215 as a function of time (measured in days).\n",
    "plt.plot(day_u, u_band, 'b', label='u')\n",
    "plt.plot(day, g_band, 'g', label='g')\n",
    "plt.plot(day, r_band, 'y', label='r')\n",
    "plt.plot(day, i_band, 'orange', label='i')\n",
    "plt.plot(day, z_band, 'r', label='z')\n",
    "plt.axis([0,35,10,-20])\n",
    "plt.title(\"Light Curve of APR4-1215 (NS-NS)\")\n",
    "plt.xlabel(\"Time (Days)\")\n",
    "plt.ylabel(\"Absolute Magnitude\")\n",
    "plt.legend(bbox_to_anchor=(1.05, 1), loc=2, borderaxespad=0.)"
   ]
  },
  {
   "cell_type": "code",
<<<<<<< HEAD
   "execution_count": 15,
   "metadata": {},
=======
   "execution_count": 7,
   "metadata": {
    "collapsed": true
   },
>>>>>>> c8d74a3... Updated the code to include both photometric bands and redshift as varrables for the function app_mag.
   "outputs": [],
   "source": [
    "from astropy.cosmology import WMAP9 as cosmo\n",
    "#app_mag: ListofNumbers -> ListofNumbers\n",
    "#converts all the absolute magnitudes into apparent magnitudes.\n",
    "def app_mag(data, redshift):\n",
    "    return 5*np.log10(lumo_dist(redshift)/10)+data\n",
    "\n",
    "#lumo_dist: Number -> Number\n",
<<<<<<< HEAD
    "#converts redshift into luminosity distance.\n",
=======
    "#converts redshift to luminosity distance\n",
>>>>>>> c8d74a3... Updated the code to include both photometric bands and redshift as varrables for the function app_mag.
    "def lumo_dist(redshift):\n",
    "    return cosmo.luminosity_distance(redshift).to(astro.units.pc).value"
   ]
  },
  {
   "cell_type": "code",
<<<<<<< HEAD
   "execution_count": 16,
=======
   "execution_count": 9,
>>>>>>> c8d74a3... Updated the code to include both photometric bands and redshift as varrables for the function app_mag.
   "metadata": {
    "collapsed": true
   },
   "outputs": [],
   "source": [
    "#convert all the absolute magnitudes into apparent magnitudes in the i band, and store it as i_new.\n",
    "u_new=app_mag(u_band, redshift)\n",
    "r_new=app_mag(r_band, redshift)\n",
    "g_new=app_mag(g_band, redshift)\n",
    "i_new=app_mag(i_band, redshift)\n",
    "z_new=app_mag(z_band, redshift)\n"
   ]
  },
  {
   "cell_type": "code",
<<<<<<< HEAD
   "execution_count": 17,
=======
   "execution_count": 12,
>>>>>>> c8d74a3... Updated the code to include both photometric bands and redshift as varrables for the function app_mag.
   "metadata": {
    "collapsed": true
   },
   "outputs": [],
   "source": [
<<<<<<< HEAD
    "#Minimum apparent magnitude that the LSST can observe in the sky.\n",
=======
    "#The farthest that LSST can see in apparent magnitude is 24.7.\n",
>>>>>>> c8d74a3... Updated the code to include both photometric bands and redshift as varrables for the function app_mag.
    "LSST=(day/day)-1+24.7"
   ]
  },
  {
   "cell_type": "code",
<<<<<<< HEAD
   "execution_count": 18,
=======
   "execution_count": 11,
>>>>>>> c8d74a3... Updated the code to include both photometric bands and redshift as varrables for the function app_mag.
   "metadata": {},
   "outputs": [
    {
     "data": {
      "text/plain": [
<<<<<<< HEAD
       "<matplotlib.legend.Legend at 0x11f7500b8>"
      ]
     },
     "execution_count": 18,
=======
       "<matplotlib.legend.Legend at 0x10ed305f8>"
      ]
     },
     "execution_count": 11,
>>>>>>> c8d74a3... Updated the code to include both photometric bands and redshift as varrables for the function app_mag.
     "metadata": {},
     "output_type": "execute_result"
    },
    {
     "data": {
      "image/png": "iVBORw0KGgoAAAANSUhEUgAAAcsAAAEWCAYAAAAJory2AAAABHNCSVQICAgIfAhkiAAAAAlwSFlz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\n",
      "text/plain": [
<<<<<<< HEAD
       "<matplotlib.figure.Figure at 0x11f694198>"
=======
       "<matplotlib.figure.Figure at 0x10eca0470>"
>>>>>>> c8d74a3... Updated the code to include both photometric bands and redshift as varrables for the function app_mag.
      ]
     },
     "metadata": {},
     "output_type": "display_data"
    }
   ],
   "source": [
    "#plot the apparent magnitudes as a function of time (measured in days).\n",
    "plt.plot(day_u, u_new, 'b', label='u')\n",
    "plt.plot(day, g_new, 'g', label='g')\n",
    "plt.plot(day, r_new, 'y', label='r')\n",
    "plt.plot(day, i_new, 'orange', label='i')\n",
    "plt.plot(day, z_new, 'r', label='z')\n",
    "plt.plot(day, LSST, 'purple', label='LSST')\n",
    "plt.axis([0,35,50,10])\n",
    "plt.title(\"Light Curve of APR4-1215 (NS-NS) with z=0.015\")\n",
    "plt.xlabel(\"Time (Days)\")\n",
    "plt.ylabel(\"Apparent Magnitude\")\n",
    "plt.legend(bbox_to_anchor=(1.05, 1), loc=2, borderaxespad=0.)"
   ]
  },
  {
   "cell_type": "markdown",
   "metadata": {},
   "source": [
    "#### Conclusion\n",
    "\n",
    "Looking at the apparent light curves of the five bands, it is clear that the near IR bands, LSST can detect the kilonova light curves for longer periods of time than the shorter wavelength bands. Even though the data comes from similations, this is key for LSST considering the time frame of these compact binaries. If LSST receives word that LIGO observed a source in a large map of the sky, the telescope will want to have as must time looking for this transient light before it is too far out of its reach. Therefore, according to this model, having the telescope look more in the near IR spectrum allows more time for the telescope to detect the NS-NS merger."
   ]
  }
 ],
 "metadata": {
  "kernelspec": {
   "display_name": "Python 3",
   "language": "python",
   "name": "python3"
  },
  "language_info": {
   "codemirror_mode": {
    "name": "ipython",
    "version": 3
   },
   "file_extension": ".py",
   "mimetype": "text/x-python",
   "name": "python",
   "nbconvert_exporter": "python",
   "pygments_lexer": "ipython3",
   "version": "3.6.1"
  }
 },
 "nbformat": 4,
 "nbformat_minor": 2
}
