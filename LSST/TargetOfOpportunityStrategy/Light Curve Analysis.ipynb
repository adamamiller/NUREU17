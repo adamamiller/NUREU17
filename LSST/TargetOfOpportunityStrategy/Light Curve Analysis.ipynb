{
 "cells": [
  {
   "cell_type": "markdown",
   "metadata": {},
   "source": [
    "### Objective:\n",
    "\n",
    "1. Using the data for redshift = 0.01 (z = 0.01), I would like for you to plot the light curve in the \"i\" band. \n",
    "\n",
    "2. Once you accomplish that, I would like for you to plot the light curve of the same source in apparent magnitude. Hint - you'll need to convert from redshift to distance and then convert from distance to distance modulus."
   ]
  },
  {
   "cell_type": "code",
   "execution_count": 47,
   "metadata": {},
   "outputs": [
    {
     "ename": "ModuleNotFoundError",
     "evalue": "No module named 'numericalunits'",
     "output_type": "error",
     "traceback": [
      "\u001b[0;31m---------------------------------------------------------------------------\u001b[0m",
      "\u001b[0;31mModuleNotFoundError\u001b[0m                       Traceback (most recent call last)",
      "\u001b[0;32m<ipython-input-47-4a45f6406c21>\u001b[0m in \u001b[0;36m<module>\u001b[0;34m()\u001b[0m\n\u001b[1;32m      4\u001b[0m \u001b[0;32mimport\u001b[0m \u001b[0mpandas\u001b[0m \u001b[0;32mas\u001b[0m \u001b[0mpd\u001b[0m\u001b[0;34m\u001b[0m\u001b[0m\n\u001b[1;32m      5\u001b[0m \u001b[0;32mimport\u001b[0m \u001b[0mastropy\u001b[0m \u001b[0;32mas\u001b[0m \u001b[0mastro\u001b[0m\u001b[0;34m\u001b[0m\u001b[0m\n\u001b[0;32m----> 6\u001b[0;31m \u001b[0;32mimport\u001b[0m \u001b[0mnumericalunits\u001b[0m \u001b[0;32mas\u001b[0m \u001b[0mnu\u001b[0m\u001b[0;34m\u001b[0m\u001b[0m\n\u001b[0m",
      "\u001b[0;31mModuleNotFoundError\u001b[0m: No module named 'numericalunits'"
     ]
    }
   ],
   "source": [
    "%matplotlib inline\n",
    "import matplotlib.pyplot as plt\n",
    "import numpy as np\n",
    "import pandas as pd\n",
    "import astropy as astro"
   ]
  },
  {
   "cell_type": "code",
   "execution_count": 165,
   "metadata": {
    "collapsed": true
   },
   "outputs": [],
   "source": [
    "data = pd.read_csv(\"/Users/kristophermortensen/Desktop/NS-NS_Light_Curve.csv\")"
   ]
  },
  {
   "cell_type": "code",
   "execution_count": 166,
   "metadata": {},
   "outputs": [
    {
     "data": {
      "text/html": [
       "<div>\n",
       "<style>\n",
       "    .dataframe thead tr:only-child th {\n",
       "        text-align: right;\n",
       "    }\n",
       "\n",
       "    .dataframe thead th {\n",
       "        text-align: left;\n",
       "    }\n",
       "\n",
       "    .dataframe tbody tr th {\n",
       "        vertical-align: top;\n",
       "    }\n",
       "</style>\n",
       "<table border=\"1\" class=\"dataframe\">\n",
       "  <thead>\n",
       "    <tr style=\"text-align: right;\">\n",
       "      <th></th>\n",
       "      <th>#redshift</th>\n",
       "      <th>day</th>\n",
       "      <th>u</th>\n",
       "      <th>g</th>\n",
       "      <th>r</th>\n",
       "      <th>i</th>\n",
       "      <th>z</th>\n",
       "      <th>J</th>\n",
       "      <th>H</th>\n",
       "      <th>K</th>\n",
       "    </tr>\n",
       "  </thead>\n",
       "  <tbody>\n",
       "    <tr>\n",
       "      <th>0</th>\n",
       "      <td>0.01</td>\n",
       "      <td>1.06</td>\n",
       "      <td>-8.67</td>\n",
       "      <td>-10.50</td>\n",
       "      <td>-12.21</td>\n",
       "      <td>-13.85</td>\n",
       "      <td>-14.74</td>\n",
       "      <td>-14.15</td>\n",
       "      <td>-12.82</td>\n",
       "      <td>-11.92</td>\n",
       "    </tr>\n",
       "    <tr>\n",
       "      <th>1</th>\n",
       "      <td>0.01</td>\n",
       "      <td>1.19</td>\n",
       "      <td>-8.27</td>\n",
       "      <td>-10.31</td>\n",
       "      <td>-12.14</td>\n",
       "      <td>-13.80</td>\n",
       "      <td>-14.76</td>\n",
       "      <td>-14.15</td>\n",
       "      <td>-12.64</td>\n",
       "      <td>-11.72</td>\n",
       "    </tr>\n",
       "    <tr>\n",
       "      <th>2</th>\n",
       "      <td>0.01</td>\n",
       "      <td>1.33</td>\n",
       "      <td>-7.88</td>\n",
       "      <td>-10.10</td>\n",
       "      <td>-12.04</td>\n",
       "      <td>-13.76</td>\n",
       "      <td>-14.75</td>\n",
       "      <td>-14.17</td>\n",
       "      <td>-12.42</td>\n",
       "      <td>-11.20</td>\n",
       "    </tr>\n",
       "    <tr>\n",
       "      <th>3</th>\n",
       "      <td>0.01</td>\n",
       "      <td>1.50</td>\n",
       "      <td>-7.35</td>\n",
       "      <td>-9.89</td>\n",
       "      <td>-11.95</td>\n",
       "      <td>-13.68</td>\n",
       "      <td>-14.72</td>\n",
       "      <td>-14.20</td>\n",
       "      <td>-12.35</td>\n",
       "      <td>-10.76</td>\n",
       "    </tr>\n",
       "    <tr>\n",
       "      <th>4</th>\n",
       "      <td>0.01</td>\n",
       "      <td>1.68</td>\n",
       "      <td>-6.91</td>\n",
       "      <td>-9.60</td>\n",
       "      <td>-11.79</td>\n",
       "      <td>-13.59</td>\n",
       "      <td>-14.68</td>\n",
       "      <td>-14.25</td>\n",
       "      <td>-12.52</td>\n",
       "      <td>-10.66</td>\n",
       "    </tr>\n",
       "    <tr>\n",
       "      <th>5</th>\n",
       "      <td>0.01</td>\n",
       "      <td>1.88</td>\n",
       "      <td>-6.38</td>\n",
       "      <td>-9.26</td>\n",
       "      <td>-11.61</td>\n",
       "      <td>-13.46</td>\n",
       "      <td>-14.62</td>\n",
       "      <td>-14.27</td>\n",
       "      <td>-12.77</td>\n",
       "      <td>-10.98</td>\n",
       "    </tr>\n",
       "    <tr>\n",
       "      <th>6</th>\n",
       "      <td>0.01</td>\n",
       "      <td>2.11</td>\n",
       "      <td>-5.58</td>\n",
       "      <td>-8.97</td>\n",
       "      <td>-11.45</td>\n",
       "      <td>-13.34</td>\n",
       "      <td>-14.53</td>\n",
       "      <td>-14.30</td>\n",
       "      <td>-13.03</td>\n",
       "      <td>-11.38</td>\n",
       "    </tr>\n",
       "    <tr>\n",
       "      <th>7</th>\n",
       "      <td>0.01</td>\n",
       "      <td>2.37</td>\n",
       "      <td>-5.02</td>\n",
       "      <td>-8.51</td>\n",
       "      <td>-11.20</td>\n",
       "      <td>-13.19</td>\n",
       "      <td>-14.41</td>\n",
       "      <td>-14.32</td>\n",
       "      <td>-13.24</td>\n",
       "      <td>-11.76</td>\n",
       "    </tr>\n",
       "    <tr>\n",
       "      <th>8</th>\n",
       "      <td>0.01</td>\n",
       "      <td>2.66</td>\n",
       "      <td>-4.4</td>\n",
       "      <td>-7.96</td>\n",
       "      <td>-10.92</td>\n",
       "      <td>-13.01</td>\n",
       "      <td>-14.26</td>\n",
       "      <td>-14.35</td>\n",
       "      <td>-13.47</td>\n",
       "      <td>-12.23</td>\n",
       "    </tr>\n",
       "    <tr>\n",
       "      <th>9</th>\n",
       "      <td>0.01</td>\n",
       "      <td>2.99</td>\n",
       "      <td>-3.07</td>\n",
       "      <td>-7.53</td>\n",
       "      <td>-10.64</td>\n",
       "      <td>-12.81</td>\n",
       "      <td>-14.10</td>\n",
       "      <td>-14.39</td>\n",
       "      <td>-13.60</td>\n",
       "      <td>-12.63</td>\n",
       "    </tr>\n",
       "    <tr>\n",
       "      <th>10</th>\n",
       "      <td>0.01</td>\n",
       "      <td>3.35</td>\n",
       "      <td>-2.62</td>\n",
       "      <td>-6.88</td>\n",
       "      <td>-10.27</td>\n",
       "      <td>-12.49</td>\n",
       "      <td>-13.91</td>\n",
       "      <td>-14.40</td>\n",
       "      <td>-13.66</td>\n",
       "      <td>-12.98</td>\n",
       "    </tr>\n",
       "    <tr>\n",
       "      <th>11</th>\n",
       "      <td>0.01</td>\n",
       "      <td>3.76</td>\n",
       "      <td>-2.68</td>\n",
       "      <td>-6.22</td>\n",
       "      <td>-9.79</td>\n",
       "      <td>-12.15</td>\n",
       "      <td>-13.71</td>\n",
       "      <td>-14.34</td>\n",
       "      <td>-13.65</td>\n",
       "      <td>-13.24</td>\n",
       "    </tr>\n",
       "    <tr>\n",
       "      <th>12</th>\n",
       "      <td>0.01</td>\n",
       "      <td>4.22</td>\n",
       "      <td>-0.48</td>\n",
       "      <td>-5.39</td>\n",
       "      <td>-9.31</td>\n",
       "      <td>-11.75</td>\n",
       "      <td>-13.50</td>\n",
       "      <td>-14.21</td>\n",
       "      <td>-13.59</td>\n",
       "      <td>-13.48</td>\n",
       "    </tr>\n",
       "    <tr>\n",
       "      <th>13</th>\n",
       "      <td>0.01</td>\n",
       "      <td>4.73</td>\n",
       "      <td>4.17</td>\n",
       "      <td>-4.70</td>\n",
       "      <td>-8.62</td>\n",
       "      <td>-11.24</td>\n",
       "      <td>-13.25</td>\n",
       "      <td>-14.01</td>\n",
       "      <td>-13.49</td>\n",
       "      <td>-13.72</td>\n",
       "    </tr>\n",
       "    <tr>\n",
       "      <th>14</th>\n",
       "      <td>0.01</td>\n",
       "      <td>5.31</td>\n",
       "      <td>#NAME?</td>\n",
       "      <td>-3.67</td>\n",
       "      <td>-7.86</td>\n",
       "      <td>-10.67</td>\n",
       "      <td>-12.88</td>\n",
       "      <td>-13.79</td>\n",
       "      <td>-13.43</td>\n",
       "      <td>-13.95</td>\n",
       "    </tr>\n",
       "    <tr>\n",
       "      <th>15</th>\n",
       "      <td>0.01</td>\n",
       "      <td>5.96</td>\n",
       "      <td>13.43</td>\n",
       "      <td>-2.74</td>\n",
       "      <td>-6.91</td>\n",
       "      <td>-10.09</td>\n",
       "      <td>-12.41</td>\n",
       "      <td>-13.52</td>\n",
       "      <td>-13.33</td>\n",
       "      <td>-14.10</td>\n",
       "    </tr>\n",
       "    <tr>\n",
       "      <th>16</th>\n",
       "      <td>0.01</td>\n",
       "      <td>6.68</td>\n",
       "      <td>#NAME?</td>\n",
       "      <td>-1.45</td>\n",
       "      <td>-6.10</td>\n",
       "      <td>-9.47</td>\n",
       "      <td>-11.85</td>\n",
       "      <td>-13.18</td>\n",
       "      <td>-13.25</td>\n",
       "      <td>-14.14</td>\n",
       "    </tr>\n",
       "    <tr>\n",
       "      <th>17</th>\n",
       "      <td>0.01</td>\n",
       "      <td>7.50</td>\n",
       "      <td>#NAME?</td>\n",
       "      <td>0.30</td>\n",
       "      <td>-4.99</td>\n",
       "      <td>-8.84</td>\n",
       "      <td>-11.22</td>\n",
       "      <td>-12.75</td>\n",
       "      <td>-13.10</td>\n",
       "      <td>-14.13</td>\n",
       "    </tr>\n",
       "    <tr>\n",
       "      <th>18</th>\n",
       "      <td>0.01</td>\n",
       "      <td>8.41</td>\n",
       "      <td>#NAME?</td>\n",
       "      <td>-1.19</td>\n",
       "      <td>-4.80</td>\n",
       "      <td>-8.18</td>\n",
       "      <td>-10.56</td>\n",
       "      <td>-12.21</td>\n",
       "      <td>-12.88</td>\n",
       "      <td>-14.06</td>\n",
       "    </tr>\n",
       "    <tr>\n",
       "      <th>19</th>\n",
       "      <td>0.01</td>\n",
       "      <td>9.44</td>\n",
       "      <td>-0.29</td>\n",
       "      <td>-0.51</td>\n",
       "      <td>-4.00</td>\n",
       "      <td>-7.41</td>\n",
       "      <td>-9.88</td>\n",
       "      <td>-11.69</td>\n",
       "      <td>-12.63</td>\n",
       "      <td>-13.99</td>\n",
       "    </tr>\n",
       "    <tr>\n",
       "      <th>20</th>\n",
       "      <td>0.01</td>\n",
       "      <td>10.59</td>\n",
       "      <td>#NAME?</td>\n",
       "      <td>1.96</td>\n",
       "      <td>-4.47</td>\n",
       "      <td>-6.66</td>\n",
       "      <td>-9.15</td>\n",
       "      <td>-11.16</td>\n",
       "      <td>-12.33</td>\n",
       "      <td>-13.88</td>\n",
       "    </tr>\n",
       "    <tr>\n",
       "      <th>21</th>\n",
       "      <td>0.01</td>\n",
       "      <td>11.89</td>\n",
       "      <td>#NAME?</td>\n",
       "      <td>0.85</td>\n",
       "      <td>-4.22</td>\n",
       "      <td>-6.18</td>\n",
       "      <td>-8.39</td>\n",
       "      <td>-10.67</td>\n",
       "      <td>-12.04</td>\n",
       "      <td>-13.75</td>\n",
       "    </tr>\n",
       "    <tr>\n",
       "      <th>22</th>\n",
       "      <td>0.01</td>\n",
       "      <td>13.34</td>\n",
       "      <td>#NAME?</td>\n",
       "      <td>-1.01</td>\n",
       "      <td>-4.58</td>\n",
       "      <td>-5.99</td>\n",
       "      <td>-7.68</td>\n",
       "      <td>-10.37</td>\n",
       "      <td>-11.78</td>\n",
       "      <td>-13.64</td>\n",
       "    </tr>\n",
       "    <tr>\n",
       "      <th>23</th>\n",
       "      <td>0.01</td>\n",
       "      <td>14.96</td>\n",
       "      <td>#NAME?</td>\n",
       "      <td>-1.14</td>\n",
       "      <td>-4.28</td>\n",
       "      <td>-5.77</td>\n",
       "      <td>-7.25</td>\n",
       "      <td>-10.07</td>\n",
       "      <td>-11.50</td>\n",
       "      <td>-13.48</td>\n",
       "    </tr>\n",
       "    <tr>\n",
       "      <th>24</th>\n",
       "      <td>0.01</td>\n",
       "      <td>16.79</td>\n",
       "      <td>#NAME?</td>\n",
       "      <td>9.28</td>\n",
       "      <td>-4.33</td>\n",
       "      <td>-5.70</td>\n",
       "      <td>-6.98</td>\n",
       "      <td>-9.85</td>\n",
       "      <td>-11.29</td>\n",
       "      <td>-13.30</td>\n",
       "    </tr>\n",
       "    <tr>\n",
       "      <th>25</th>\n",
       "      <td>0.01</td>\n",
       "      <td>18.84</td>\n",
       "      <td>#NAME?</td>\n",
       "      <td>3.13</td>\n",
       "      <td>-4.20</td>\n",
       "      <td>-5.65</td>\n",
       "      <td>-6.89</td>\n",
       "      <td>-9.71</td>\n",
       "      <td>-11.09</td>\n",
       "      <td>-13.16</td>\n",
       "    </tr>\n",
       "    <tr>\n",
       "      <th>26</th>\n",
       "      <td>0.01</td>\n",
       "      <td>21.13</td>\n",
       "      <td>#NAME?</td>\n",
       "      <td>-1.13</td>\n",
       "      <td>-4.22</td>\n",
       "      <td>-5.72</td>\n",
       "      <td>-6.76</td>\n",
       "      <td>-9.63</td>\n",
       "      <td>-10.88</td>\n",
       "      <td>-13.06</td>\n",
       "    </tr>\n",
       "    <tr>\n",
       "      <th>27</th>\n",
       "      <td>0.01</td>\n",
       "      <td>23.71</td>\n",
       "      <td>#NAME?</td>\n",
       "      <td>4.99</td>\n",
       "      <td>-4.10</td>\n",
       "      <td>-5.61</td>\n",
       "      <td>-6.62</td>\n",
       "      <td>-9.44</td>\n",
       "      <td>-10.63</td>\n",
       "      <td>-12.92</td>\n",
       "    </tr>\n",
       "    <tr>\n",
       "      <th>28</th>\n",
       "      <td>0.01</td>\n",
       "      <td>26.61</td>\n",
       "      <td>#NAME?</td>\n",
       "      <td>0.24</td>\n",
       "      <td>-4.46</td>\n",
       "      <td>-5.75</td>\n",
       "      <td>-6.63</td>\n",
       "      <td>-9.25</td>\n",
       "      <td>-10.45</td>\n",
       "      <td>-12.76</td>\n",
       "    </tr>\n",
       "    <tr>\n",
       "      <th>29</th>\n",
       "      <td>0.01</td>\n",
       "      <td>29.85</td>\n",
       "      <td>#NAME?</td>\n",
       "      <td>0.98</td>\n",
       "      <td>-4.78</td>\n",
       "      <td>-5.71</td>\n",
       "      <td>-6.44</td>\n",
       "      <td>-9.14</td>\n",
       "      <td>-10.26</td>\n",
       "      <td>-12.65</td>\n",
       "    </tr>\n",
       "  </tbody>\n",
       "</table>\n",
       "</div>"
      ],
      "text/plain": [
       "    #redshift    day       u      g      r      i      z      J      H      K\n",
       "0        0.01   1.06   -8.67 -10.50 -12.21 -13.85 -14.74 -14.15 -12.82 -11.92\n",
       "1        0.01   1.19   -8.27 -10.31 -12.14 -13.80 -14.76 -14.15 -12.64 -11.72\n",
       "2        0.01   1.33   -7.88 -10.10 -12.04 -13.76 -14.75 -14.17 -12.42 -11.20\n",
       "3        0.01   1.50   -7.35  -9.89 -11.95 -13.68 -14.72 -14.20 -12.35 -10.76\n",
       "4        0.01   1.68   -6.91  -9.60 -11.79 -13.59 -14.68 -14.25 -12.52 -10.66\n",
       "5        0.01   1.88   -6.38  -9.26 -11.61 -13.46 -14.62 -14.27 -12.77 -10.98\n",
       "6        0.01   2.11   -5.58  -8.97 -11.45 -13.34 -14.53 -14.30 -13.03 -11.38\n",
       "7        0.01   2.37   -5.02  -8.51 -11.20 -13.19 -14.41 -14.32 -13.24 -11.76\n",
       "8        0.01   2.66    -4.4  -7.96 -10.92 -13.01 -14.26 -14.35 -13.47 -12.23\n",
       "9        0.01   2.99   -3.07  -7.53 -10.64 -12.81 -14.10 -14.39 -13.60 -12.63\n",
       "10       0.01   3.35   -2.62  -6.88 -10.27 -12.49 -13.91 -14.40 -13.66 -12.98\n",
       "11       0.01   3.76   -2.68  -6.22  -9.79 -12.15 -13.71 -14.34 -13.65 -13.24\n",
       "12       0.01   4.22   -0.48  -5.39  -9.31 -11.75 -13.50 -14.21 -13.59 -13.48\n",
       "13       0.01   4.73    4.17  -4.70  -8.62 -11.24 -13.25 -14.01 -13.49 -13.72\n",
       "14       0.01   5.31  #NAME?  -3.67  -7.86 -10.67 -12.88 -13.79 -13.43 -13.95\n",
       "15       0.01   5.96   13.43  -2.74  -6.91 -10.09 -12.41 -13.52 -13.33 -14.10\n",
       "16       0.01   6.68  #NAME?  -1.45  -6.10  -9.47 -11.85 -13.18 -13.25 -14.14\n",
       "17       0.01   7.50  #NAME?   0.30  -4.99  -8.84 -11.22 -12.75 -13.10 -14.13\n",
       "18       0.01   8.41  #NAME?  -1.19  -4.80  -8.18 -10.56 -12.21 -12.88 -14.06\n",
       "19       0.01   9.44   -0.29  -0.51  -4.00  -7.41  -9.88 -11.69 -12.63 -13.99\n",
       "20       0.01  10.59  #NAME?   1.96  -4.47  -6.66  -9.15 -11.16 -12.33 -13.88\n",
       "21       0.01  11.89  #NAME?   0.85  -4.22  -6.18  -8.39 -10.67 -12.04 -13.75\n",
       "22       0.01  13.34  #NAME?  -1.01  -4.58  -5.99  -7.68 -10.37 -11.78 -13.64\n",
       "23       0.01  14.96  #NAME?  -1.14  -4.28  -5.77  -7.25 -10.07 -11.50 -13.48\n",
       "24       0.01  16.79  #NAME?   9.28  -4.33  -5.70  -6.98  -9.85 -11.29 -13.30\n",
       "25       0.01  18.84  #NAME?   3.13  -4.20  -5.65  -6.89  -9.71 -11.09 -13.16\n",
       "26       0.01  21.13  #NAME?  -1.13  -4.22  -5.72  -6.76  -9.63 -10.88 -13.06\n",
       "27       0.01  23.71  #NAME?   4.99  -4.10  -5.61  -6.62  -9.44 -10.63 -12.92\n",
       "28       0.01  26.61  #NAME?   0.24  -4.46  -5.75  -6.63  -9.25 -10.45 -12.76\n",
       "29       0.01  29.85  #NAME?   0.98  -4.78  -5.71  -6.44  -9.14 -10.26 -12.65"
      ]
     },
     "execution_count": 166,
     "metadata": {},
     "output_type": "execute_result"
    }
   ],
   "source": [
    "data\n",
    "#Note: #NAME? replaces '+inf' in the data."
   ]
  },
  {
   "cell_type": "code",
   "execution_count": 159,
   "metadata": {},
   "outputs": [],
   "source": [
    "day = data.day\n",
    "i_band = data.i"
   ]
  },
  {
   "cell_type": "code",
   "execution_count": 209,
   "metadata": {},
   "outputs": [
    {
     "data": {
      "text/plain": [
       "<matplotlib.text.Text at 0x11ae49e10>"
      ]
     },
     "execution_count": 209,
     "metadata": {},
     "output_type": "execute_result"
    },
    {
     "data": {
      "image/png": "[encoded data removed]",
      "text/plain": [
       "<matplotlib.figure.Figure at 0x11ae3ac18>"
      ]
     },
     "metadata": {},
     "output_type": "display_data"
    }
   ],
   "source": [
    "plt.plot(day,i_band, 'ro')\n",
    "plt.axis([0,35,0,-15])\n",
    "plt.title(\"i-band Light Curve of APR4-1215 (NS-NS) with z=0.01\")\n",
    "plt.xlabel(\"Time (Days)\")\n",
    "plt.ylabel(\"Magnitude\")"
   ]
  },
  {
   "cell_type": "code",
   "execution_count": 149,
   "metadata": {
    "collapsed": true
   },
   "outputs": [],
   "source": [
    "from astropy import constants as const"
   ]
  },
  {
   "cell_type": "code",
   "execution_count": 150,
   "metadata": {
    "collapsed": true
   },
   "outputs": [],
   "source": [
    "z=0.01\n",
    "#z_to_distance: number -> number\n",
    "#converts redshift to distance\n",
    "def z_to_distance(shift):\n",
    "    return const.c*(((1+shift)**2-1)/((1+shift)**2+1))\n",
    "vel=z_to_distance(z)"
   ]
  },
  {
   "cell_type": "code",
   "execution_count": 151,
   "metadata": {},
   "outputs": [
    {
     "data": {
      "text/latex": [
       "$2982935.7 \\; \\mathrm{\\frac{m}{s}}$"
      ],
      "text/plain": [
       "<Quantity 2982935.6991238063 m / s>"
      ]
     },
     "execution_count": 151,
     "metadata": {},
     "output_type": "execute_result"
    }
   ],
   "source": [
    "vel"
   ]
  },
  {
   "cell_type": "code",
   "execution_count": 152,
   "metadata": {},
   "outputs": [],
   "source": [
    "from astropy import units as u\n",
    "#Given that the Hubble Constant varies such that H_0=100h km s^-1 Mpc^-1 where 0.6 < h < 0.9, let h=0.7.\n",
    "h=0.7\n",
    "H_0=100*h*u.km/u.s/u.Mpc\n",
    "H_0=H_0.to(u.m/u.s/u.Mpc)\n",
    "D_h=const.c/H_0\n",
    "\n",
    "#vel_to_distance: Number -> Number\n",
    "#converts velocity to distance using Hubble's Law\n",
    "def vel_to_distance(velocity):\n",
    "    return (velocity*D_h)/const.c"
   ]
  },
  {
   "cell_type": "code",
   "execution_count": 153,
   "metadata": {},
   "outputs": [
    {
     "data": {
      "text/latex": [
       "$42.613367 \\; \\mathrm{Mpc}$"
      ],
      "text/plain": [
       "<Quantity 42.61336713034008 Mpc>"
      ]
     },
     "execution_count": 153,
     "metadata": {},
     "output_type": "execute_result"
    }
   ],
   "source": [
    "dist = vel_to_distance(vel)\n",
    "dist"
   ]
  },
  {
   "cell_type": "code",
   "execution_count": 154,
   "metadata": {},
   "outputs": [
    {
     "data": {
      "text/latex": [
       "$42613367 \\; \\mathrm{}$"
      ],
      "text/plain": [
       "<Quantity 42613367.13034008>"
      ]
     },
     "execution_count": 154,
     "metadata": {},
     "output_type": "execute_result"
    }
   ],
   "source": [
    "dist=dist.to(u.pc)\n",
    "dist=dist/u.pc\n",
    "dist"
   ]
  },
  {
   "cell_type": "code",
   "execution_count": 184,
   "metadata": {},
   "outputs": [],
   "source": [
    "i_band=data.i"
   ]
  },
  {
   "cell_type": "code",
   "execution_count": 199,
   "metadata": {},
   "outputs": [],
   "source": [
    "#app_mag: ListofNumbers -> ListofNumbers\n",
    "#converts all the absolute magnitudes into apparent magnitudes.\n",
    "def app_mag(data):\n",
    "    return 5*np.log10(dist/10)+data"
   ]
  },
  {
   "cell_type": "code",
   "execution_count": 202,
   "metadata": {},
   "outputs": [],
   "source": [
    "i_new=app_mag(i_band)"
   ]
  },
  {
   "cell_type": "code",
   "execution_count": 203,
   "metadata": {},
   "outputs": [
    {
     "data": {
      "text/latex": [
       "$[19.297729,~19.347729,~19.387729,~19.467729,~19.557729,~19.687729,~19.807729,~19.957729,~20.137729,~20.337729,~20.657729,~20.997729,~21.397729,~21.907729,~22.477729,~23.057729,~23.677729,~24.307729,~24.967729,~25.737729,~26.487729,~26.967729,~27.157729,~27.377729,~27.447729,~27.497729,~27.427729,~27.537729,~27.397729,~27.437729] \\; \\mathrm{}$"
      ],
      "text/plain": [
       "<Quantity [ 19.29772926, 19.34772926, 19.38772926, 19.46772926,\n",
       "            19.55772926, 19.68772926, 19.80772926, 19.95772926,\n",
       "            20.13772926, 20.33772926, 20.65772926, 20.99772926,\n",
       "            21.39772926, 21.90772926, 22.47772926, 23.05772926,\n",
       "            23.67772926, 24.30772926, 24.96772926, 25.73772926,\n",
       "            26.48772926, 26.96772926, 27.15772926, 27.37772926,\n",
       "            27.44772926, 27.49772926, 27.42772926, 27.53772926,\n",
       "            27.39772926, 27.43772926]>"
      ]
     },
     "execution_count": 203,
     "metadata": {},
     "output_type": "execute_result"
    }
   ],
   "source": [
    "i_new"
   ]
  },
  {
   "cell_type": "code",
   "execution_count": 208,
   "metadata": {},
   "outputs": [
    {
     "data": {
      "text/plain": [
       "<matplotlib.text.Text at 0x11ac84e48>"
      ]
     },
     "execution_count": 208,
     "metadata": {},
     "output_type": "execute_result"
    },
    {
     "data": {
      "image/png": "[encoded data removed]",
      "text/plain": [
       "<matplotlib.figure.Figure at 0x11ac90a90>"
      ]
     },
     "metadata": {},
     "output_type": "display_data"
    }
   ],
   "source": [
    "plt.plot(day, i_new, 'bo')\n",
    "plt.axis([0,35,30,10])\n",
    "plt.title(\"i-band Light Curve of APR4-1215 (NS-NS) with z=0.01\")\n",
    "plt.xlabel(\"Time (Days)\")\n",
    "plt.ylabel(\"Magnitude\")"
   ]
  },
  {
   "cell_type": "code",
   "execution_count": null,
   "metadata": {
    "collapsed": true
   },
   "outputs": [],
   "source": []
  }
 ],
 "metadata": {
  "kernelspec": {
   "display_name": "Python 3",
   "language": "python",
   "name": "python3"
  },
  "language_info": {
   "codemirror_mode": {
    "name": "ipython",
    "version": 3
   },
   "file_extension": ".py",
   "mimetype": "text/x-python",
   "name": "python",
   "nbconvert_exporter": "python",
   "pygments_lexer": "ipython3",
   "version": "3.6.1"
  }
 },
 "nbformat": 4,
 "nbformat_minor": 2
}
